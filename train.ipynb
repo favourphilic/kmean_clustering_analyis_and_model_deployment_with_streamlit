{
 "cells": [
  {
   "cell_type": "markdown",
   "metadata": {},
   "source": [
    "###"
   ]
  },
  {
   "cell_type": "markdown",
   "metadata": {},
   "source": [
    "### Import Required Library"
   ]
  },
  {
   "cell_type": "code",
   "execution_count": 1,
   "metadata": {},
   "outputs": [],
   "source": [
    "import pandas as pd\n",
    "import numpy as np\n",
    "import plotly.express as px\n",
    "import seaborn as sns\n",
    "import matplotlib.pyplot as plt\n",
    "from scipy.stats.mstats import trimmed_var\n",
    "from sklearn.cluster import KMeans\n",
    "from sklearn.decomposition import PCA\n",
    "from sklearn.metrics import silhouette_score\n",
    "from sklearn.pipeline import make_pipeline\n",
    "from sklearn.preprocessing import StandardScaler"
   ]
  },
  {
   "cell_type": "code",
   "execution_count": 28,
   "metadata": {},
   "outputs": [],
   "source": [
    "#load the survey dataset\n",
    "df = pd.read_csv('SCFP2022.csv')\n"
   ]
  },
  {
   "cell_type": "code",
   "execution_count": 29,
   "metadata": {},
   "outputs": [
    {
     "data": {
      "text/plain": [
       "(22975, 356)"
      ]
     },
     "execution_count": 29,
     "metadata": {},
     "output_type": "execute_result"
    }
   ],
   "source": [
    "df.shape"
   ]
  },
  {
   "cell_type": "markdown",
   "metadata": {},
   "source": [
    "* This dataset has over 300 variables, we only need just a few of this for our clustering excerise.\n",
    "* Let's filter our dataset to get only business owners and those with income less than $500_000"
   ]
  },
  {
   "cell_type": "code",
   "execution_count": 30,
   "metadata": {},
   "outputs": [
    {
     "data": {
      "text/html": [
       "<div>\n",
       "<style scoped>\n",
       "    .dataframe tbody tr th:only-of-type {\n",
       "        vertical-align: middle;\n",
       "    }\n",
       "\n",
       "    .dataframe tbody tr th {\n",
       "        vertical-align: top;\n",
       "    }\n",
       "\n",
       "    .dataframe thead th {\n",
       "        text-align: right;\n",
       "    }\n",
       "</style>\n",
       "<table border=\"1\" class=\"dataframe\">\n",
       "  <thead>\n",
       "    <tr style=\"text-align: right;\">\n",
       "      <th></th>\n",
       "      <th>YY1</th>\n",
       "      <th>Y1</th>\n",
       "      <th>WGT</th>\n",
       "      <th>HHSEX</th>\n",
       "      <th>AGE</th>\n",
       "      <th>AGECL</th>\n",
       "      <th>EDUC</th>\n",
       "      <th>EDCL</th>\n",
       "      <th>MARRIED</th>\n",
       "      <th>KIDS</th>\n",
       "      <th>...</th>\n",
       "      <th>NWCAT</th>\n",
       "      <th>INCCAT</th>\n",
       "      <th>ASSETCAT</th>\n",
       "      <th>NINCCAT</th>\n",
       "      <th>NINC2CAT</th>\n",
       "      <th>NWPCTLECAT</th>\n",
       "      <th>INCPCTLECAT</th>\n",
       "      <th>NINCPCTLECAT</th>\n",
       "      <th>INCQRTCAT</th>\n",
       "      <th>NINCQRTCAT</th>\n",
       "    </tr>\n",
       "  </thead>\n",
       "  <tbody>\n",
       "    <tr>\n",
       "      <th>0</th>\n",
       "      <td>1</td>\n",
       "      <td>11</td>\n",
       "      <td>3027.956120</td>\n",
       "      <td>2</td>\n",
       "      <td>70</td>\n",
       "      <td>5</td>\n",
       "      <td>9</td>\n",
       "      <td>3</td>\n",
       "      <td>2</td>\n",
       "      <td>2</td>\n",
       "      <td>...</td>\n",
       "      <td>4</td>\n",
       "      <td>2</td>\n",
       "      <td>4</td>\n",
       "      <td>2</td>\n",
       "      <td>1</td>\n",
       "      <td>8</td>\n",
       "      <td>3</td>\n",
       "      <td>3</td>\n",
       "      <td>2</td>\n",
       "      <td>1</td>\n",
       "    </tr>\n",
       "    <tr>\n",
       "      <th>1</th>\n",
       "      <td>1</td>\n",
       "      <td>12</td>\n",
       "      <td>3054.900065</td>\n",
       "      <td>2</td>\n",
       "      <td>70</td>\n",
       "      <td>5</td>\n",
       "      <td>9</td>\n",
       "      <td>3</td>\n",
       "      <td>2</td>\n",
       "      <td>2</td>\n",
       "      <td>...</td>\n",
       "      <td>4</td>\n",
       "      <td>2</td>\n",
       "      <td>5</td>\n",
       "      <td>2</td>\n",
       "      <td>1</td>\n",
       "      <td>8</td>\n",
       "      <td>3</td>\n",
       "      <td>3</td>\n",
       "      <td>2</td>\n",
       "      <td>1</td>\n",
       "    </tr>\n",
       "    <tr>\n",
       "      <th>2</th>\n",
       "      <td>1</td>\n",
       "      <td>13</td>\n",
       "      <td>3163.637766</td>\n",
       "      <td>2</td>\n",
       "      <td>70</td>\n",
       "      <td>5</td>\n",
       "      <td>9</td>\n",
       "      <td>3</td>\n",
       "      <td>2</td>\n",
       "      <td>2</td>\n",
       "      <td>...</td>\n",
       "      <td>4</td>\n",
       "      <td>2</td>\n",
       "      <td>4</td>\n",
       "      <td>2</td>\n",
       "      <td>1</td>\n",
       "      <td>8</td>\n",
       "      <td>3</td>\n",
       "      <td>3</td>\n",
       "      <td>1</td>\n",
       "      <td>1</td>\n",
       "    </tr>\n",
       "  </tbody>\n",
       "</table>\n",
       "<p>3 rows × 356 columns</p>\n",
       "</div>"
      ],
      "text/plain": [
       "   YY1  Y1          WGT  HHSEX  AGE  AGECL  EDUC  EDCL  MARRIED  KIDS  ...  \\\n",
       "0    1  11  3027.956120      2   70      5     9     3        2     2  ...   \n",
       "1    1  12  3054.900065      2   70      5     9     3        2     2  ...   \n",
       "2    1  13  3163.637766      2   70      5     9     3        2     2  ...   \n",
       "\n",
       "   NWCAT  INCCAT  ASSETCAT  NINCCAT  NINC2CAT  NWPCTLECAT  INCPCTLECAT  \\\n",
       "0      4       2         4        2         1           8            3   \n",
       "1      4       2         5        2         1           8            3   \n",
       "2      4       2         4        2         1           8            3   \n",
       "\n",
       "   NINCPCTLECAT  INCQRTCAT  NINCQRTCAT  \n",
       "0             3          2           1  \n",
       "1             3          2           1  \n",
       "2             3          1           1  \n",
       "\n",
       "[3 rows x 356 columns]"
      ]
     },
     "execution_count": 30,
     "metadata": {},
     "output_type": "execute_result"
    }
   ],
   "source": [
    "df.head(3)"
   ]
  },
  {
   "cell_type": "code",
   "execution_count": 5,
   "metadata": {},
   "outputs": [
    {
     "data": {
      "text/plain": [
       "HBUS\n",
       "0    0.722046\n",
       "1    0.277954\n",
       "Name: proportion, dtype: float64"
      ]
     },
     "execution_count": 5,
     "metadata": {},
     "output_type": "execute_result"
    }
   ],
   "source": [
    "# Check the proportion of business owner\n",
    "buss_owner= df.HBUS.value_counts(normalize=True)\n",
    "buss_owner"
   ]
  },
  {
   "cell_type": "markdown",
   "metadata": {},
   "source": [
    "* They are approximately 28% of the entire survey."
   ]
  },
  {
   "cell_type": "code",
   "execution_count": 6,
   "metadata": {},
   "outputs": [
    {
     "data": {
      "text/plain": [
       "0        38804.734469\n",
       "1        38264.278557\n",
       "2        36102.454910\n",
       "3        33508.266533\n",
       "4        35561.998998\n",
       "             ...     \n",
       "22970    38912.825651\n",
       "22971    33508.266533\n",
       "22972    38912.825651\n",
       "22973    38912.825651\n",
       "22974    35670.090180\n",
       "Name: INCOME, Length: 22975, dtype: float64"
      ]
     },
     "execution_count": 6,
     "metadata": {},
     "output_type": "execute_result"
    }
   ],
   "source": [
    "df['INCOME']"
   ]
  },
  {
   "cell_type": "code",
   "execution_count": 7,
   "metadata": {},
   "outputs": [
    {
     "data": {
      "text/plain": [
       "(3320, 356)"
      ]
     },
     "execution_count": 7,
     "metadata": {},
     "output_type": "execute_result"
    }
   ],
   "source": [
    "#create mask for business owner and those with income less than 500000\n",
    "\n",
    "mask = (df[\"HBUS\"]==1) & (df['INCOME'] < 500_000)\n",
    "df= df[mask]\n",
    "df.shape"
   ]
  },
  {
   "cell_type": "code",
   "execution_count": 8,
   "metadata": {},
   "outputs": [
    {
     "data": {
      "text/plain": [
       "BUS         2.429200e+15\n",
       "NHNFIN      3.520996e+15\n",
       "NFIN        3.554988e+15\n",
       "NETWORTH    4.609543e+15\n",
       "ASSET       4.702561e+15\n",
       "dtype: float64"
      ]
     },
     "execution_count": 8,
     "metadata": {},
     "output_type": "execute_result"
    }
   ],
   "source": [
    "# we are going to select the desired 10 variables using their variance\n",
    "df1=df.var().sort_values().tail(5)\n",
    "df1"
   ]
  },
  {
   "cell_type": "code",
   "execution_count": 9,
   "metadata": {},
   "outputs": [],
   "source": [
    "# fig = px.bar(x=df1/1e6, y=df1.index)\n",
    "# fig.show()"
   ]
  },
  {
   "cell_type": "code",
   "execution_count": 10,
   "metadata": {},
   "outputs": [],
   "source": [
    "# trim_df = df.apply(trimmed_var).sort_values().tail(10)\n",
    "# trim_df"
   ]
  },
  {
   "cell_type": "code",
   "execution_count": 11,
   "metadata": {},
   "outputs": [
    {
     "data": {
      "text/plain": [
       "['BUS', 'NHNFIN', 'NFIN', 'NETWORTH', 'ASSET']"
      ]
     },
     "execution_count": 11,
     "metadata": {},
     "output_type": "execute_result"
    }
   ],
   "source": [
    "#column to use for our cluster\n",
    "col= df.var().sort_values().tail(5).index.to_list()\n",
    "col"
   ]
  },
  {
   "cell_type": "code",
   "execution_count": 12,
   "metadata": {},
   "outputs": [],
   "source": [
    "X=df[col]"
   ]
  },
  {
   "cell_type": "code",
   "execution_count": 13,
   "metadata": {},
   "outputs": [
    {
     "data": {
      "text/html": [
       "<div>\n",
       "<style scoped>\n",
       "    .dataframe tbody tr th:only-of-type {\n",
       "        vertical-align: middle;\n",
       "    }\n",
       "\n",
       "    .dataframe tbody tr th {\n",
       "        vertical-align: top;\n",
       "    }\n",
       "\n",
       "    .dataframe thead th {\n",
       "        text-align: right;\n",
       "    }\n",
       "</style>\n",
       "<table border=\"1\" class=\"dataframe\">\n",
       "  <thead>\n",
       "    <tr style=\"text-align: right;\">\n",
       "      <th></th>\n",
       "      <th>BUS</th>\n",
       "      <th>NHNFIN</th>\n",
       "      <th>NFIN</th>\n",
       "      <th>NETWORTH</th>\n",
       "      <th>ASSET</th>\n",
       "    </tr>\n",
       "  </thead>\n",
       "  <tbody>\n",
       "    <tr>\n",
       "      <th>5</th>\n",
       "      <td>460000</td>\n",
       "      <td>520000.0</td>\n",
       "      <td>1100000.0</td>\n",
       "      <td>721800.0</td>\n",
       "      <td>1240500.0</td>\n",
       "    </tr>\n",
       "    <tr>\n",
       "      <th>6</th>\n",
       "      <td>460000</td>\n",
       "      <td>520000.0</td>\n",
       "      <td>1100000.0</td>\n",
       "      <td>723800.0</td>\n",
       "      <td>1242500.0</td>\n",
       "    </tr>\n",
       "    <tr>\n",
       "      <th>7</th>\n",
       "      <td>460000</td>\n",
       "      <td>520000.0</td>\n",
       "      <td>1100000.0</td>\n",
       "      <td>721400.0</td>\n",
       "      <td>1241100.0</td>\n",
       "    </tr>\n",
       "  </tbody>\n",
       "</table>\n",
       "</div>"
      ],
      "text/plain": [
       "      BUS    NHNFIN       NFIN  NETWORTH      ASSET\n",
       "5  460000  520000.0  1100000.0  721800.0  1240500.0\n",
       "6  460000  520000.0  1100000.0  723800.0  1242500.0\n",
       "7  460000  520000.0  1100000.0  721400.0  1241100.0"
      ]
     },
     "execution_count": 13,
     "metadata": {},
     "output_type": "execute_result"
    }
   ],
   "source": [
    "X.head(3)"
   ]
  },
  {
   "cell_type": "code",
   "execution_count": 14,
   "metadata": {},
   "outputs": [
    {
     "name": "stderr",
     "output_type": "stream",
     "text": [
      "c:\\Users\\Techa\\Desktop\\2023leave\\mlflow\\mlflowenv\\lib\\site-packages\\sklearn\\cluster\\_kmeans.py:1416: FutureWarning: The default value of `n_init` will change from 10 to 'auto' in 1.4. Set the value of `n_init` explicitly to suppress the warning\n",
      "  super()._check_params_vs_input(X, default_n_init=10)\n",
      "c:\\Users\\Techa\\Desktop\\2023leave\\mlflow\\mlflowenv\\lib\\site-packages\\sklearn\\cluster\\_kmeans.py:1416: FutureWarning: The default value of `n_init` will change from 10 to 'auto' in 1.4. Set the value of `n_init` explicitly to suppress the warning\n",
      "  super()._check_params_vs_input(X, default_n_init=10)\n",
      "c:\\Users\\Techa\\Desktop\\2023leave\\mlflow\\mlflowenv\\lib\\site-packages\\sklearn\\cluster\\_kmeans.py:1416: FutureWarning: The default value of `n_init` will change from 10 to 'auto' in 1.4. Set the value of `n_init` explicitly to suppress the warning\n",
      "  super()._check_params_vs_input(X, default_n_init=10)\n",
      "c:\\Users\\Techa\\Desktop\\2023leave\\mlflow\\mlflowenv\\lib\\site-packages\\sklearn\\cluster\\_kmeans.py:1416: FutureWarning: The default value of `n_init` will change from 10 to 'auto' in 1.4. Set the value of `n_init` explicitly to suppress the warning\n",
      "  super()._check_params_vs_input(X, default_n_init=10)\n",
      "c:\\Users\\Techa\\Desktop\\2023leave\\mlflow\\mlflowenv\\lib\\site-packages\\sklearn\\cluster\\_kmeans.py:1416: FutureWarning: The default value of `n_init` will change from 10 to 'auto' in 1.4. Set the value of `n_init` explicitly to suppress the warning\n",
      "  super()._check_params_vs_input(X, default_n_init=10)\n",
      "c:\\Users\\Techa\\Desktop\\2023leave\\mlflow\\mlflowenv\\lib\\site-packages\\sklearn\\cluster\\_kmeans.py:1416: FutureWarning: The default value of `n_init` will change from 10 to 'auto' in 1.4. Set the value of `n_init` explicitly to suppress the warning\n",
      "  super()._check_params_vs_input(X, default_n_init=10)\n",
      "c:\\Users\\Techa\\Desktop\\2023leave\\mlflow\\mlflowenv\\lib\\site-packages\\sklearn\\cluster\\_kmeans.py:1416: FutureWarning: The default value of `n_init` will change from 10 to 'auto' in 1.4. Set the value of `n_init` explicitly to suppress the warning\n",
      "  super()._check_params_vs_input(X, default_n_init=10)\n",
      "c:\\Users\\Techa\\Desktop\\2023leave\\mlflow\\mlflowenv\\lib\\site-packages\\sklearn\\cluster\\_kmeans.py:1416: FutureWarning: The default value of `n_init` will change from 10 to 'auto' in 1.4. Set the value of `n_init` explicitly to suppress the warning\n",
      "  super()._check_params_vs_input(X, default_n_init=10)\n"
     ]
    },
    {
     "name": "stdout",
     "output_type": "stream",
     "text": [
      "inertia_errors len: 8\n",
      "Inertia: [2258.6061813449705, 1034.6948915845476, 603.3356274917558, 367.7459742639467, 267.44400821975773, 175.11461027372417, 127.86276174363974, 99.86989137654577]\n",
      "\n",
      "silhouette_scores len: 8\n",
      "Silhouette Scores: [0.9877503488640621, 0.9866918241180391, 0.9386359959240038, 0.9383389019655799, 0.9388938268490268, 0.862342946741767, 0.8485608818302282, 0.7882820602231311]\n"
     ]
    }
   ],
   "source": [
    "n_clusters = range(2, 10)\n",
    "inertia= []\n",
    "silhouette = []\n",
    "\n",
    "for k in  n_clusters:\n",
    "\n",
    "    model= make_pipeline(StandardScaler(), KMeans(n_clusters=k, random_state=42))\n",
    "    model.fit(X)\n",
    "    inertia.append(model.named_steps['kmeans'].inertia_)\n",
    "    silhouette.append(silhouette_score(X, model.named_steps['kmeans'].labels_) )\n",
    "\n",
    "print(\"inertia_errors len:\", len(inertia))\n",
    "print(\"Inertia:\", inertia)\n",
    "print()\n",
    "print(\"silhouette_scores len:\", len(silhouette))\n",
    "print(\"Silhouette Scores:\", silhouette)"
   ]
  },
  {
   "cell_type": "code",
   "execution_count": 15,
   "metadata": {},
   "outputs": [
    {
     "data": {
      "application/vnd.plotly.v1+json": {
       "config": {
        "plotlyServerURL": "https://plot.ly"
       },
       "data": [
        {
         "hovertemplate": "x=%{x}<br>y=%{y}<extra></extra>",
         "legendgroup": "",
         "line": {
          "color": "#636efa",
          "dash": "solid"
         },
         "marker": {
          "symbol": "circle"
         },
         "mode": "lines",
         "name": "",
         "orientation": "v",
         "showlegend": false,
         "type": "scatter",
         "x": [
          2,
          3,
          4,
          5,
          6,
          7,
          8,
          9
         ],
         "xaxis": "x",
         "y": [
          2258.6061813449705,
          1034.6948915845476,
          603.3356274917558,
          367.7459742639467,
          267.44400821975773,
          175.11461027372417,
          127.86276174363974,
          99.86989137654577
         ],
         "yaxis": "y"
        }
       ],
       "layout": {
        "legend": {
         "tracegroupgap": 0
        },
        "template": {
         "data": {
          "bar": [
           {
            "error_x": {
             "color": "#2a3f5f"
            },
            "error_y": {
             "color": "#2a3f5f"
            },
            "marker": {
             "line": {
              "color": "#E5ECF6",
              "width": 0.5
             },
             "pattern": {
              "fillmode": "overlay",
              "size": 10,
              "solidity": 0.2
             }
            },
            "type": "bar"
           }
          ],
          "barpolar": [
           {
            "marker": {
             "line": {
              "color": "#E5ECF6",
              "width": 0.5
             },
             "pattern": {
              "fillmode": "overlay",
              "size": 10,
              "solidity": 0.2
             }
            },
            "type": "barpolar"
           }
          ],
          "carpet": [
           {
            "aaxis": {
             "endlinecolor": "#2a3f5f",
             "gridcolor": "white",
             "linecolor": "white",
             "minorgridcolor": "white",
             "startlinecolor": "#2a3f5f"
            },
            "baxis": {
             "endlinecolor": "#2a3f5f",
             "gridcolor": "white",
             "linecolor": "white",
             "minorgridcolor": "white",
             "startlinecolor": "#2a3f5f"
            },
            "type": "carpet"
           }
          ],
          "choropleth": [
           {
            "colorbar": {
             "outlinewidth": 0,
             "ticks": ""
            },
            "type": "choropleth"
           }
          ],
          "contour": [
           {
            "colorbar": {
             "outlinewidth": 0,
             "ticks": ""
            },
            "colorscale": [
             [
              0,
              "#0d0887"
             ],
             [
              0.1111111111111111,
              "#46039f"
             ],
             [
              0.2222222222222222,
              "#7201a8"
             ],
             [
              0.3333333333333333,
              "#9c179e"
             ],
             [
              0.4444444444444444,
              "#bd3786"
             ],
             [
              0.5555555555555556,
              "#d8576b"
             ],
             [
              0.6666666666666666,
              "#ed7953"
             ],
             [
              0.7777777777777778,
              "#fb9f3a"
             ],
             [
              0.8888888888888888,
              "#fdca26"
             ],
             [
              1,
              "#f0f921"
             ]
            ],
            "type": "contour"
           }
          ],
          "contourcarpet": [
           {
            "colorbar": {
             "outlinewidth": 0,
             "ticks": ""
            },
            "type": "contourcarpet"
           }
          ],
          "heatmap": [
           {
            "colorbar": {
             "outlinewidth": 0,
             "ticks": ""
            },
            "colorscale": [
             [
              0,
              "#0d0887"
             ],
             [
              0.1111111111111111,
              "#46039f"
             ],
             [
              0.2222222222222222,
              "#7201a8"
             ],
             [
              0.3333333333333333,
              "#9c179e"
             ],
             [
              0.4444444444444444,
              "#bd3786"
             ],
             [
              0.5555555555555556,
              "#d8576b"
             ],
             [
              0.6666666666666666,
              "#ed7953"
             ],
             [
              0.7777777777777778,
              "#fb9f3a"
             ],
             [
              0.8888888888888888,
              "#fdca26"
             ],
             [
              1,
              "#f0f921"
             ]
            ],
            "type": "heatmap"
           }
          ],
          "heatmapgl": [
           {
            "colorbar": {
             "outlinewidth": 0,
             "ticks": ""
            },
            "colorscale": [
             [
              0,
              "#0d0887"
             ],
             [
              0.1111111111111111,
              "#46039f"
             ],
             [
              0.2222222222222222,
              "#7201a8"
             ],
             [
              0.3333333333333333,
              "#9c179e"
             ],
             [
              0.4444444444444444,
              "#bd3786"
             ],
             [
              0.5555555555555556,
              "#d8576b"
             ],
             [
              0.6666666666666666,
              "#ed7953"
             ],
             [
              0.7777777777777778,
              "#fb9f3a"
             ],
             [
              0.8888888888888888,
              "#fdca26"
             ],
             [
              1,
              "#f0f921"
             ]
            ],
            "type": "heatmapgl"
           }
          ],
          "histogram": [
           {
            "marker": {
             "pattern": {
              "fillmode": "overlay",
              "size": 10,
              "solidity": 0.2
             }
            },
            "type": "histogram"
           }
          ],
          "histogram2d": [
           {
            "colorbar": {
             "outlinewidth": 0,
             "ticks": ""
            },
            "colorscale": [
             [
              0,
              "#0d0887"
             ],
             [
              0.1111111111111111,
              "#46039f"
             ],
             [
              0.2222222222222222,
              "#7201a8"
             ],
             [
              0.3333333333333333,
              "#9c179e"
             ],
             [
              0.4444444444444444,
              "#bd3786"
             ],
             [
              0.5555555555555556,
              "#d8576b"
             ],
             [
              0.6666666666666666,
              "#ed7953"
             ],
             [
              0.7777777777777778,
              "#fb9f3a"
             ],
             [
              0.8888888888888888,
              "#fdca26"
             ],
             [
              1,
              "#f0f921"
             ]
            ],
            "type": "histogram2d"
           }
          ],
          "histogram2dcontour": [
           {
            "colorbar": {
             "outlinewidth": 0,
             "ticks": ""
            },
            "colorscale": [
             [
              0,
              "#0d0887"
             ],
             [
              0.1111111111111111,
              "#46039f"
             ],
             [
              0.2222222222222222,
              "#7201a8"
             ],
             [
              0.3333333333333333,
              "#9c179e"
             ],
             [
              0.4444444444444444,
              "#bd3786"
             ],
             [
              0.5555555555555556,
              "#d8576b"
             ],
             [
              0.6666666666666666,
              "#ed7953"
             ],
             [
              0.7777777777777778,
              "#fb9f3a"
             ],
             [
              0.8888888888888888,
              "#fdca26"
             ],
             [
              1,
              "#f0f921"
             ]
            ],
            "type": "histogram2dcontour"
           }
          ],
          "mesh3d": [
           {
            "colorbar": {
             "outlinewidth": 0,
             "ticks": ""
            },
            "type": "mesh3d"
           }
          ],
          "parcoords": [
           {
            "line": {
             "colorbar": {
              "outlinewidth": 0,
              "ticks": ""
             }
            },
            "type": "parcoords"
           }
          ],
          "pie": [
           {
            "automargin": true,
            "type": "pie"
           }
          ],
          "scatter": [
           {
            "fillpattern": {
             "fillmode": "overlay",
             "size": 10,
             "solidity": 0.2
            },
            "type": "scatter"
           }
          ],
          "scatter3d": [
           {
            "line": {
             "colorbar": {
              "outlinewidth": 0,
              "ticks": ""
             }
            },
            "marker": {
             "colorbar": {
              "outlinewidth": 0,
              "ticks": ""
             }
            },
            "type": "scatter3d"
           }
          ],
          "scattercarpet": [
           {
            "marker": {
             "colorbar": {
              "outlinewidth": 0,
              "ticks": ""
             }
            },
            "type": "scattercarpet"
           }
          ],
          "scattergeo": [
           {
            "marker": {
             "colorbar": {
              "outlinewidth": 0,
              "ticks": ""
             }
            },
            "type": "scattergeo"
           }
          ],
          "scattergl": [
           {
            "marker": {
             "colorbar": {
              "outlinewidth": 0,
              "ticks": ""
             }
            },
            "type": "scattergl"
           }
          ],
          "scattermapbox": [
           {
            "marker": {
             "colorbar": {
              "outlinewidth": 0,
              "ticks": ""
             }
            },
            "type": "scattermapbox"
           }
          ],
          "scatterpolar": [
           {
            "marker": {
             "colorbar": {
              "outlinewidth": 0,
              "ticks": ""
             }
            },
            "type": "scatterpolar"
           }
          ],
          "scatterpolargl": [
           {
            "marker": {
             "colorbar": {
              "outlinewidth": 0,
              "ticks": ""
             }
            },
            "type": "scatterpolargl"
           }
          ],
          "scatterternary": [
           {
            "marker": {
             "colorbar": {
              "outlinewidth": 0,
              "ticks": ""
             }
            },
            "type": "scatterternary"
           }
          ],
          "surface": [
           {
            "colorbar": {
             "outlinewidth": 0,
             "ticks": ""
            },
            "colorscale": [
             [
              0,
              "#0d0887"
             ],
             [
              0.1111111111111111,
              "#46039f"
             ],
             [
              0.2222222222222222,
              "#7201a8"
             ],
             [
              0.3333333333333333,
              "#9c179e"
             ],
             [
              0.4444444444444444,
              "#bd3786"
             ],
             [
              0.5555555555555556,
              "#d8576b"
             ],
             [
              0.6666666666666666,
              "#ed7953"
             ],
             [
              0.7777777777777778,
              "#fb9f3a"
             ],
             [
              0.8888888888888888,
              "#fdca26"
             ],
             [
              1,
              "#f0f921"
             ]
            ],
            "type": "surface"
           }
          ],
          "table": [
           {
            "cells": {
             "fill": {
              "color": "#EBF0F8"
             },
             "line": {
              "color": "white"
             }
            },
            "header": {
             "fill": {
              "color": "#C8D4E3"
             },
             "line": {
              "color": "white"
             }
            },
            "type": "table"
           }
          ]
         },
         "layout": {
          "annotationdefaults": {
           "arrowcolor": "#2a3f5f",
           "arrowhead": 0,
           "arrowwidth": 1
          },
          "autotypenumbers": "strict",
          "coloraxis": {
           "colorbar": {
            "outlinewidth": 0,
            "ticks": ""
           }
          },
          "colorscale": {
           "diverging": [
            [
             0,
             "#8e0152"
            ],
            [
             0.1,
             "#c51b7d"
            ],
            [
             0.2,
             "#de77ae"
            ],
            [
             0.3,
             "#f1b6da"
            ],
            [
             0.4,
             "#fde0ef"
            ],
            [
             0.5,
             "#f7f7f7"
            ],
            [
             0.6,
             "#e6f5d0"
            ],
            [
             0.7,
             "#b8e186"
            ],
            [
             0.8,
             "#7fbc41"
            ],
            [
             0.9,
             "#4d9221"
            ],
            [
             1,
             "#276419"
            ]
           ],
           "sequential": [
            [
             0,
             "#0d0887"
            ],
            [
             0.1111111111111111,
             "#46039f"
            ],
            [
             0.2222222222222222,
             "#7201a8"
            ],
            [
             0.3333333333333333,
             "#9c179e"
            ],
            [
             0.4444444444444444,
             "#bd3786"
            ],
            [
             0.5555555555555556,
             "#d8576b"
            ],
            [
             0.6666666666666666,
             "#ed7953"
            ],
            [
             0.7777777777777778,
             "#fb9f3a"
            ],
            [
             0.8888888888888888,
             "#fdca26"
            ],
            [
             1,
             "#f0f921"
            ]
           ],
           "sequentialminus": [
            [
             0,
             "#0d0887"
            ],
            [
             0.1111111111111111,
             "#46039f"
            ],
            [
             0.2222222222222222,
             "#7201a8"
            ],
            [
             0.3333333333333333,
             "#9c179e"
            ],
            [
             0.4444444444444444,
             "#bd3786"
            ],
            [
             0.5555555555555556,
             "#d8576b"
            ],
            [
             0.6666666666666666,
             "#ed7953"
            ],
            [
             0.7777777777777778,
             "#fb9f3a"
            ],
            [
             0.8888888888888888,
             "#fdca26"
            ],
            [
             1,
             "#f0f921"
            ]
           ]
          },
          "colorway": [
           "#636efa",
           "#EF553B",
           "#00cc96",
           "#ab63fa",
           "#FFA15A",
           "#19d3f3",
           "#FF6692",
           "#B6E880",
           "#FF97FF",
           "#FECB52"
          ],
          "font": {
           "color": "#2a3f5f"
          },
          "geo": {
           "bgcolor": "white",
           "lakecolor": "white",
           "landcolor": "#E5ECF6",
           "showlakes": true,
           "showland": true,
           "subunitcolor": "white"
          },
          "hoverlabel": {
           "align": "left"
          },
          "hovermode": "closest",
          "mapbox": {
           "style": "light"
          },
          "paper_bgcolor": "white",
          "plot_bgcolor": "#E5ECF6",
          "polar": {
           "angularaxis": {
            "gridcolor": "white",
            "linecolor": "white",
            "ticks": ""
           },
           "bgcolor": "#E5ECF6",
           "radialaxis": {
            "gridcolor": "white",
            "linecolor": "white",
            "ticks": ""
           }
          },
          "scene": {
           "xaxis": {
            "backgroundcolor": "#E5ECF6",
            "gridcolor": "white",
            "gridwidth": 2,
            "linecolor": "white",
            "showbackground": true,
            "ticks": "",
            "zerolinecolor": "white"
           },
           "yaxis": {
            "backgroundcolor": "#E5ECF6",
            "gridcolor": "white",
            "gridwidth": 2,
            "linecolor": "white",
            "showbackground": true,
            "ticks": "",
            "zerolinecolor": "white"
           },
           "zaxis": {
            "backgroundcolor": "#E5ECF6",
            "gridcolor": "white",
            "gridwidth": 2,
            "linecolor": "white",
            "showbackground": true,
            "ticks": "",
            "zerolinecolor": "white"
           }
          },
          "shapedefaults": {
           "line": {
            "color": "#2a3f5f"
           }
          },
          "ternary": {
           "aaxis": {
            "gridcolor": "white",
            "linecolor": "white",
            "ticks": ""
           },
           "baxis": {
            "gridcolor": "white",
            "linecolor": "white",
            "ticks": ""
           },
           "bgcolor": "#E5ECF6",
           "caxis": {
            "gridcolor": "white",
            "linecolor": "white",
            "ticks": ""
           }
          },
          "title": {
           "x": 0.05
          },
          "xaxis": {
           "automargin": true,
           "gridcolor": "white",
           "linecolor": "white",
           "ticks": "",
           "title": {
            "standoff": 15
           },
           "zerolinecolor": "white",
           "zerolinewidth": 2
          },
          "yaxis": {
           "automargin": true,
           "gridcolor": "white",
           "linecolor": "white",
           "ticks": "",
           "title": {
            "standoff": 15
           },
           "zerolinecolor": "white",
           "zerolinewidth": 2
          }
         }
        },
        "title": {
         "text": "Inertia VS Number of Clusters"
        },
        "xaxis": {
         "anchor": "y",
         "domain": [
          0,
          1
         ],
         "title": {
          "text": "x"
         }
        },
        "yaxis": {
         "anchor": "x",
         "domain": [
          0,
          1
         ],
         "title": {
          "text": "y"
         }
        }
       }
      }
     },
     "metadata": {},
     "output_type": "display_data"
    }
   ],
   "source": [
    "fig = px.line(x=n_clusters, y=inertia, title=\"Inertia VS Number of Clusters\")\n",
    "\n",
    "fig.show()"
   ]
  },
  {
   "cell_type": "code",
   "execution_count": 16,
   "metadata": {},
   "outputs": [
    {
     "data": {
      "application/vnd.plotly.v1+json": {
       "config": {
        "plotlyServerURL": "https://plot.ly"
       },
       "data": [
        {
         "hovertemplate": "x=%{x}<br>y=%{y}<extra></extra>",
         "legendgroup": "",
         "line": {
          "color": "#636efa",
          "dash": "solid"
         },
         "marker": {
          "symbol": "circle"
         },
         "mode": "lines",
         "name": "",
         "orientation": "v",
         "showlegend": false,
         "type": "scatter",
         "x": [
          2,
          3,
          4,
          5,
          6,
          7,
          8,
          9
         ],
         "xaxis": "x",
         "y": [
          0.9877503488640621,
          0.9866918241180391,
          0.9386359959240038,
          0.9383389019655799,
          0.9388938268490268,
          0.862342946741767,
          0.8485608818302282,
          0.7882820602231311
         ],
         "yaxis": "y"
        }
       ],
       "layout": {
        "legend": {
         "tracegroupgap": 0
        },
        "template": {
         "data": {
          "bar": [
           {
            "error_x": {
             "color": "#2a3f5f"
            },
            "error_y": {
             "color": "#2a3f5f"
            },
            "marker": {
             "line": {
              "color": "#E5ECF6",
              "width": 0.5
             },
             "pattern": {
              "fillmode": "overlay",
              "size": 10,
              "solidity": 0.2
             }
            },
            "type": "bar"
           }
          ],
          "barpolar": [
           {
            "marker": {
             "line": {
              "color": "#E5ECF6",
              "width": 0.5
             },
             "pattern": {
              "fillmode": "overlay",
              "size": 10,
              "solidity": 0.2
             }
            },
            "type": "barpolar"
           }
          ],
          "carpet": [
           {
            "aaxis": {
             "endlinecolor": "#2a3f5f",
             "gridcolor": "white",
             "linecolor": "white",
             "minorgridcolor": "white",
             "startlinecolor": "#2a3f5f"
            },
            "baxis": {
             "endlinecolor": "#2a3f5f",
             "gridcolor": "white",
             "linecolor": "white",
             "minorgridcolor": "white",
             "startlinecolor": "#2a3f5f"
            },
            "type": "carpet"
           }
          ],
          "choropleth": [
           {
            "colorbar": {
             "outlinewidth": 0,
             "ticks": ""
            },
            "type": "choropleth"
           }
          ],
          "contour": [
           {
            "colorbar": {
             "outlinewidth": 0,
             "ticks": ""
            },
            "colorscale": [
             [
              0,
              "#0d0887"
             ],
             [
              0.1111111111111111,
              "#46039f"
             ],
             [
              0.2222222222222222,
              "#7201a8"
             ],
             [
              0.3333333333333333,
              "#9c179e"
             ],
             [
              0.4444444444444444,
              "#bd3786"
             ],
             [
              0.5555555555555556,
              "#d8576b"
             ],
             [
              0.6666666666666666,
              "#ed7953"
             ],
             [
              0.7777777777777778,
              "#fb9f3a"
             ],
             [
              0.8888888888888888,
              "#fdca26"
             ],
             [
              1,
              "#f0f921"
             ]
            ],
            "type": "contour"
           }
          ],
          "contourcarpet": [
           {
            "colorbar": {
             "outlinewidth": 0,
             "ticks": ""
            },
            "type": "contourcarpet"
           }
          ],
          "heatmap": [
           {
            "colorbar": {
             "outlinewidth": 0,
             "ticks": ""
            },
            "colorscale": [
             [
              0,
              "#0d0887"
             ],
             [
              0.1111111111111111,
              "#46039f"
             ],
             [
              0.2222222222222222,
              "#7201a8"
             ],
             [
              0.3333333333333333,
              "#9c179e"
             ],
             [
              0.4444444444444444,
              "#bd3786"
             ],
             [
              0.5555555555555556,
              "#d8576b"
             ],
             [
              0.6666666666666666,
              "#ed7953"
             ],
             [
              0.7777777777777778,
              "#fb9f3a"
             ],
             [
              0.8888888888888888,
              "#fdca26"
             ],
             [
              1,
              "#f0f921"
             ]
            ],
            "type": "heatmap"
           }
          ],
          "heatmapgl": [
           {
            "colorbar": {
             "outlinewidth": 0,
             "ticks": ""
            },
            "colorscale": [
             [
              0,
              "#0d0887"
             ],
             [
              0.1111111111111111,
              "#46039f"
             ],
             [
              0.2222222222222222,
              "#7201a8"
             ],
             [
              0.3333333333333333,
              "#9c179e"
             ],
             [
              0.4444444444444444,
              "#bd3786"
             ],
             [
              0.5555555555555556,
              "#d8576b"
             ],
             [
              0.6666666666666666,
              "#ed7953"
             ],
             [
              0.7777777777777778,
              "#fb9f3a"
             ],
             [
              0.8888888888888888,
              "#fdca26"
             ],
             [
              1,
              "#f0f921"
             ]
            ],
            "type": "heatmapgl"
           }
          ],
          "histogram": [
           {
            "marker": {
             "pattern": {
              "fillmode": "overlay",
              "size": 10,
              "solidity": 0.2
             }
            },
            "type": "histogram"
           }
          ],
          "histogram2d": [
           {
            "colorbar": {
             "outlinewidth": 0,
             "ticks": ""
            },
            "colorscale": [
             [
              0,
              "#0d0887"
             ],
             [
              0.1111111111111111,
              "#46039f"
             ],
             [
              0.2222222222222222,
              "#7201a8"
             ],
             [
              0.3333333333333333,
              "#9c179e"
             ],
             [
              0.4444444444444444,
              "#bd3786"
             ],
             [
              0.5555555555555556,
              "#d8576b"
             ],
             [
              0.6666666666666666,
              "#ed7953"
             ],
             [
              0.7777777777777778,
              "#fb9f3a"
             ],
             [
              0.8888888888888888,
              "#fdca26"
             ],
             [
              1,
              "#f0f921"
             ]
            ],
            "type": "histogram2d"
           }
          ],
          "histogram2dcontour": [
           {
            "colorbar": {
             "outlinewidth": 0,
             "ticks": ""
            },
            "colorscale": [
             [
              0,
              "#0d0887"
             ],
             [
              0.1111111111111111,
              "#46039f"
             ],
             [
              0.2222222222222222,
              "#7201a8"
             ],
             [
              0.3333333333333333,
              "#9c179e"
             ],
             [
              0.4444444444444444,
              "#bd3786"
             ],
             [
              0.5555555555555556,
              "#d8576b"
             ],
             [
              0.6666666666666666,
              "#ed7953"
             ],
             [
              0.7777777777777778,
              "#fb9f3a"
             ],
             [
              0.8888888888888888,
              "#fdca26"
             ],
             [
              1,
              "#f0f921"
             ]
            ],
            "type": "histogram2dcontour"
           }
          ],
          "mesh3d": [
           {
            "colorbar": {
             "outlinewidth": 0,
             "ticks": ""
            },
            "type": "mesh3d"
           }
          ],
          "parcoords": [
           {
            "line": {
             "colorbar": {
              "outlinewidth": 0,
              "ticks": ""
             }
            },
            "type": "parcoords"
           }
          ],
          "pie": [
           {
            "automargin": true,
            "type": "pie"
           }
          ],
          "scatter": [
           {
            "fillpattern": {
             "fillmode": "overlay",
             "size": 10,
             "solidity": 0.2
            },
            "type": "scatter"
           }
          ],
          "scatter3d": [
           {
            "line": {
             "colorbar": {
              "outlinewidth": 0,
              "ticks": ""
             }
            },
            "marker": {
             "colorbar": {
              "outlinewidth": 0,
              "ticks": ""
             }
            },
            "type": "scatter3d"
           }
          ],
          "scattercarpet": [
           {
            "marker": {
             "colorbar": {
              "outlinewidth": 0,
              "ticks": ""
             }
            },
            "type": "scattercarpet"
           }
          ],
          "scattergeo": [
           {
            "marker": {
             "colorbar": {
              "outlinewidth": 0,
              "ticks": ""
             }
            },
            "type": "scattergeo"
           }
          ],
          "scattergl": [
           {
            "marker": {
             "colorbar": {
              "outlinewidth": 0,
              "ticks": ""
             }
            },
            "type": "scattergl"
           }
          ],
          "scattermapbox": [
           {
            "marker": {
             "colorbar": {
              "outlinewidth": 0,
              "ticks": ""
             }
            },
            "type": "scattermapbox"
           }
          ],
          "scatterpolar": [
           {
            "marker": {
             "colorbar": {
              "outlinewidth": 0,
              "ticks": ""
             }
            },
            "type": "scatterpolar"
           }
          ],
          "scatterpolargl": [
           {
            "marker": {
             "colorbar": {
              "outlinewidth": 0,
              "ticks": ""
             }
            },
            "type": "scatterpolargl"
           }
          ],
          "scatterternary": [
           {
            "marker": {
             "colorbar": {
              "outlinewidth": 0,
              "ticks": ""
             }
            },
            "type": "scatterternary"
           }
          ],
          "surface": [
           {
            "colorbar": {
             "outlinewidth": 0,
             "ticks": ""
            },
            "colorscale": [
             [
              0,
              "#0d0887"
             ],
             [
              0.1111111111111111,
              "#46039f"
             ],
             [
              0.2222222222222222,
              "#7201a8"
             ],
             [
              0.3333333333333333,
              "#9c179e"
             ],
             [
              0.4444444444444444,
              "#bd3786"
             ],
             [
              0.5555555555555556,
              "#d8576b"
             ],
             [
              0.6666666666666666,
              "#ed7953"
             ],
             [
              0.7777777777777778,
              "#fb9f3a"
             ],
             [
              0.8888888888888888,
              "#fdca26"
             ],
             [
              1,
              "#f0f921"
             ]
            ],
            "type": "surface"
           }
          ],
          "table": [
           {
            "cells": {
             "fill": {
              "color": "#EBF0F8"
             },
             "line": {
              "color": "white"
             }
            },
            "header": {
             "fill": {
              "color": "#C8D4E3"
             },
             "line": {
              "color": "white"
             }
            },
            "type": "table"
           }
          ]
         },
         "layout": {
          "annotationdefaults": {
           "arrowcolor": "#2a3f5f",
           "arrowhead": 0,
           "arrowwidth": 1
          },
          "autotypenumbers": "strict",
          "coloraxis": {
           "colorbar": {
            "outlinewidth": 0,
            "ticks": ""
           }
          },
          "colorscale": {
           "diverging": [
            [
             0,
             "#8e0152"
            ],
            [
             0.1,
             "#c51b7d"
            ],
            [
             0.2,
             "#de77ae"
            ],
            [
             0.3,
             "#f1b6da"
            ],
            [
             0.4,
             "#fde0ef"
            ],
            [
             0.5,
             "#f7f7f7"
            ],
            [
             0.6,
             "#e6f5d0"
            ],
            [
             0.7,
             "#b8e186"
            ],
            [
             0.8,
             "#7fbc41"
            ],
            [
             0.9,
             "#4d9221"
            ],
            [
             1,
             "#276419"
            ]
           ],
           "sequential": [
            [
             0,
             "#0d0887"
            ],
            [
             0.1111111111111111,
             "#46039f"
            ],
            [
             0.2222222222222222,
             "#7201a8"
            ],
            [
             0.3333333333333333,
             "#9c179e"
            ],
            [
             0.4444444444444444,
             "#bd3786"
            ],
            [
             0.5555555555555556,
             "#d8576b"
            ],
            [
             0.6666666666666666,
             "#ed7953"
            ],
            [
             0.7777777777777778,
             "#fb9f3a"
            ],
            [
             0.8888888888888888,
             "#fdca26"
            ],
            [
             1,
             "#f0f921"
            ]
           ],
           "sequentialminus": [
            [
             0,
             "#0d0887"
            ],
            [
             0.1111111111111111,
             "#46039f"
            ],
            [
             0.2222222222222222,
             "#7201a8"
            ],
            [
             0.3333333333333333,
             "#9c179e"
            ],
            [
             0.4444444444444444,
             "#bd3786"
            ],
            [
             0.5555555555555556,
             "#d8576b"
            ],
            [
             0.6666666666666666,
             "#ed7953"
            ],
            [
             0.7777777777777778,
             "#fb9f3a"
            ],
            [
             0.8888888888888888,
             "#fdca26"
            ],
            [
             1,
             "#f0f921"
            ]
           ]
          },
          "colorway": [
           "#636efa",
           "#EF553B",
           "#00cc96",
           "#ab63fa",
           "#FFA15A",
           "#19d3f3",
           "#FF6692",
           "#B6E880",
           "#FF97FF",
           "#FECB52"
          ],
          "font": {
           "color": "#2a3f5f"
          },
          "geo": {
           "bgcolor": "white",
           "lakecolor": "white",
           "landcolor": "#E5ECF6",
           "showlakes": true,
           "showland": true,
           "subunitcolor": "white"
          },
          "hoverlabel": {
           "align": "left"
          },
          "hovermode": "closest",
          "mapbox": {
           "style": "light"
          },
          "paper_bgcolor": "white",
          "plot_bgcolor": "#E5ECF6",
          "polar": {
           "angularaxis": {
            "gridcolor": "white",
            "linecolor": "white",
            "ticks": ""
           },
           "bgcolor": "#E5ECF6",
           "radialaxis": {
            "gridcolor": "white",
            "linecolor": "white",
            "ticks": ""
           }
          },
          "scene": {
           "xaxis": {
            "backgroundcolor": "#E5ECF6",
            "gridcolor": "white",
            "gridwidth": 2,
            "linecolor": "white",
            "showbackground": true,
            "ticks": "",
            "zerolinecolor": "white"
           },
           "yaxis": {
            "backgroundcolor": "#E5ECF6",
            "gridcolor": "white",
            "gridwidth": 2,
            "linecolor": "white",
            "showbackground": true,
            "ticks": "",
            "zerolinecolor": "white"
           },
           "zaxis": {
            "backgroundcolor": "#E5ECF6",
            "gridcolor": "white",
            "gridwidth": 2,
            "linecolor": "white",
            "showbackground": true,
            "ticks": "",
            "zerolinecolor": "white"
           }
          },
          "shapedefaults": {
           "line": {
            "color": "#2a3f5f"
           }
          },
          "ternary": {
           "aaxis": {
            "gridcolor": "white",
            "linecolor": "white",
            "ticks": ""
           },
           "baxis": {
            "gridcolor": "white",
            "linecolor": "white",
            "ticks": ""
           },
           "bgcolor": "#E5ECF6",
           "caxis": {
            "gridcolor": "white",
            "linecolor": "white",
            "ticks": ""
           }
          },
          "title": {
           "x": 0.05
          },
          "xaxis": {
           "automargin": true,
           "gridcolor": "white",
           "linecolor": "white",
           "ticks": "",
           "title": {
            "standoff": 15
           },
           "zerolinecolor": "white",
           "zerolinewidth": 2
          },
          "yaxis": {
           "automargin": true,
           "gridcolor": "white",
           "linecolor": "white",
           "ticks": "",
           "title": {
            "standoff": 15
           },
           "zerolinecolor": "white",
           "zerolinewidth": 2
          }
         }
        },
        "title": {
         "text": "Silhouette VS Number of Clusters"
        },
        "xaxis": {
         "anchor": "y",
         "domain": [
          0,
          1
         ],
         "title": {
          "text": "x"
         }
        },
        "yaxis": {
         "anchor": "x",
         "domain": [
          0,
          1
         ],
         "title": {
          "text": "y"
         }
        }
       }
      }
     },
     "metadata": {},
     "output_type": "display_data"
    }
   ],
   "source": [
    "fig = px.line(x=n_clusters, y=silhouette , title=\"Silhouette VS Number of Clusters\")\n",
    "\n",
    "fig.show()"
   ]
  },
  {
   "cell_type": "markdown",
   "metadata": {},
   "source": [
    "#### The Optimal number of cluster from the inertia and silouette plot is 4"
   ]
  },
  {
   "cell_type": "markdown",
   "metadata": {},
   "source": [
    "### Build The Final Model"
   ]
  },
  {
   "cell_type": "code",
   "execution_count": 17,
   "metadata": {},
   "outputs": [
    {
     "name": "stderr",
     "output_type": "stream",
     "text": [
      "c:\\Users\\Techa\\Desktop\\2023leave\\mlflow\\mlflowenv\\lib\\site-packages\\sklearn\\cluster\\_kmeans.py:1416: FutureWarning:\n",
      "\n",
      "The default value of `n_init` will change from 10 to 'auto' in 1.4. Set the value of `n_init` explicitly to suppress the warning\n",
      "\n"
     ]
    }
   ],
   "source": [
    "finalModel =make_pipeline(StandardScaler(), KMeans(n_clusters=4, random_state=42))\n",
    "finalModel.fit(X)\n",
    "labels= finalModel.named_steps['kmeans'].labels_"
   ]
  },
  {
   "cell_type": "code",
   "execution_count": 33,
   "metadata": {},
   "outputs": [],
   "source": [
    "import pickle\n",
    "with open(\"modelfile.pkl\", \"wb\") as f:\n",
    "    model =pickle.dump(finalModel, f)\n",
    "    "
   ]
  },
  {
   "cell_type": "code",
   "execution_count": 35,
   "metadata": {},
   "outputs": [],
   "source": [
    "#make prediction\n",
    "with open(\"modelfile.pkl\", \"rb\") as f:\n",
    "    model = pickle.load(f)"
   ]
  },
  {
   "cell_type": "code",
   "execution_count": 36,
   "metadata": {},
   "outputs": [
    {
     "data": {
      "text/plain": [
       "sklearn.pipeline.Pipeline"
      ]
     },
     "execution_count": 36,
     "metadata": {},
     "output_type": "execute_result"
    }
   ],
   "source": [
    "type(model)"
   ]
  },
  {
   "cell_type": "code",
   "execution_count": 41,
   "metadata": {},
   "outputs": [
    {
     "name": "stderr",
     "output_type": "stream",
     "text": [
      "c:\\Users\\Techa\\Desktop\\2023leave\\mlflow\\mlflowenv\\lib\\site-packages\\sklearn\\base.py:465: UserWarning:\n",
      "\n",
      "X does not have valid feature names, but StandardScaler was fitted with feature names\n",
      "\n"
     ]
    },
    {
     "data": {
      "text/plain": [
       "2"
      ]
     },
     "execution_count": 41,
     "metadata": {},
     "output_type": "execute_result"
    }
   ],
   "source": [
    "test= np.array([460000, 520000, 110000, 721800, 1240500])\n",
    "model.predict(test.reshape(1, -1))[0]"
   ]
  },
  {
   "cell_type": "code",
   "execution_count": 19,
   "metadata": {},
   "outputs": [
    {
     "name": "stdout",
     "output_type": "stream",
     "text": [
      "xgb type: <class 'pandas.core.frame.DataFrame'>\n",
      "xgb shape: (4, 5)\n"
     ]
    },
    {
     "data": {
      "text/html": [
       "<div>\n",
       "<style scoped>\n",
       "    .dataframe tbody tr th:only-of-type {\n",
       "        vertical-align: middle;\n",
       "    }\n",
       "\n",
       "    .dataframe tbody tr th {\n",
       "        vertical-align: top;\n",
       "    }\n",
       "\n",
       "    .dataframe thead th {\n",
       "        text-align: right;\n",
       "    }\n",
       "</style>\n",
       "<table border=\"1\" class=\"dataframe\">\n",
       "  <thead>\n",
       "    <tr style=\"text-align: right;\">\n",
       "      <th></th>\n",
       "      <th>BUS</th>\n",
       "      <th>NHNFIN</th>\n",
       "      <th>NFIN</th>\n",
       "      <th>NETWORTH</th>\n",
       "      <th>ASSET</th>\n",
       "    </tr>\n",
       "  </thead>\n",
       "  <tbody>\n",
       "    <tr>\n",
       "      <th>0</th>\n",
       "      <td>6.407702e+07</td>\n",
       "      <td>6.922363e+07</td>\n",
       "      <td>7.201959e+07</td>\n",
       "      <td>9.724490e+07</td>\n",
       "      <td>9.866078e+07</td>\n",
       "    </tr>\n",
       "    <tr>\n",
       "      <th>1</th>\n",
       "      <td>5.360750e+08</td>\n",
       "      <td>5.426301e+08</td>\n",
       "      <td>5.453758e+08</td>\n",
       "      <td>6.442533e+08</td>\n",
       "      <td>6.443268e+08</td>\n",
       "    </tr>\n",
       "    <tr>\n",
       "      <th>2</th>\n",
       "      <td>1.266298e+06</td>\n",
       "      <td>1.715672e+06</td>\n",
       "      <td>2.408951e+06</td>\n",
       "      <td>3.298621e+06</td>\n",
       "      <td>3.577149e+06</td>\n",
       "    </tr>\n",
       "    <tr>\n",
       "      <th>3</th>\n",
       "      <td>7.024600e+08</td>\n",
       "      <td>1.092665e+09</td>\n",
       "      <td>1.097909e+09</td>\n",
       "      <td>1.180558e+09</td>\n",
       "      <td>1.206008e+09</td>\n",
       "    </tr>\n",
       "  </tbody>\n",
       "</table>\n",
       "</div>"
      ],
      "text/plain": [
       "            BUS        NHNFIN          NFIN      NETWORTH         ASSET\n",
       "0  6.407702e+07  6.922363e+07  7.201959e+07  9.724490e+07  9.866078e+07\n",
       "1  5.360750e+08  5.426301e+08  5.453758e+08  6.442533e+08  6.443268e+08\n",
       "2  1.266298e+06  1.715672e+06  2.408951e+06  3.298621e+06  3.577149e+06\n",
       "3  7.024600e+08  1.092665e+09  1.097909e+09  1.180558e+09  1.206008e+09"
      ]
     },
     "execution_count": 19,
     "metadata": {},
     "output_type": "execute_result"
    }
   ],
   "source": [
    "xgb = X.groupby(labels).mean()\n",
    "\n",
    "print(\"xgb type:\", type(xgb))\n",
    "print(\"xgb shape:\", xgb.shape)\n",
    "xgb"
   ]
  },
  {
   "cell_type": "code",
   "execution_count": 20,
   "metadata": {},
   "outputs": [
    {
     "data": {
      "application/vnd.plotly.v1+json": {
       "config": {
        "plotlyServerURL": "https://plot.ly"
       },
       "data": [
        {
         "alignmentgroup": "True",
         "hovertemplate": "variable=BUS<br>index=%{x}<br>value=%{y}<extra></extra>",
         "legendgroup": "BUS",
         "marker": {
          "color": "#636efa",
          "pattern": {
           "shape": ""
          }
         },
         "name": "BUS",
         "offsetgroup": "BUS",
         "orientation": "v",
         "showlegend": true,
         "textposition": "auto",
         "type": "bar",
         "x": [
          0,
          1,
          2,
          3
         ],
         "xaxis": "x",
         "y": [
          64077018.518518515,
          536075000,
          1266298.15417823,
          702460000
         ],
         "yaxis": "y"
        },
        {
         "alignmentgroup": "True",
         "hovertemplate": "variable=NHNFIN<br>index=%{x}<br>value=%{y}<extra></extra>",
         "legendgroup": "NHNFIN",
         "marker": {
          "color": "#EF553B",
          "pattern": {
           "shape": ""
          }
         },
         "name": "NHNFIN",
         "offsetgroup": "NHNFIN",
         "orientation": "v",
         "showlegend": true,
         "textposition": "auto",
         "type": "bar",
         "x": [
          0,
          1,
          2,
          3
         ],
         "xaxis": "x",
         "y": [
          69223629.62962963,
          542630134.4444444,
          1715671.5057662658,
          1092665120
         ],
         "yaxis": "y"
        },
        {
         "alignmentgroup": "True",
         "hovertemplate": "variable=NFIN<br>index=%{x}<br>value=%{y}<extra></extra>",
         "legendgroup": "NFIN",
         "marker": {
          "color": "#00cc96",
          "pattern": {
           "shape": ""
          }
         },
         "name": "NFIN",
         "offsetgroup": "NFIN",
         "orientation": "v",
         "showlegend": true,
         "textposition": "auto",
         "type": "bar",
         "x": [
          0,
          1,
          2,
          3
         ],
         "xaxis": "x",
         "y": [
          72019592.5925926,
          545375801.1111112,
          2408950.67351218,
          1097909120
         ],
         "yaxis": "y"
        },
        {
         "alignmentgroup": "True",
         "hovertemplate": "variable=NETWORTH<br>index=%{x}<br>value=%{y}<extra></extra>",
         "legendgroup": "NETWORTH",
         "marker": {
          "color": "#ab63fa",
          "pattern": {
           "shape": ""
          }
         },
         "name": "NETWORTH",
         "offsetgroup": "NETWORTH",
         "orientation": "v",
         "showlegend": true,
         "textposition": "auto",
         "type": "bar",
         "x": [
          0,
          1,
          2,
          3
         ],
         "xaxis": "x",
         "y": [
          97244895.01851852,
          644253295.5555556,
          3298621.4077089117,
          1180557920
         ],
         "yaxis": "y"
        },
        {
         "alignmentgroup": "True",
         "hovertemplate": "variable=ASSET<br>index=%{x}<br>value=%{y}<extra></extra>",
         "legendgroup": "ASSET",
         "marker": {
          "color": "#FFA15A",
          "pattern": {
           "shape": ""
          }
         },
         "name": "ASSET",
         "offsetgroup": "ASSET",
         "orientation": "v",
         "showlegend": true,
         "textposition": "auto",
         "type": "bar",
         "x": [
          0,
          1,
          2,
          3
         ],
         "xaxis": "x",
         "y": [
          98660783.9074074,
          644326806.6666666,
          3577148.7018809747,
          1206007920
         ],
         "yaxis": "y"
        }
       ],
       "layout": {
        "barmode": "group",
        "legend": {
         "title": {
          "text": "variable"
         },
         "tracegroupgap": 0
        },
        "margin": {
         "t": 60
        },
        "template": {
         "data": {
          "bar": [
           {
            "error_x": {
             "color": "#2a3f5f"
            },
            "error_y": {
             "color": "#2a3f5f"
            },
            "marker": {
             "line": {
              "color": "#E5ECF6",
              "width": 0.5
             },
             "pattern": {
              "fillmode": "overlay",
              "size": 10,
              "solidity": 0.2
             }
            },
            "type": "bar"
           }
          ],
          "barpolar": [
           {
            "marker": {
             "line": {
              "color": "#E5ECF6",
              "width": 0.5
             },
             "pattern": {
              "fillmode": "overlay",
              "size": 10,
              "solidity": 0.2
             }
            },
            "type": "barpolar"
           }
          ],
          "carpet": [
           {
            "aaxis": {
             "endlinecolor": "#2a3f5f",
             "gridcolor": "white",
             "linecolor": "white",
             "minorgridcolor": "white",
             "startlinecolor": "#2a3f5f"
            },
            "baxis": {
             "endlinecolor": "#2a3f5f",
             "gridcolor": "white",
             "linecolor": "white",
             "minorgridcolor": "white",
             "startlinecolor": "#2a3f5f"
            },
            "type": "carpet"
           }
          ],
          "choropleth": [
           {
            "colorbar": {
             "outlinewidth": 0,
             "ticks": ""
            },
            "type": "choropleth"
           }
          ],
          "contour": [
           {
            "colorbar": {
             "outlinewidth": 0,
             "ticks": ""
            },
            "colorscale": [
             [
              0,
              "#0d0887"
             ],
             [
              0.1111111111111111,
              "#46039f"
             ],
             [
              0.2222222222222222,
              "#7201a8"
             ],
             [
              0.3333333333333333,
              "#9c179e"
             ],
             [
              0.4444444444444444,
              "#bd3786"
             ],
             [
              0.5555555555555556,
              "#d8576b"
             ],
             [
              0.6666666666666666,
              "#ed7953"
             ],
             [
              0.7777777777777778,
              "#fb9f3a"
             ],
             [
              0.8888888888888888,
              "#fdca26"
             ],
             [
              1,
              "#f0f921"
             ]
            ],
            "type": "contour"
           }
          ],
          "contourcarpet": [
           {
            "colorbar": {
             "outlinewidth": 0,
             "ticks": ""
            },
            "type": "contourcarpet"
           }
          ],
          "heatmap": [
           {
            "colorbar": {
             "outlinewidth": 0,
             "ticks": ""
            },
            "colorscale": [
             [
              0,
              "#0d0887"
             ],
             [
              0.1111111111111111,
              "#46039f"
             ],
             [
              0.2222222222222222,
              "#7201a8"
             ],
             [
              0.3333333333333333,
              "#9c179e"
             ],
             [
              0.4444444444444444,
              "#bd3786"
             ],
             [
              0.5555555555555556,
              "#d8576b"
             ],
             [
              0.6666666666666666,
              "#ed7953"
             ],
             [
              0.7777777777777778,
              "#fb9f3a"
             ],
             [
              0.8888888888888888,
              "#fdca26"
             ],
             [
              1,
              "#f0f921"
             ]
            ],
            "type": "heatmap"
           }
          ],
          "heatmapgl": [
           {
            "colorbar": {
             "outlinewidth": 0,
             "ticks": ""
            },
            "colorscale": [
             [
              0,
              "#0d0887"
             ],
             [
              0.1111111111111111,
              "#46039f"
             ],
             [
              0.2222222222222222,
              "#7201a8"
             ],
             [
              0.3333333333333333,
              "#9c179e"
             ],
             [
              0.4444444444444444,
              "#bd3786"
             ],
             [
              0.5555555555555556,
              "#d8576b"
             ],
             [
              0.6666666666666666,
              "#ed7953"
             ],
             [
              0.7777777777777778,
              "#fb9f3a"
             ],
             [
              0.8888888888888888,
              "#fdca26"
             ],
             [
              1,
              "#f0f921"
             ]
            ],
            "type": "heatmapgl"
           }
          ],
          "histogram": [
           {
            "marker": {
             "pattern": {
              "fillmode": "overlay",
              "size": 10,
              "solidity": 0.2
             }
            },
            "type": "histogram"
           }
          ],
          "histogram2d": [
           {
            "colorbar": {
             "outlinewidth": 0,
             "ticks": ""
            },
            "colorscale": [
             [
              0,
              "#0d0887"
             ],
             [
              0.1111111111111111,
              "#46039f"
             ],
             [
              0.2222222222222222,
              "#7201a8"
             ],
             [
              0.3333333333333333,
              "#9c179e"
             ],
             [
              0.4444444444444444,
              "#bd3786"
             ],
             [
              0.5555555555555556,
              "#d8576b"
             ],
             [
              0.6666666666666666,
              "#ed7953"
             ],
             [
              0.7777777777777778,
              "#fb9f3a"
             ],
             [
              0.8888888888888888,
              "#fdca26"
             ],
             [
              1,
              "#f0f921"
             ]
            ],
            "type": "histogram2d"
           }
          ],
          "histogram2dcontour": [
           {
            "colorbar": {
             "outlinewidth": 0,
             "ticks": ""
            },
            "colorscale": [
             [
              0,
              "#0d0887"
             ],
             [
              0.1111111111111111,
              "#46039f"
             ],
             [
              0.2222222222222222,
              "#7201a8"
             ],
             [
              0.3333333333333333,
              "#9c179e"
             ],
             [
              0.4444444444444444,
              "#bd3786"
             ],
             [
              0.5555555555555556,
              "#d8576b"
             ],
             [
              0.6666666666666666,
              "#ed7953"
             ],
             [
              0.7777777777777778,
              "#fb9f3a"
             ],
             [
              0.8888888888888888,
              "#fdca26"
             ],
             [
              1,
              "#f0f921"
             ]
            ],
            "type": "histogram2dcontour"
           }
          ],
          "mesh3d": [
           {
            "colorbar": {
             "outlinewidth": 0,
             "ticks": ""
            },
            "type": "mesh3d"
           }
          ],
          "parcoords": [
           {
            "line": {
             "colorbar": {
              "outlinewidth": 0,
              "ticks": ""
             }
            },
            "type": "parcoords"
           }
          ],
          "pie": [
           {
            "automargin": true,
            "type": "pie"
           }
          ],
          "scatter": [
           {
            "fillpattern": {
             "fillmode": "overlay",
             "size": 10,
             "solidity": 0.2
            },
            "type": "scatter"
           }
          ],
          "scatter3d": [
           {
            "line": {
             "colorbar": {
              "outlinewidth": 0,
              "ticks": ""
             }
            },
            "marker": {
             "colorbar": {
              "outlinewidth": 0,
              "ticks": ""
             }
            },
            "type": "scatter3d"
           }
          ],
          "scattercarpet": [
           {
            "marker": {
             "colorbar": {
              "outlinewidth": 0,
              "ticks": ""
             }
            },
            "type": "scattercarpet"
           }
          ],
          "scattergeo": [
           {
            "marker": {
             "colorbar": {
              "outlinewidth": 0,
              "ticks": ""
             }
            },
            "type": "scattergeo"
           }
          ],
          "scattergl": [
           {
            "marker": {
             "colorbar": {
              "outlinewidth": 0,
              "ticks": ""
             }
            },
            "type": "scattergl"
           }
          ],
          "scattermapbox": [
           {
            "marker": {
             "colorbar": {
              "outlinewidth": 0,
              "ticks": ""
             }
            },
            "type": "scattermapbox"
           }
          ],
          "scatterpolar": [
           {
            "marker": {
             "colorbar": {
              "outlinewidth": 0,
              "ticks": ""
             }
            },
            "type": "scatterpolar"
           }
          ],
          "scatterpolargl": [
           {
            "marker": {
             "colorbar": {
              "outlinewidth": 0,
              "ticks": ""
             }
            },
            "type": "scatterpolargl"
           }
          ],
          "scatterternary": [
           {
            "marker": {
             "colorbar": {
              "outlinewidth": 0,
              "ticks": ""
             }
            },
            "type": "scatterternary"
           }
          ],
          "surface": [
           {
            "colorbar": {
             "outlinewidth": 0,
             "ticks": ""
            },
            "colorscale": [
             [
              0,
              "#0d0887"
             ],
             [
              0.1111111111111111,
              "#46039f"
             ],
             [
              0.2222222222222222,
              "#7201a8"
             ],
             [
              0.3333333333333333,
              "#9c179e"
             ],
             [
              0.4444444444444444,
              "#bd3786"
             ],
             [
              0.5555555555555556,
              "#d8576b"
             ],
             [
              0.6666666666666666,
              "#ed7953"
             ],
             [
              0.7777777777777778,
              "#fb9f3a"
             ],
             [
              0.8888888888888888,
              "#fdca26"
             ],
             [
              1,
              "#f0f921"
             ]
            ],
            "type": "surface"
           }
          ],
          "table": [
           {
            "cells": {
             "fill": {
              "color": "#EBF0F8"
             },
             "line": {
              "color": "white"
             }
            },
            "header": {
             "fill": {
              "color": "#C8D4E3"
             },
             "line": {
              "color": "white"
             }
            },
            "type": "table"
           }
          ]
         },
         "layout": {
          "annotationdefaults": {
           "arrowcolor": "#2a3f5f",
           "arrowhead": 0,
           "arrowwidth": 1
          },
          "autotypenumbers": "strict",
          "coloraxis": {
           "colorbar": {
            "outlinewidth": 0,
            "ticks": ""
           }
          },
          "colorscale": {
           "diverging": [
            [
             0,
             "#8e0152"
            ],
            [
             0.1,
             "#c51b7d"
            ],
            [
             0.2,
             "#de77ae"
            ],
            [
             0.3,
             "#f1b6da"
            ],
            [
             0.4,
             "#fde0ef"
            ],
            [
             0.5,
             "#f7f7f7"
            ],
            [
             0.6,
             "#e6f5d0"
            ],
            [
             0.7,
             "#b8e186"
            ],
            [
             0.8,
             "#7fbc41"
            ],
            [
             0.9,
             "#4d9221"
            ],
            [
             1,
             "#276419"
            ]
           ],
           "sequential": [
            [
             0,
             "#0d0887"
            ],
            [
             0.1111111111111111,
             "#46039f"
            ],
            [
             0.2222222222222222,
             "#7201a8"
            ],
            [
             0.3333333333333333,
             "#9c179e"
            ],
            [
             0.4444444444444444,
             "#bd3786"
            ],
            [
             0.5555555555555556,
             "#d8576b"
            ],
            [
             0.6666666666666666,
             "#ed7953"
            ],
            [
             0.7777777777777778,
             "#fb9f3a"
            ],
            [
             0.8888888888888888,
             "#fdca26"
            ],
            [
             1,
             "#f0f921"
            ]
           ],
           "sequentialminus": [
            [
             0,
             "#0d0887"
            ],
            [
             0.1111111111111111,
             "#46039f"
            ],
            [
             0.2222222222222222,
             "#7201a8"
            ],
            [
             0.3333333333333333,
             "#9c179e"
            ],
            [
             0.4444444444444444,
             "#bd3786"
            ],
            [
             0.5555555555555556,
             "#d8576b"
            ],
            [
             0.6666666666666666,
             "#ed7953"
            ],
            [
             0.7777777777777778,
             "#fb9f3a"
            ],
            [
             0.8888888888888888,
             "#fdca26"
            ],
            [
             1,
             "#f0f921"
            ]
           ]
          },
          "colorway": [
           "#636efa",
           "#EF553B",
           "#00cc96",
           "#ab63fa",
           "#FFA15A",
           "#19d3f3",
           "#FF6692",
           "#B6E880",
           "#FF97FF",
           "#FECB52"
          ],
          "font": {
           "color": "#2a3f5f"
          },
          "geo": {
           "bgcolor": "white",
           "lakecolor": "white",
           "landcolor": "#E5ECF6",
           "showlakes": true,
           "showland": true,
           "subunitcolor": "white"
          },
          "hoverlabel": {
           "align": "left"
          },
          "hovermode": "closest",
          "mapbox": {
           "style": "light"
          },
          "paper_bgcolor": "white",
          "plot_bgcolor": "#E5ECF6",
          "polar": {
           "angularaxis": {
            "gridcolor": "white",
            "linecolor": "white",
            "ticks": ""
           },
           "bgcolor": "#E5ECF6",
           "radialaxis": {
            "gridcolor": "white",
            "linecolor": "white",
            "ticks": ""
           }
          },
          "scene": {
           "xaxis": {
            "backgroundcolor": "#E5ECF6",
            "gridcolor": "white",
            "gridwidth": 2,
            "linecolor": "white",
            "showbackground": true,
            "ticks": "",
            "zerolinecolor": "white"
           },
           "yaxis": {
            "backgroundcolor": "#E5ECF6",
            "gridcolor": "white",
            "gridwidth": 2,
            "linecolor": "white",
            "showbackground": true,
            "ticks": "",
            "zerolinecolor": "white"
           },
           "zaxis": {
            "backgroundcolor": "#E5ECF6",
            "gridcolor": "white",
            "gridwidth": 2,
            "linecolor": "white",
            "showbackground": true,
            "ticks": "",
            "zerolinecolor": "white"
           }
          },
          "shapedefaults": {
           "line": {
            "color": "#2a3f5f"
           }
          },
          "ternary": {
           "aaxis": {
            "gridcolor": "white",
            "linecolor": "white",
            "ticks": ""
           },
           "baxis": {
            "gridcolor": "white",
            "linecolor": "white",
            "ticks": ""
           },
           "bgcolor": "#E5ECF6",
           "caxis": {
            "gridcolor": "white",
            "linecolor": "white",
            "ticks": ""
           }
          },
          "title": {
           "x": 0.05
          },
          "xaxis": {
           "automargin": true,
           "gridcolor": "white",
           "linecolor": "white",
           "ticks": "",
           "title": {
            "standoff": 15
           },
           "zerolinecolor": "white",
           "zerolinewidth": 2
          },
          "yaxis": {
           "automargin": true,
           "gridcolor": "white",
           "linecolor": "white",
           "ticks": "",
           "title": {
            "standoff": 15
           },
           "zerolinecolor": "white",
           "zerolinewidth": 2
          }
         }
        },
        "xaxis": {
         "anchor": "y",
         "domain": [
          0,
          1
         ],
         "title": {
          "text": "index"
         }
        },
        "yaxis": {
         "anchor": "x",
         "domain": [
          0,
          1
         ],
         "title": {
          "text": "value"
         }
        }
       }
      }
     },
     "metadata": {},
     "output_type": "display_data"
    }
   ],
   "source": [
    "# Create side-by-side bar chart of `xgb`\n",
    "fig = px.bar(xgb, barmode='group')\n",
    "\n",
    "fig.show()"
   ]
  },
  {
   "cell_type": "code",
   "execution_count": 21,
   "metadata": {},
   "outputs": [],
   "source": [
    "#Create two Principal Components"
   ]
  },
  {
   "cell_type": "code",
   "execution_count": 22,
   "metadata": {},
   "outputs": [
    {
     "data": {
      "text/html": [
       "<div>\n",
       "<style scoped>\n",
       "    .dataframe tbody tr th:only-of-type {\n",
       "        vertical-align: middle;\n",
       "    }\n",
       "\n",
       "    .dataframe tbody tr th {\n",
       "        vertical-align: top;\n",
       "    }\n",
       "\n",
       "    .dataframe thead th {\n",
       "        text-align: right;\n",
       "    }\n",
       "</style>\n",
       "<table border=\"1\" class=\"dataframe\">\n",
       "  <thead>\n",
       "    <tr style=\"text-align: right;\">\n",
       "      <th></th>\n",
       "      <th>PC1</th>\n",
       "      <th>PC2</th>\n",
       "    </tr>\n",
       "  </thead>\n",
       "  <tbody>\n",
       "    <tr>\n",
       "      <th>0</th>\n",
       "      <td>-1.732188e+07</td>\n",
       "      <td>755212.879415</td>\n",
       "    </tr>\n",
       "    <tr>\n",
       "      <th>1</th>\n",
       "      <td>-1.731988e+07</td>\n",
       "      <td>753886.480472</td>\n",
       "    </tr>\n",
       "  </tbody>\n",
       "</table>\n",
       "</div>"
      ],
      "text/plain": [
       "            PC1            PC2\n",
       "0 -1.732188e+07  755212.879415\n",
       "1 -1.731988e+07  753886.480472"
      ]
     },
     "execution_count": 22,
     "metadata": {},
     "output_type": "execute_result"
    }
   ],
   "source": [
    "pca = PCA(n_components=2, random_state=42)\n",
    "xpca = pca.fit_transform(X)\n",
    "pcadf= pd.DataFrame(xpca, columns=[\"PC1\",\"PC2\"])\n",
    "pcadf.head(2)"
   ]
  },
  {
   "cell_type": "code",
   "execution_count": 23,
   "metadata": {},
   "outputs": [
    {
     "data": {
      "application/vnd.plotly.v1+json": {
       "config": {
        "plotlyServerURL": "https://plot.ly"
       },
       "data": [
        {
         "hovertemplate": "color=2<br>PC1=%{x}<br>PC2=%{y}<extra></extra>",
         "legendgroup": "2",
         "marker": {
          "color": "#636efa",
          "symbol": "circle"
         },
         "mode": "markers",
         "name": "2",
         "showlegend": true,
         "type": "scattergl",
         "x": [
          -17321877.64138001,
          -17319883.710553084,
          -17321775.474133953,
          -17318884.27443531,
          -17321948.287687432,
          -19094240.769962482,
          -19094240.769962482,
          -19096105.954014167,
          -19094240.769962482,
          -19094240.769962482,
          -18011904.113760073,
          -18014265.30981397,
          -18014265.30981397,
          -18012400.125762284,
          -18014265.30981397,
          -15459119.244118702,
          -15538113.46292036,
          -15600055.485430975,
          -15431725.377660373,
          -15555280.507880533,
          -18146912.440212645,
          -18149273.63626655,
          -18122629.929859135,
          -18142967.834480297,
          -18080940.07338296,
          -18199374.34114432,
          -18186974.041088954,
          -18196894.28113325,
          -18211774.641199686,
          -18221694.881243974,
          -13676823.073200468,
          -13676823.073200468,
          -13674957.889148783,
          -13674957.889148783,
          -13674957.889148783,
          -19098756.755887903,
          -19120424.700658657,
          -19070802.485669076,
          -19074552.721461847,
          -19127693.867240347,
          -17668771.88477698,
          -17670765.815603625,
          -17666777.95395033,
          -17670823.587233834,
          -17666096.25371714,
          -18082258.7396054,
          -18115114.395708736,
          -18105075.291707266,
          -18093785.879613508,
          -18088825.759591367,
          -15400584.039985718,
          -15745266.798371704,
          -16009042.321956405,
          -15844637.476860737,
          -15056030.835288461,
          -16682183.075133543,
          -16683552.24718301,
          -16683552.24718301,
          -16684048.259185225,
          -16683552.24718301,
          -12126903.180630261,
          -12126903.180630261,
          -12126903.180630261,
          -12126903.180630261,
          -12126903.180630261,
          -17912257.984720584,
          -17889471.05516961,
          -17908785.84916717,
          -17873238.13581956,
          -17919651.327461112,
          -11706644.065113168,
          -11691189.799550673,
          -11944251.70010316,
          -10738431.312900381,
          -11140893.458482299,
          -18857577.209104378,
          -18931976.39343828,
          -19002479.85088304,
          -19070585.825975727,
          -19011259.6703569,
          -18958710.8228208,
          -18958269.253015574,
          -18957584.251903746,
          -18957783.644986402,
          -18958528.464023035,
          -11279007.960123152,
          -11279007.960123152,
          -11279007.960123152,
          -11279007.960123152,
          -11279007.960123152,
          -17265390.073237967,
          -17269873.946893483,
          -17267011.797428474,
          -17258039.108708557,
          -17268876.98148015,
          -16569285.990952909,
          -16651296.531855807,
          -16547793.151911275,
          -16587262.699520167,
          -16631313.75205025,
          -16357223.402040627,
          -16357223.402040627,
          -16357223.402040627,
          -16251003.701226592,
          -16357223.402040627,
          -17345563.971793693,
          -16152524.062465226,
          -17909791.68183868,
          -17030620.75146924,
          -18515672.564974144,
          -18871005.542377267,
          -18869699.913541093,
          -18846385.112895053,
          -18869886.43194625,
          -18869886.43194625,
          -18135683.537458483,
          -18073095.952497087,
          -18213283.747572478,
          -18202955.6114253,
          -17941056.39566115,
          43151682.462737545,
          360590.1661641632,
          358724.9821124796,
          358724.9821124796,
          358724.9821124796,
          358724.9821124796,
          -18479776.93788175,
          -18508817.681643117,
          -18504701.07321485,
          -18487013.189324945,
          -18511808.577883087,
          4354544.691128798,
          4307757.963010262,
          4346276.151118422,
          4295594.984967707,
          4370479.962185847,
          -12365279.215227526,
          -12355309.561094284,
          -9143270.76852906,
          -10309040.863685079,
          -9568190.995860703,
          -11664747.806084419,
          -11715107.77547986,
          -11651691.51772264,
          -11730588.80310883,
          -11651691.51772264,
          -12354734.999474991,
          -12832181.73591593,
          -12933772.51153366,
          -12913035.630936513,
          -12688519.01985592,
          -17275415.04816796,
          -17276740.15343891,
          -17295425.00274214,
          -17312890.978054814,
          -17242035.7874011,
          23045503.24047498,
          -18359177.33916169,
          -18432340.059813656,
          -18399480.111593667,
          -18341619.298623323,
          -18370171.411529697,
          -17735964.831292633,
          -17735778.31288746,
          -17737830.015344307,
          -17735778.31288746,
          -17737830.015344307,
          -4774736.630417078,
          -4723344.678243751,
          -5972863.650372141,
          -4804634.743829743,
          -4961738.587271155,
          -16161605.30499487,
          -16154144.568788143,
          -16157006.718253147,
          -16150478.574072257,
          -16033840.197454581,
          -18763698.23117814,
          -18747983.151240792,
          -18743834.916392595,
          -18759726.545080982,
          -18746607.338970408,
          -19154441.495037276,
          -19154441.495037276,
          -19154441.495037276,
          -19154441.495037276,
          -19154441.495037276,
          27847766.324377492,
          27815878.741724484,
          27846230.13891221,
          27812129.293041617,
          27835818.385082036,
          -18038104.419612687,
          -18059117.45618342,
          -18069885.922482956,
          -18027409.327304807,
          -18069139.848862287,
          -18561059.210961077,
          -18557686.329346023,
          -18562150.43736595,
          -18556694.30534159,
          -18556198.29333937,
          -18189159.936091196,
          -18223397.11776624,
          -18208509.34558646,
          -18219127.461420078,
          -18215361.22918947,
          -13779129.879404778,
          -14548787.178491022,
          -14476008.703318357,
          -14576702.210064098,
          -14050304.471828945,
          -19040558.13701605,
          -19054324.051993217,
          -19018303.098114453,
          -18896682.122416046,
          -18908138.791568063,
          -18909190.870951507,
          -18903290.419278506,
          -18786916.587077904,
          -18686541.187842675,
          -18850725.237807445,
          -15617400.075697767,
          -15617400.075697767,
          -15617400.075697767,
          -15617586.594102938,
          -15617586.594102938,
          -14483767.701820537,
          -14483332.511551725,
          -14483757.732166404,
          -14483767.701820537,
          -14493093.622078951,
          2514290.5370867224,
          2586348.933381387,
          2403955.516065371,
          2477908.146645351,
          2417873.0974316364,
          -4988160.337109373,
          -4988160.337109373,
          -4988160.337109373,
          -4988160.337109373,
          -4988160.337109373,
          -19169105.90283154,
          -19169105.90283154,
          -19169105.90283154,
          -19168919.38442637,
          -19169105.90283154,
          -16960706.51682843,
          -16960706.51682843,
          -16960706.51682843,
          -16961579.676875688,
          -16960706.51682843,
          -18011863.3526416,
          -18012062.745724272,
          -18011367.34063939,
          -18011963.049182944,
          -18013828.23323462,
          -15423582.840539133,
          -15278757.516200053,
          -13549989.928863965,
          -12555131.200682305,
          -15910545.621899486,
          -12709740.65369157,
          -12688104.518692046,
          -12734734.119984122,
          -12577499.104427239,
          -12646324.395934345,
          -17649522.409992814,
          -18128663.987636406,
          -18119279.638073657,
          -18133050.63545503,
          -18136668.76117663,
          -4426071.367648682,
          -3774989.7016641176,
          -3014958.756916169,
          -1928239.4497087481,
          -2767733.8852749486,
          -12893903.198969174,
          -11906825.551474553,
          -13142856.215989722,
          -12606272.427961884,
          -12062495.072791204,
          -19045194.954329167,
          -18931856.581551917,
          -19050700.59869241,
          -19138339.90921774,
          -19109029.732494216,
          -16190601.692894295,
          -16205816.282836596,
          -16196171.81412353,
          -16158222.86320253,
          -16201605.2157823,
          -13643633.456097085,
          -13643633.456097085,
          -13643633.456097085,
          -13643633.456097085,
          -13643633.456097085,
          523857.60870645865,
          521992.4246547756,
          521992.4246547756,
          521992.4246547756,
          521992.4246547756,
          -18152980.0936687,
          -18157437.521831453,
          -18156889.0568177,
          -18172919.53597161,
          -18185948.686357927,
          -17425243.405608937,
          -17417634.94752959,
          -17439568.186622724,
          -17380379.962009348,
          -17445678.72587763,
          -18976362.807097454,
          -18975552.360089302,
          -18978227.99114913,
          -18977231.025735814,
          -18978227.99114913,
          -19143893.657738768,
          -19103039.97458075,
          -19114141.518917162,
          -19149439.46978696,
          -19138559.95633727,
          -18373419.776912943,
          -18404415.63548915,
          -18362896.218751073,
          -18389142.5595777,
          -18342035.351410966,
          -18761930.994732924,
          -18762522.097900875,
          -18757559.41450643,
          -18743509.884938132,
          -18753929.163808055,
          -19092061.735550594,
          -19093931.90442934,
          -19090938.494066745,
          -19093931.90442934,
          -19100820.090846725,
          -4000730.0900665605,
          -4000730.0900665605,
          -3816291.4886015914,
          -4000730.0900665605,
          -4000730.0900665605,
          -18938014.15668446,
          -18937466.684435893,
          -18939061.82909721,
          -18938760.26876877,
          -18937605.400864992,
          -17891857.66161175,
          -17926054.07297085,
          -17920768.014412846,
          -17918406.818358947,
          -17930586.470216434,
          -13464184.865628673,
          -13717217.16418499,
          -13980061.66753253,
          -13796537.014802456,
          -13638161.258292893,
          -17271747.11937094,
          -17269155.009296305,
          -17267788.307951275,
          -17267360.471552316,
          -17269981.63186059,
          -16994777.550325554,
          -16979434.37492399,
          -17001989.497339875,
          -16996976.06100718,
          -17028994.534714546,
          -9969793.514546257,
          -9834709.79845753,
          -9952031.043607984,
          -10008604.139736887,
          -10039333.339063264,
          -17891412.70489032,
          -17889835.72497058,
          -17910265.92767526,
          -17890935.66798574,
          -17915670.850190435,
          -12613778.665499125,
          -12613773.68067206,
          -12613778.665499125,
          -12613773.68067206,
          -12613773.68067206,
          -13479431.270563219,
          -13479431.270563219,
          -13479431.270563219,
          -13479431.270563219,
          -13479431.270563219,
          -17583318.52607539,
          -17510048.33345501,
          -17072647.486600053,
          -17621063.77681922,
          -17188103.547698826,
          -16423368.564264152,
          -16423368.564264152,
          -16423368.564264152,
          -16423368.564264152,
          -16423368.564264152,
          -19099185.6663863,
          -19098076.525609422,
          -19092844.040610574,
          -19097123.99427531,
          -19103662.108110335,
          -9733252.000039678,
          -15561325.494814076,
          -12934484.630582038,
          -9218593.098911047,
          -13855320.619461168,
          -18055964.86948535,
          -17943605.384981044,
          -17728112.05210237,
          -17898042.583169468,
          -18003423.3097805,
          -18586745.843646064,
          -18555993.67588669,
          -18589093.299420796,
          -18538309.157690313,
          -18543749.090350345,
          -16665484.854410456,
          -16574243.216642365,
          -17427973.57168725,
          -17259586.50190416,
          -16958501.40493112,
          -17683261.738667157,
          -17470296.80687093,
          -17677075.177376732,
          -17675117.389969062,
          -17664733.604288556,
          -13041455.287487714,
          -13048169.950073773,
          -13042574.397918725,
          -13047796.913263436,
          -13037165.364168841,
          -16212636.99054041,
          -16214502.174592093,
          -16214502.174592093,
          -16214502.174592093,
          -16214502.174592093,
          2824308.657414982,
          2820391.7709064474,
          2824122.139009814,
          2822256.9549581306,
          2822256.9549581306,
          -19001349.641322665,
          -18988042.74260015,
          -18988047.72742722,
          -19008015.55275158,
          -19001714.735792395,
          10662691.524630208,
          16815966.084427413,
          14515183.403537814,
          23593713.78665988,
          14464194.636209575,
          15324156.622178456,
          15097076.951256845,
          -15131740.949528603,
          -15166446.460344983,
          -15118851.548389375,
          -15138901.727939283,
          -15149374.031550229,
          -19062522.789260946,
          -19063018.80126317,
          -19063018.80126317,
          -19064883.985314846,
          -19063018.80126317,
          -16356589.790847644,
          -16353029.765593307,
          -16352431.586345317,
          -16355393.432351653,
          -16353328.855217306,
          -17325834.529927537,
          -17476476.003880817,
          -17393727.87457491,
          -17217136.24964157,
          -17453487.698907096,
          -14991918.740464594,
          -14990053.556412915,
          -14991918.740464594,
          -15100587.970516928,
          -14915152.403638635,
          -7891873.226866778,
          -7889908.346273761,
          -7892072.6199494405,
          -7891374.744160115,
          -7892770.49573877,
          -15589687.600288287,
          -15590797.13692044,
          -15590224.707027437,
          -15590832.460074289,
          -15585844.660966096,
          -19043212.141612288,
          -19043234.34470096,
          -19040999.25219325,
          -19040503.24019104,
          -19042368.42424272,
          -13888495.45555155,
          -13888495.45555155,
          -13888495.45555155,
          -13888681.973956717,
          -13888681.973956717,
          -19019739.472826194,
          -18890055.47064525,
          -19030084.482337445,
          -18948935.26144499,
          -18876922.630356256,
          -1258764.7457953144,
          -1252936.4071348095,
          -1246929.9076103892,
          -1259761.7112086387,
          -1259761.7112086387,
          -14391475.556734385,
          -14391475.556734385,
          -14391475.556734385,
          -14391475.556734385,
          -14389610.372682702,
          -18912460.674106736,
          -18911041.90085704,
          -18912956.686108947,
          -18908680.70480315,
          -18910545.888854824,
          -18261195.79855843,
          -18181900.270771064,
          -18077064.77695118,
          -18167243.3461798,
          -18170266.280852675,
          -17645414.65521415,
          -17645228.136808984,
          -17646347.247239992,
          -17644109.026377972,
          -17643735.989567634,
          -17966223.883832794,
          -18004668.865253594,
          -18007038.51498606,
          -17999550.298200067,
          -17966975.324109275,
          -13323554.92849681,
          -13325548.859323459,
          -13324551.893910134,
          -13325548.859323459,
          -13324551.893910134,
          -15763936.099160466,
          -15766912.171173755,
          -15764928.123164898,
          -15768281.343223223,
          -15768281.343223223,
          -7778221.963519777,
          -7778221.963519777,
          -7778221.963519777,
          -7778221.963519777,
          -7778221.963519777,
          -18147953.430307183,
          -18147407.81710475,
          -18147288.953147568,
          -18147407.81710475,
          -18147407.81710475,
          -18857702.146655686,
          -18858158.280041367,
          -18858148.31038723,
          -18857562.571497817,
          -18857742.025272213,
          -17001450.13645804,
          -17001450.13645804,
          -16999584.952406358,
          -16999584.952406358,
          -16999584.952406358,
          -19090371.942528136,
          -19090361.972874004,
          -19090371.942528136,
          -19090361.972874004,
          -19090371.942528136,
          -18783863.652115997,
          -18785728.83616768,
          -18783863.652115997,
          -18783863.652115997,
          -18783863.652115997,
          14959376.140753575,
          14936608.561618932,
          14787754.061037559,
          15019254.896589259,
          14799556.047776094,
          -18822402.234156437,
          -18821906.222154226,
          -18821906.222154226,
          -18822402.234156437,
          -18821906.222154226,
          -18641936.74868384,
          -18656661.733037997,
          -18659272.990710355,
          -18625150.09221869,
          -18656112.14747663,
          -17917567.847078126,
          -18099519.953893322,
          -17861398.498693846,
          -18077532.206772923,
          -18077474.699318465,
          -17773411.917965066,
          -17773411.917965066,
          -17773411.917965066,
          -17771546.733913377,
          -17773411.917965066,
          -7961039.066672637,
          -7951713.146414221,
          -7959173.882620955,
          -7924108.422449313,
          -7946490.63106951,
          -19125942.6473487,
          -19127728.074167315,
          -19126152.010085493,
          -19126042.34389003,
          -19126251.706626832,
          -18181497.26004465,
          -18069127.19375809,
          -17622439.60505113,
          -18356261.74681089,
          -17882253.01213502,
          5722904.407570093,
          5721039.22351841,
          5721039.22351841,
          5722904.407570093,
          5721039.22351841,
          -17301388.07742592,
          -17311889.481086716,
          -17313557.086280894,
          -17317515.811472803,
          -17331651.93972041,
          -17451740.87658743,
          -17449689.17413058,
          -17449875.692535747,
          -17449689.17413058,
          -17451740.87658743,
          -15514334.202694712,
          -15514334.202694712,
          -15512469.018643038,
          -15514334.202694712,
          -15512469.018643038,
          -11930795.702018067,
          -11930795.702018067,
          -11930795.702018067,
          -11930935.277175931,
          -11930795.702018067,
          -17516799.692207836,
          -17608577.638982985,
          -17650794.073927138,
          -17651218.338640142,
          -17556897.88940839,
          -18350135.019326147,
          -18267633.47595515,
          -18341929.414978508,
          -18393823.834874216,
          -18366679.15634457,
          -15091431.062872918,
          -15097541.602127828,
          -15086074.029170152,
          -15103394.647832807,
          -15099703.231506415,
          -18541283.86395278,
          -18607042.90768825,
          -18215079.4160127,
          -18424481.256285395,
          -18635141.950615376,
          8370152.346670067,
          6519913.286315402,
          9315404.305276329,
          9317140.742553046,
          6817748.451349394,
          -18112619.84644992,
          -17203023.94471913,
          -18630332.046082005,
          -16042917.919035213,
          -18197800.881437577,
          -18772211.636306383,
          -18774244.526091825,
          -18766006.927735608,
          -18778303.24519449,
          -18770346.452254705,
          -14023012.310556117,
          -14620444.002265964,
          -14798255.230053859,
          -14999948.212161107,
          -15604395.955288408,
          -15551397.51320756,
          -15551584.031612732,
          -15549718.847561043,
          -15549718.847561043,
          -15549532.32915588,
          -18316985.575391248,
          -18315616.403341778,
          -18314624.379337348,
          -18316985.575391248,
          -18317481.587393463,
          -17088783.311433297,
          -17113575.381300703,
          -17094285.001064785,
          -17081499.252928995,
          -17098539.03846101,
          -16096551.892470408,
          -16862096.57638398,
          -6762038.200225235,
          -16509400.429101562,
          -16525467.78877464,
          -16140027.05304141,
          -16687418.091539076,
          -16667107.247953724,
          -16044670.859853294,
          -14378460.823976383,
          -14356183.401025187,
          -13777020.804128552,
          -14094184.552340597,
          -14398130.256629499,
          -14397262.037991138,
          -18116323.061933354,
          -18120831.063059114,
          -18119674.583179653,
          -18120811.12375084,
          -18121207.439211722,
          -19010931.344516713,
          -19013151.653383993,
          -19033134.433189552,
          -19008711.035649423,
          -19008711.035649423,
          -16998054.64150475,
          -16997558.62950253,
          -17000038.6895136,
          -17001903.873565286,
          -16998550.653506964,
          -3089109.4281993276,
          -3089109.4281993276,
          -3087244.2441476444,
          -3087244.2441476444,
          -3089109.4281993276,
          -18898011.81536571,
          -18897825.296960536,
          -18898011.81536571,
          -18898011.81536571,
          -18898011.81536571,
          -16530400.036465483,
          -10195081.924271861,
          -15618537.746951988,
          -13400316.173860135,
          -16594083.17588678,
          -15935006.052502591,
          -15812948.882726764,
          -15706324.208826467,
          -16092608.10346323,
          -16203115.127350347,
          -16799496.692800038,
          -16799496.692800038,
          -16799496.692800038,
          -16778431.67234527,
          -16801361.876851723,
          -15935979.968284532,
          -15912493.92275772,
          -15927478.437047344,
          -15887005.017657634,
          -15925727.728920497,
          5466163.654380672,
          1712260.301610082,
          5776830.867979422,
          8725195.715644343,
          7018481.140865419,
          -17735135.224605292,
          -17736127.24860972,
          -17735631.236607503,
          -17735135.224605292,
          -17733766.052555818,
          -7332093.976631299,
          -7557385.5348069435,
          -8223974.206994378,
          -8290535.134437378,
          -7311427.208015065,
          -12437688.599636659,
          -12492831.226849025,
          -12459991.384850834,
          -12499352.578293012,
          -12453404.028561108,
          -18941878.76052015,
          -18943743.944571834,
          -18941878.76052015,
          -18943743.944571834,
          -18943743.944571834,
          -14169422.154463155,
          -10972177.385574091,
          -12615205.947364302,
          -14169422.154463155,
          -10881499.846831046,
          -17797155.67668721,
          -17819684.2282837,
          -17815588.666882426,
          -17784129.328030664,
          -17797145.70703308,
          -2465289.48096179,
          -7876921.486274211,
          408977.3423416576,
          -485999.2493678366,
          -800811.58245745,
          -2471570.340982951,
          -2469209.1449290537,
          -2579930.90761243,
          -2547597.2059455165,
          -2450634.0673031434,
          -16756414.125265367,
          -16766521.60671684,
          -16751655.2708106,
          -16766268.408638276,
          -16766197.762330575,
          -18767689.305067956,
          -18765824.121016275,
          -18767689.305067956,
          -18767689.305067956,
          -18767193.29306574,
          -16517457.411835184,
          -16582831.418458534,
          -16912073.962763306,
          -16634825.253139373,
          -16837945.77484956,
          -18136095.54836191,
          -17908866.890163604,
          -16432156.708875032,
          -17615350.367621414,
          -18524173.775851868,
          -15945519.01255134,
          -15880716.26068527,
          -16051197.346363699,
          -15837846.747912338,
          -15971440.113297768,
          -18132600.412414122,
          -18110136.82536102,
          -18101963.367944747,
          -18139650.31954138,
          -18139958.92493449,
          -9565572.43716678,
          -9563449.759565167,
          -9578532.987539995,
          -9561584.575513484,
          -9565572.43716678,
          -12051579.311666964,
          -12058686.816335201,
          -12061548.965800205,
          -12054570.207906937,
          -12044729.300548663,
          -15952420.196814938,
          -15952420.196814938,
          -15946451.607849557,
          -15958388.785780327,
          -15952979.752030443,
          35046212.98744606,
          35048264.68990292,
          35049132.90854128,
          35045589.05884307,
          35047267.72448958,
          -19036144.868504,
          -19037432.647647023,
          -19037432.647647023,
          -19037432.647647023,
          -19039297.831698705,
          -16966530.700747434,
          -17098832.9828961,
          -17077496.040240936,
          -17147842.429472804,
          -17032899.490969058,
          -19121242.895163644,
          -19075895.169794757,
          -19135985.870645575,
          -19108604.42359904,
          -19091419.419871006,
          -17354594.286161795,
          -17553369.25027036,
          -16924902.19301908,
          -17473233.17034737,
          -15227070.094128052,
          -19090442.418296844,
          -19090402.786750756,
          -19090452.387950983,
          -19090628.936702017,
          -19090452.387950983,
          -14192718.866626289,
          -14139069.25271195,
          -13884843.07231429,
          -14054140.67417423,
          -13940486.617055275,
          -13289030.208624264,
          -13086247.443554131,
          -12316334.531543218,
          -13212437.515525976,
          -13325020.660045266,
          -18360423.230229806,
          -14549583.793097822,
          -18038055.658097655,
          -12477178.825206218,
          -17059132.158617415,
          -5601164.811172786,
          -5560436.45591864,
          -5484320.736919327,
          -5583056.318682421,
          -5624260.71066848,
          -19154888.94912127,
          -19154329.393905774,
          -19153396.801879928,
          -19150599.025802396,
          -19150599.025802396,
          -18840305.465620168,
          -18840310.42574019,
          -18840310.42574019,
          -18840305.465620168,
          -18840305.465620168,
          -17475045.76377772,
          -17544655.75293798,
          -17550251.30509303,
          -17475444.549943045,
          -17546221.847365666,
          -18688428.060598306,
          -18688757.05918471,
          -18687983.070365045,
          -18687933.222094383,
          -18688637.42333511,
          -10989140.359717011,
          -12864507.961589275,
          -14980362.77388473,
          -17294229.57408859,
          -17296094.758140277,
          -17296094.758140277,
          -17296590.77014249,
          -17296590.77014249,
          -14263144.108269278,
          -14162424.169478392,
          -14272470.028527692,
          -14279930.764734427,
          -14162424.169478392,
          -17287258.311248556,
          -17293111.35695354,
          -17291117.426126886,
          -17291117.426126886,
          -17290249.20748853,
          -7592639.162133165,
          -7581448.057823066,
          -7608679.744977637,
          -7583313.241874749,
          -7581448.057823066,
          -17517012.386838168,
          -17539215.475511007,
          -17501470.224767175,
          -17505414.830499526,
          -17539215.475511007,
          -18244680.556073528,
          -18242815.37202185,
          -18244680.556073528,
          -18242319.360019635,
          -18242319.360019635,
          4548938.313222635,
          4586241.994256293,
          4534512.852811383,
          4588107.178307977,
          4601659.478671973,
          -12899314.33829163,
          -12897449.154239945,
          -12899314.33829163,
          -12893408.067498326,
          -12899314.33829163,
          -14678848.461193798,
          -14680713.64524548,
          -14680713.64524548,
          -14678848.461193798,
          -14678848.461193798,
          -17620228.456118383,
          -17620228.456118383,
          -17620091.538913436,
          -17622639.253372505,
          -17622589.65217228,
          -19127883.74310657,
          -19127931.489022672,
          -19140828.446895022,
          -19125916.944135692,
          -19126941.181426592,
          -19132187.655529328,
          -19132337.20034133,
          -19129574.74741765,
          -19123592.954937708,
          -19132097.928642128,
          -8157931.538993252,
          -8159610.204639764,
          -8189647.913814457,
          -8159610.204639764,
          -8156748.055174759,
          -12124107.926252402,
          -12604134.419245742,
          -12352294.14194646,
          -15469084.58758217,
          -15466198.14064845,
          -15479986.865374157,
          -15453057.239885164,
          -15438842.23054869,
          -18818756.209472876,
          -18825162.20863608,
          -18825748.594156213,
          -18822737.46936889,
          -18813287.184163783,
          -10194014.021283384,
          -10159988.450455397,
          -10173177.44414491,
          -10098305.341604263,
          -10101257.21795647,
          -16252442.751253858,
          -16297625.745868875,
          -16333177.5940297,
          -16336200.012192206,
          -16298813.80919255,
          -16325896.943698686,
          -16074059.32122816,
          -15896490.355015973,
          -15931423.825442493,
          -16127649.413702229,
          -18171951.216593128,
          -18175890.88091658,
          -18185216.801174995,
          -18175890.88091658,
          -18171596.091777526,
          -18093748.88726422,
          -18113706.356617223,
          -18114265.911832724,
          -18115758.05907408,
          -18095614.071315896,
          -17403944.552882675,
          -17408643.165002793,
          -17402362.282898854,
          -17405938.48370932,
          -17409157.823265586,
          -15702491.983405573,
          -15712551.713508174,
          -15677632.850173054,
          -15747531.606400019,
          -15703713.967390204,
          -16793316.429445613,
          -17204665.34549435,
          -15468080.342258638,
          -15479271.446568742,
          -15495312.029413212,
          -5135882.798977474,
          -8631500.30851855,
          -4767286.899258259,
          -5894153.543442422,
          -5762378.554885085,
          4188079.4657400306,
          -3944073.39839783,
          1968560.0454374282,
          1595473.633900597,
          -2601190.482386258,
          -17474201.84735469,
          -17994945.53938626,
          -17455211.091553565,
          -17535187.01182016,
          -17922704.238546073,
          8430774.877903396,
          16524140.10326887,
          7540613.51057989,
          9395837.398001177,
          15441435.664398838,
          -18522492.049394388,
          -18525283.552551698,
          -18500558.81030125,
          -18528174.752250336,
          -18499561.844887935,
          -18021911.82189281,
          -18037767.368754793,
          -18053936.37584811,
          -18004083.540223014,
          -18030295.31934702,
          -6285496.055500156,
          -6287361.239551839,
          -6289226.423603523,
          -6287361.239551839,
          -6287361.239551839,
          -11931309.49883439,
          -11928383.028021324,
          -11946735.472103262,
          -11933045.540842142,
          -11929573.456826638,
          952053.4076799941,
          952053.4076799941,
          952053.4076799941,
          950188.2236283111,
          952053.4076799941,
          -16688047.569534495,
          -18604514.40226993,
          -18332507.390928414,
          -16701203.721351134,
          -18080025.497588675,
          -16989576.569201484,
          -17061722.912263345,
          -14993626.081050387,
          -16918409.490093388,
          -13494195.316085717,
          5092230.998653073,
          10051372.003956255,
          11022588.85163996,
          -97681.2925922469,
          -18496715.989776533,
          -18496033.45936914,
          -18496529.471371364,
          -18498085.161826003,
          -18500073.32106956,
          -19017456.76321335,
          -19017922.86625316,
          -19017982.68417797,
          -19017873.017982494,
          -19017942.80556143,
          -17203210.738151703,
          -17504842.288861856,
          -18066478.802159257,
          -18170749.167389594,
          -18043614.6152256,
          -7823439.718563987,
          -7810620.404365591,
          -7781977.29072286,
          -7809621.2770529995,
          -7785524.132494518,
          -16609310.154258413,
          -16730452.727408882,
          -16988314.410896786,
          -15790555.028257458,
          -15674162.889075922,
          -19034371.07999203,
          -19032166.242611017,
          -19041177.207713626,
          -19020056.165645722,
          -19043130.577128507,
          12889574.422037,
          -14641108.051459208,
          -14643201.678827187,
          -14642204.713413863,
          -14638970.35731271,
          -14644466.212926429,
          -18370120.900182378,
          -18371986.08423406,
          -18370989.118820738,
          -18371613.877597917,
          -18370616.912184592,
          -15875356.87279774,
          -15875356.87279774,
          -15875356.87279774,
          -15875356.87279774,
          -15875356.87279774,
          -18701558.664321862,
          -18701077.53267971,
          -18700581.520677492,
          -18700581.520677492,
          -18703428.808493562,
          -14217988.563325725,
          -16231075.90622586,
          -13556425.959233321,
          -15551575.927790385,
          -16085950.715208068,
          -18996230.49642306,
          -18996230.49642306,
          -18994315.711171158,
          -18994315.711171158,
          -18996230.49642306,
          -17366696.00120769,
          -17367593.270079684,
          -17367194.483914353,
          -17367600.769029364,
          -17365428.996404003,
          -18893759.643755622,
          -18893710.042555403,
          -18893759.643755622,
          -18893754.65892856,
          -18893744.689274427,
          -16476850.652646044,
          -16477346.66464826,
          -16477446.361189594,
          -16477346.66464826,
          -16477346.66464826,
          -18185063.987313643,
          -18183198.80326196,
          -18183198.80326196,
          -18185063.987313643,
          -18185063.987313643,
          -19164675.980814043,
          -19164675.980814043,
          -19164675.980814043,
          -19164675.980814043,
          -19164675.980814043,
          -18564795.57639051,
          -18564992.49876872,
          -18564090.28848784,
          -18567253.99828129,
          -18566784.565808266,
          -18215260.4052186,
          -18217812.636676714,
          -18218521.340848938,
          -18215630.1411503,
          -18210445.92100101,
          -16648520.029592915,
          -16649016.041595133,
          -16649016.041595133,
          -16648520.029592915,
          -16649016.041595133,
          -18666166.472377434,
          -18610109.838399697,
          -18682360.677769855,
          -18581256.6179258,
          -18699817.955073725,
          -17213425.898635436,
          -18005119.91161054,
          -17331781.40272339,
          -16393749.703101212,
          -16685925.738474885,
          -16492824.509810919,
          -16509611.166276071,
          -16485363.773604188,
          -16507745.982224388,
          -16531993.374896267,
          -12425739.392001975,
          -12075704.835383866,
          -12719644.795849936,
          -17121540.123898823,
          -17123611.70744779,
          -17138064.80091763,
          -17133114.892347515,
          -17132245.427927177,
          -18261246.52995784,
          -18476128.58284783,
          -18031632.638138663,
          -18578661.138005782,
          -18580171.197241865,
          -13375523.414399609,
          -13377388.598451292,
          -13375523.414399609,
          -13375523.414399609,
          -13375523.414399609,
          -15321126.068162883,
          -15353038.931043388,
          -15239364.934616169,
          -15178560.014057528,
          -15248337.623336086,
          9518258.113081358,
          9516392.929029679,
          9518258.113081358,
          9518258.113081358,
          9518258.113081358,
          -11210530.949844288,
          -11204935.397689238,
          -11210034.937842073,
          -11204935.397689238,
          -11204935.397689238,
          -11763596.938772837,
          -16408622.36336556,
          -16052391.019874595,
          -16075518.879452823,
          -16391134.141759064,
          -19117660.515575342,
          -19121619.4491752,
          -19129372.55106845,
          -19086794.682295382,
          -19093372.822679397,
          -14351345.264937095,
          -14351345.264937095,
          -14350348.29952377,
          -14351345.264937095,
          -14350348.29952377,
          -16273791.549877714,
          -16285278.812125815,
          -16302740.317975083,
          -16306909.092250235,
          -16268060.550519593,
          -19145287.01594537,
          -19145287.01594537,
          -19145287.01594537,
          -19145287.01594537,
          -19145287.01594537,
          -17652161.071781415,
          -17147994.179840725,
          -17679778.496153165,
          -17555157.819487642,
          -17646476.886502795,
          -17471748.77473817,
          -17353525.816290796,
          -17344820.585689902,
          -17153963.58307715,
          -17364161.524897736,
          -18064564.243413933,
          -17763898.910302103,
          -17820197.174083814,
          -17893822.491519783,
          -17805010.13682842,
          -18209864.138277177,
          -18193833.525086835,
          -18208185.47263066,
          -18167710.978709135,
          -18186549.337631136,
          -16218173.082109498,
          -15828852.953134734,
          -16114367.284851832,
          -15564463.979613889,
          -16235304.400637573,
          -18521776.983521648,
          -18377207.30752148,
          -18503810.082183473,
          -18289021.872645855,
          -18524273.37076778,
          -18371302.193753853,
          -18373913.45142621,
          -18370556.12013318,
          -18371861.748969357,
          -18368690.936081495,
          -17595348.09546168,
          -17499567.671064574,
          -17608179.899059925,
          -17528016.223782174,
          -17540793.867653836,
          -17992907.20613358,
          -18144240.101315133,
          -17999464.927218072,
          -18134412.546206225,
          -18079478.776176613,
          -13629327.819540165,
          -13386569.034904893,
          -13409144.663416965,
          -14213257.151305242,
          -9743660.08774891,
          -19063730.004589684,
          -19063675.443269446,
          -19063725.044469666,
          -19063675.443269446,
          -19063675.443269446,
          -15803881.02169766,
          -15815258.644412925,
          -15816750.791654268,
          -15819175.530921457,
          -15809476.573852705,
          -18743627.74384044,
          -18837762.16891901,
          -18775811.479914196,
          -18748475.101586733,
          -18737222.74476527,
          -16640222.001386851,
          -16637231.105146876,
          -16648384.243098611,
          -16605328.211920504,
          -16625267.520186985,
          -8338354.358782556,
          -8077134.036899644,
          -8105890.377318613,
          -8275737.843112638,
          -7993570.424522919,
          -17064170.039933972,
          -17020799.573749922,
          -17017126.977276765,
          -17152399.008308716,
          -17322880.093987145,
          3317425.248826884,
          3334477.470133955,
          4710889.847902724,
          3307805.338194887,
          3321421.1817721734,
          -18743827.30383514,
          -18914903.1329069,
          -19005883.725822415,
          -17680035.648932546,
          -18917800.30264432,
          -19126912.379139222,
          -19126912.379139222,
          -19126912.379139222,
          -19126912.379139222,
          -19126912.379139222,
          11425491.029758042,
          12813273.36216656,
          10630935.95763852,
          12966275.778723655,
          -15592097.044977456,
          -15452322.494029408,
          -15490137.145086348,
          -15106594.580926415,
          -15139694.079719223,
          -19117203.304316062,
          -19105639.163195625,
          -19113472.936212692,
          -19104323.63172353,
          -19107504.34724731,
          -14020590.824302875,
          -14021086.83630509,
          -14021086.83630509,
          -14020590.824302875,
          -14021086.83630509,
          -9614506.946838012,
          -9617369.096303022,
          -9616372.130889695,
          -9615503.912251335,
          -9617865.108305233,
          -17616064.430780824,
          -17623525.166987557,
          -17624830.795823734,
          -17617743.09642734,
          -17624271.24060823,
          -2084095.3956947888,
          -2116107.3221760658,
          -2077629.7985715966,
          -2086456.5917486865,
          -2030005.0581959807,
          -16291646.708990287,
          -16295235.784478253,
          -16300349.358319841,
          -16298530.711751116,
          -16297232.186009351,
          -19112616.755577978,
          -19112616.755577978,
          -19112616.755577978,
          -19112616.755577978,
          -19112616.755577978,
          -18712230.43324577,
          -18722457.475078635,
          -18710279.62625627,
          -18717215.022661943,
          -18698054.371717382,
          -19087315.552252144,
          -19100872.91696811,
          -19105129.89117966,
          -19111895.4133042,
          -19072740.362636138,
          -5374249.963857348,
          -5381661.098863858,
          -16589427.816237237,
          -16623869.347805895,
          -16675226.282614658,
          -16693664.53501987,
          -16646251.556426087,
          -3563756.7308338676,
          -3582408.571350698,
          -3563756.7308338676,
          -3582408.571350698,
          -3582408.571350698,
          -13573622.328169338,
          -14055152.187411409,
          -13974413.653273134,
          -15760893.864161799,
          -12479143.024415094,
          -13906429.789123667,
          -13910160.157227034,
          -13908294.97317535,
          -13908294.97317535,
          -13908294.97317535,
          -16840086.587963887,
          -16838211.434258074,
          -16838221.40391221,
          -16838221.40391221,
          -16840459.62477422,
          -10937193.192806158,
          -11454323.222871704,
          -6462708.6085220035,
          -11994430.415660951,
          -12248879.852831602,
          -17615705.232524555,
          -17613840.04847287,
          -17613840.04847287,
          -17615705.232524555,
          -17615705.232524555,
          -15751206.7842761,
          -15751206.7842761,
          -15751206.7842761,
          -15751206.7842761,
          -15751206.7842761,
          -10864522.704634849,
          -10862528.7738082,
          -10863525.739221526,
          -10862528.7738082,
          -10863525.739221526,
          -14331006.028464269,
          -14329140.844412586,
          -14332871.21251595,
          -14329140.844412586,
          -14329140.844412586,
          -16471352.870288154,
          -16401059.654972909,
          -16407001.422307994,
          -16567282.805793785,
          -16311432.961910896,
          -12523654.073536804,
          -13243382.424328458,
          -13309497.374963243,
          -13522086.079265514,
          -12729783.067421095,
          -18181200.818119194,
          -18256474.139327925,
          -18222319.074876565,
          -18283991.711158305,
          -18225140.033696286,
          -18273237.372988112,
          -18284303.031401888,
          -18283071.34975205,
          -18259283.81575434,
          -18264979.064450726,
          -18851675.789179433,
          -18851862.307584595,
          -18851675.789179433,
          -18851675.789179433,
          -18851862.307584595,
          -18270881.068969153,
          -18128257.243233602,
          -18284099.1128923,
          -18285964.296943977,
          -18269015.884917468,
          -10202482.248178894,
          -13888656.744296988,
          -15451022.560858725,
          -15067048.561781075,
          -10306565.24751928,
          -11404115.40552693,
          -12645469.648127269,
          -12541401.517523296,
          -12693195.911374,
          -12753656.055071713,
          -13793084.838379461,
          -12800635.678377667,
          -13848326.691931752,
          -13986933.934617441,
          -13395305.608117256,
          -5122567.777835305,
          -5128845.030223546,
          -5105728.307311921,
          -5131505.641660171,
          -5109549.455831887,
          -18800842.168189567,
          -18685386.107090797,
          -18823045.256862406,
          -18605454.987868574,
          -18900756.067217346,
          -5920944.645585222,
          -7964910.261304907,
          -5522158.480255561,
          -5920944.645585222,
          -7914875.47223353,
          -16933583.69979936,
          -14405022.292431075,
          -14024924.479024932,
          -15311700.57396988,
          -16953775.217008907,
          -17411721.865539808,
          -17434218.078459587,
          -17359426.47672942,
          -17394941.535788175,
          -17378435.781407014,
          -16132978.040521411,
          -16133164.558926586,
          -16132978.040521411,
          -16132978.040521411,
          -16132978.040521411,
          -16016880.631338669,
          -16016880.631338669,
          -16016880.631338669,
          -16016880.631338669,
          -16016880.631338669,
          -19133999.571005266,
          -19133999.571005266,
          -19133999.571005266,
          -19133999.571005266,
          -19133999.571005266,
          -17765339.28538774,
          -17782234.4236718,
          -17787963.046400346,
          -17753826.604288932,
          -17767353.253605194,
          -12606599.69817842,
          -12590018.405121371,
          -9319991.19198945,
          -11907052.747835888,
          -11263870.05436469,
          -17768663.362906963,
          -17769218.89634944,
          -17769169.295149215,
          -17770588.068398908,
          -17769268.49754966,
          -15268614.322401166,
          -15861791.91478161,
          -15920015.957333213,
          -16008828.312024578,
          -15955540.899209756,
          -19015382.5302572,
          -19008407.402079627,
          -18995642.943910442,
          -19018392.574094884,
          -18999746.34882414,
          -18038662.43364754,
          -18019107.56733418,
          -18026372.774105683,
          -17857548.733436383,
          -17850341.653441124,
          -2643212.0456350273,
          -2643212.0456350273,
          -2642716.0336328126,
          -2642220.0216305987,
          -2643212.0456350273,
          -2766320.367600912,
          -2766182.04702709,
          -2765500.3467939,
          -2765895.83208059,
          -2765574.293980239,
          -6560679.160543372,
          -6560679.160543372,
          -6558813.97649169,
          -6558813.97649169,
          -6560728.761743594,
          -3056854.643578678,
          -8813947.447234983,
          -9820922.199862882,
          3417863.41305696,
          -5194700.772230887,
          -18679919.601586748,
          -18548921.378416985,
          -18677699.292719465,
          -18594375.01821474,
          -18363143.59519106,
          -18274259.75103655,
          -18281351.080148656,
          -18277479.090592824,
          -18281039.11584716,
          -17706383.845236406,
          -18919226.185901236,
          -18727551.33299306,
          -18841334.13688698,
          -18805071.17537117,
          -18084136.434762843,
          -8761697.610010352,
          3255000.8765380112,
          -6481222.247180928,
          -4398696.423536626,
          -9200539.120359654,
          -17490920.101626,
          -17460869.12191854,
          -17518260.99575761,
          -17460990.47888073,
          -17552040.52996138,
          -16801626.037550267,
          -16881001.98055315,
          -16916782.110108122,
          -17015692.948229484,
          -17029104.802892067,
          -18122508.84061775,
          -18122508.84061775,
          -18124374.024669435,
          -18124374.024669435,
          -18124374.024669435,
          -6565764.583981443,
          -11338624.728487987,
          -6391469.190907199,
          -12202306.577242378,
          -9024900.366669668,
          -18251777.71000126,
          -18236843.03407324,
          -18277150.81486143,
          -18280135.109344125,
          -18207386.329571206,
          -15050326.997934423,
          -15744253.92462946,
          -15442391.805030815,
          -15368070.487270521,
          -14526756.143260766,
          -19000956.279319536,
          -19043142.147797935,
          -18741366.660252467,
          -19043142.147797935,
          -19042965.599046893,
          -19082358.05778304,
          -19091124.42282595,
          -19088326.646748424,
          -19076575.98722282,
          -19087207.536317408,
          -17160222.369972955,
          -16732398.500504453,
          -17056499.005620804,
          -17265853.870099176,
          -16730140.956634313,
          -16576991.137289539,
          -16549076.105716465,
          -16452370.46062402,
          -17579226.472683705,
          -17579226.472683705,
          -17580905.13833022,
          -17579226.472683705,
          -17580905.13833022,
          -13196167.410358695,
          -15578584.911445593,
          -16727194.344996758,
          -15489383.558080455,
          -17834687.633601397,
          -16171158.710165456,
          -14597803.271971375,
          -15321109.390527524,
          -16187813.144475883,
          -14569386.734832821,
          -18531436.486577675,
          -18531623.00498284,
          -18529762.781051178,
          -18531436.486577675,
          -18529762.781051178,
          -7610755.606801937,
          -7612620.790853621,
          -7610755.606801937,
          -7612620.790853621,
          -7610755.606801937,
          -7820913.215776944,
          -8172655.525755846,
          -5267042.481037578,
          -14692289.799539179,
          -14433512.041973976,
          -14829020.097097963,
          -13928672.114381436,
          -14980908.783091106,
          -19080910.0768864,
          -19074381.995007094,
          -19075492.149440736,
          -19078289.925518263,
          -19065811.10436672,
          -18646928.856701072,
          -18663528.99476105,
          -18648794.040752757,
          -18648794.040752757,
          -18671735.804588452,
          30430097.426638808,
          38289990.81682442,
          35892057.240157634,
          32272953.786484595,
          30430097.426638808,
          -17291864.419014633,
          -17175219.465655707,
          -17075394.177548327,
          -17371621.652080566,
          -17315662.842159446,
          -19164999.629615206,
          -19164950.02841499,
          -19164950.02841499,
          -19164999.629615206,
          -19164999.629615206,
          -19121175.212226447,
          -19121175.212226447,
          -19121175.212226447,
          -19121175.212226447,
          -19121175.212226447,
          -17821094.006265633,
          -17821705.06019112,
          -17821319.148703292,
          -17815437.05276468,
          -17821418.845244624,
          -11712533.528723018,
          -11713902.700772485,
          -11715767.88482417,
          -11710668.344671333,
          -11713902.700772485,
          -10406453.719933035,
          -10720364.19583129,
          -10542239.11889556,
          -10519856.910275364,
          -9936986.894124411,
          -7511267.864700753,
          -7513133.048752436,
          -7511763.876702967,
          -7511763.876702967,
          -7511267.864700753,
          -13882458.767497256,
          -13880238.458629975,
          -14016563.554033747,
          -14175927.081856962,
          -13703106.646170352,
          -13501021.600670047,
          -13236449.720647642,
          -12657304.231102103,
          -13125434.277283441,
          -13258652.809320487,
          -17289096.42491471,
          -17311478.63353491,
          -17289096.42491471,
          -17300287.52922481,
          -17304017.897328176,
          -5227524.099683348,
          -5227710.618088516,
          -5227573.700883569,
          -5225530.168856699,
          -5226527.134270023,
          -17367643.4512896,
          -17236909.04243414,
          -17336468.86477273,
          -16885162.062614463,
          -17387241.51230549,
          -17265293.538778264,
          -16033022.117435606,
          -16033377.242251204,
          -17329682.495929502,
          -17191481.702937115,
          -16147610.710894609,
          -16011155.196044164,
          -16037944.515428951,
          -16158892.595621308,
          -16008035.553029226,
          -16681556.78453176,
          -16683372.367383221,
          -16680014.205916004,
          -16682375.401969902,
          -16679518.193913784,
          7392163.302468398,
          7395635.3864839,
          7287506.641113838,
          -15570246.553952614,
          -15542601.561769899,
          -14261322.558073604,
          -14775096.53562091,
          -14959265.09769551,
          -16814369.85811924,
          -16813435.18133516,
          -16813639.16834415,
          -16814742.06475538,
          -16815469.849507105,
          -18994059.060252648,
          -19016890.202418707,
          -18808205.88479332,
          -19050158.203659933,
          -19014750.520259384,
          -615443.323820147,
          -620947.2988580624,
          -637825.5324403434,
          -651441.3760176296,
          7599878.605078273,
          -15514066.959437642,
          -16541052.392348826,
          -16005832.642018057,
          -15515781.336062672,
          -16436449.869585365,
          -18129175.549239267,
          -18000528.04955401,
          -18032777.04725072,
          -17981677.15995163,
          -17921766.114059146,
          -15805697.43224122,
          -15804829.213602861,
          -15800841.351949563,
          -15804700.466827897,
          -15803703.501414575,
          -12939612.09746127,
          -12947587.82076786,
          -12954792.956701767,
          -12474788.713535659,
          -12942729.675200546,
          -18229685.937414266,
          -18266989.61844792,
          -18264937.915991068,
          -18264937.915991068,
          -18270533.468146123,
          -17865391.37716318,
          -17817943.930405144,
          -17873028.66212095,
          -17834716.8343879,
          -17855058.521837313,
          -16827578.595193725,
          -16896094.393103782,
          -16994453.13584077,
          -16897463.565153252,
          -16826586.5711893,
          -16763304.168603862,
          -16722983.484177154,
          -16602590.793341592,
          -16890002.661225673,
          -16794529.379932456,
          -18539580.760568112,
          -18569471.88796234,
          -18546083.71816281,
          -18567060.100569867,
          -18553079.24165588,
          -18952643.35809405,
          -18950778.174042366,
          -18997594.293739613,
          -18976394.73876372,
          -18997407.775334448,
          -18281185.903575797,
          -18266501.291994367,
          -18297097.396149695,
          -18314793.331269674,
          -18307108.692203205,
          -18309428.02927089,
          -18309428.02927089,
          -18311293.213322576,
          -18309428.02927089,
          -18309428.02927089,
          -16302397.030999957,
          -16300531.846948268,
          -16302397.030999957,
          -16302397.030999957,
          -16302397.030999957,
          -18279212.50921573,
          -18252032.32762693,
          -18308742.39600925,
          -18326660.78849112,
          -18355896.60497317,
          -18144167.435164213,
          -17045268.939997282,
          -17171948.605957434,
          -17089242.665278483,
          -17156995.785602823,
          -17140309.76922602,
          -18787758.198192786,
          -18938860.690252364,
          -18853429.588090263,
          -18782029.91499772,
          -18958084.30238203,
          -2999202.4220744115,
          -3126232.9903072463,
          -8903905.054070648,
          -4768318.584561363,
          3649345.299732715,
          -4595977.364135217,
          -4595977.364135217,
          -4595977.364135217,
          -4595977.364135217,
          -4595977.364135217,
          -2152386.471638961,
          -2152572.9900441295,
          -2152386.471638961,
          -2152572.9900441295,
          -2152572.9900441295,
          -16483571.237609731,
          -16483571.237609731,
          -16479840.869506367,
          -16481706.053558046,
          -16483571.237609731,
          -19145371.939808123,
          -19147232.163739778,
          -19145316.884346984,
          -19147281.76494,
          -19145421.54100834,
          -18949921.646792676,
          -18943359.965714894,
          -18945430.95527881,
          -18948759.804321334,
          -18948376.575910654,
          -8667252.945603585,
          -8596425.55283985,
          -8618797.791805914,
          -8605651.776556933,
          -8652381.074390342,
          -15439156.750018498,
          -15398709.004471166,
          -15343406.47426531,
          -15387542.991841933,
          -15292631.88449348,
          -18016116.74567713,
          -18016116.74567713,
          -18016116.74567713,
          -18015930.22727196,
          -18016116.74567713,
          -18149254.83605771,
          -18141794.099850975,
          -18143659.283902664,
          -18143659.283902664,
          -18149254.83605771,
          -17907650.491385646,
          -17861379.129988283,
          -17889888.020447373,
          -17877276.416874874,
          -17896548.947049227,
          -17714243.234311026,
          -17715612.406360496,
          -17716108.41836271,
          -17714243.234311026,
          -17716108.41836271,
          22839520.05471221,
          22835603.168203667,
          22839520.05471221,
          22841198.720358722,
          22838400.94428119,
          -9629584.791611074,
          -9600473.401542008,
          -9626195.10920577,
          -9629156.95521211,
          -9639824.48513468,
          -17552128.272034876,
          -17555672.12173307,
          -17553620.419276215,
          -17549703.532767683,
          -17551382.1984142,
          -12638839.019053545,
          -12816463.728436274,
          -12665482.725460958,
          -12787599.713161577,
          -12816463.728436274,
          -19053283.081295703,
          -19008179.02816069,
          -19130844.346838642,
          -19024498.82325407,
          -19133788.69212417,
          -18931934.153864533,
          -18916082.145042572,
          -18933255.333022736,
          -18918621.189723838,
          -18925539.71027066,
          -18139046.351059705,
          -18423545.740707435,
          -18320278.512589585,
          -18514861.795620278,
          -18207152.808331545,
          27230093.911402207,
          27181207.631541304,
          27046578.071184717,
          27108394.472950745,
          27111003.67500575,
          -16377498.478322119,
          -15576285.695932854,
          -16434200.928683499,
          -16406639.128648926,
          -16563310.420413429,
          -13044645.343341447,
          -13706767.252989555,
          -11906993.191181667,
          -13643993.434973676,
          -13710355.656203857,
          65722333.38384976,
          -4153706.9409923437,
          -4153706.9409923437,
          -4153706.9409923437,
          -4153706.9409923437,
          -4151841.7569406605,
          -17070565.54005319,
          -16972923.424276933,
          -17212417.575670175,
          -17355054.86062151,
          -17073543.639765617,
          -16902069.656314947,
          -17081324.03763063,
          -17058294.136582848,
          -17163673.38077121,
          -16272984.48050741,
          -14945312.409947168,
          -14943447.225895485,
          -14945312.409947168,
          -14945312.409947168,
          -14943447.225895485,
          -19155038.79815039,
          -19155038.79815039,
          -19155038.79815039,
          -19155038.79815039,
          -19155038.79815039,
          -17848773.865887865,
          -17853000.24599345,
          -17849269.87789008,
          -17863135.783085827,
          -17862762.74627549,
          -18519640.848485053,
          -18231144.995940093,
          -18370882.274031002,
          -18072381.051679995,
          -18209687.490959004,
          -18380935.867042772,
          -18622217.260716096,
          -18522043.61054453,
          -18784536.06888627,
          -18743742.862742696,
          22281030.632899597,
          22540088.22144086,
          22454601.762070287,
          22529140.15258209,
          22154616.442903284,
          -17332719.81095323,
          -17332719.81095323,
          -17332719.81095323,
          -17334584.99500491,
          -17332719.81095323,
          -16908355.34923817,
          -16180852.495829396,
          -16327930.40588968,
          -16256668.948334806,
          -15931999.39513386,
          -16759051.01076699,
          -16736151.703657022,
          -16754109.704145063,
          -16741083.25198776,
          -16729717.589811204,
          -17128640.38993483,
          -17210391.55382741,
          -17031934.744842388,
          -16965138.062149674,
          -17079789.084681954,
          -18294320.27047863,
          -18294369.87167885,
          -18292504.687627163,
          -18295488.98210986,
          -18294369.87167885,
          -16244377.032514628,
          -16129119.376216743,
          -16182031.607390258,
          -16173150.371921126,
          -16190863.241659177,
          -17373558.630920082,
          -17373020.269596882,
          -17373568.600574214,
          -17373349.515253726,
          -17373947.447431277,
          -18520444.688277658,
          -18522951.271684535,
          -18520481.16933576,
          -18522375.403621074,
          -18520923.330504227,
          -18818078.882296275,
          -18818078.882296275,
          -18818078.882296275,
          -18818078.882296275,
          -18818265.40070144,
          -17906856.662987888,
          -17915933.495517146,
          -17959244.477683183,
          -17916980.06213069,
          -17919120.819994446,
          -16625707.0374779,
          -16625707.0374779,
          -16625707.0374779,
          -16627572.221529575,
          -16625707.0374779,
          -18992766.274758827,
          -18992957.753284022,
          -18992766.274758827,
          -18991087.60911231,
          -18990901.090707142,
          -19049832.98695759,
          -19047967.80290591,
          -19047967.80290591,
          -19049832.98695759,
          -19049336.97495538,
          -17697391.150412392,
          -17697391.150412392,
          -17697391.150412392,
          -17699206.733263854,
          -17697391.150412392,
          -19115444.7296885,
          -19112011.664314374,
          -19114272.058834262,
          -19118944.677109685,
          -19117532.734556254,
          -10668295.269444786,
          -10478046.496173115,
          -10668295.269444786,
          -10479911.6802248,
          -10640317.508669538,
          -18201221.05563005,
          -18285592.792586844,
          -18203441.364497337,
          -18316677.116728824,
          -18365523.911809076,
          -19154621.062259123,
          -19166851.97044031,
          -19169740.289822627,
          -19141912.90533305,
          -19152028.927477438,
          -16103193.61320543,
          -16101141.910748577,
          -16095546.358593527,
          -16102827.178152371,
          -16103566.650015764,
          -17685095.421552695,
          -17606321.463440876,
          -17733424.63484072,
          -17687831.710034285,
          -17609863.257521726,
          -14769555.967632959,
          -14916511.545647044,
          -14860117.604443962,
          -14814243.43872381,
          -14668308.602546083,
          9806800.73733262,
          6465128.9857631,
          -3379882.3469809024,
          697856.889761496,
          -6807809.34408922,
          -17109860.86672419,
          -16851170.659872275,
          -17727389.973258313,
          -17546174.315902915,
          -15388342.241147675,
          -13627029.808257233,
          -14050822.08612637,
          -11863462.72703596,
          -8968179.964097528,
          -15121208.738981558,
          -13177871.384905651,
          -13177871.384905651,
          -13176006.200853968,
          -13177871.384905651,
          -13131014.010479413,
          -17385496.755090337,
          -17386679.408734635,
          -17384504.731085908,
          -17385496.755090337,
          -17389345.987150878,
          -15240422.047814615,
          -15240235.529409446,
          -15240235.529409446,
          -15242287.231866296,
          -15240422.047814615,
          -14607046.809060872,
          -14605181.625009188,
          -14607046.809060872,
          -14605181.625009188,
          -14606997.20786065,
          -18685169.933521103,
          -18687235.130682636,
          -18684521.00668352,
          -18690092.338738743,
          -18689787.80526172,
          -18809162.047136664,
          -18790695.041076567,
          -18797909.011588953,
          -18810145.74201721,
          -18802945.867257264,
          -11822182.276910046,
          -11824047.46096173,
          -11824047.46096173,
          -11822182.276910046,
          -11822182.276910046,
          -18494498.17329405,
          -18492819.50764753,
          -18492819.50764753,
          -18492819.50764753,
          -18494684.691699214,
          -18151822.00676467,
          -18150933.883217752,
          -18127620.64011127,
          -18110044.687578168,
          -18112078.47804028,
          -9880311.421543522,
          -9843307.698305912,
          -4521244.50463312,
          -9897497.289729161,
          -4555650.057653451,
          -18916996.508172967,
          -18909129.57889449,
          -18917988.532177392,
          -7251527.982863801,
          -7166002.233602467,
          -7270095.481111979,
          -7160916.227571845,
          -7239616.591226769,
          -11436213.760652462,
          -12225663.67970665,
          -11347131.484427989,
          -12367387.226202201,
          -12462581.884027496,
          -17921296.634265028,
          -17924582.94059493,
          -17931243.867196787,
          -17927913.40389586,
          -17932131.990743697,
          -14787192.175434029,
          -14789057.35948571,
          -14789057.35948571,
          -14788311.285865035,
          -14790176.46991672,
          -13143416.702347249,
          -13147147.070450615,
          -13147147.070450615,
          -13144785.874396717,
          -13147147.070450615,
          -11717705.902556349,
          -11939736.789284753,
          -13449546.819037924,
          -13560562.262402127,
          -15914089.66172324,
          -17558544.074756257,
          -17558544.074756257,
          -17558544.074756257,
          -17558544.074756257,
          -17558544.074756257,
          -18248320.49646571,
          -17963400.575254492,
          -18158863.019279048,
          -17825803.814508945,
          -18054870.858971648,
          -19030495.57560183,
          -19030495.57560183,
          -19030495.57560183,
          -19030495.57560183,
          -19030495.57560183,
          -14951787.694273148,
          -15134927.28116723,
          -15162867.733258236,
          -15219443.857517047,
          -15041863.854458053,
          -17328464.514545638,
          -17308977.746742293,
          -17102179.52848783,
          -17137704.470364377,
          -17351350.13362586,
          -16566486.064353134,
          -16774591.247259108,
          -16286182.64995391,
          -16541266.940177457,
          -16360662.463062802,
          -14085580.723141493,
          -12755682.831683012,
          -13679330.070675084,
          -13031116.033609217,
          -15212186.796414742,
          -15242095.758814465,
          -15242095.758814465,
          -15319730.314278785,
          -15281974.37534743,
          -18269782.50664407,
          -15881157.2449479,
          -18627989.448546343,
          -18451282.88925843,
          -18245426.12238094,
          -18997393.739238665,
          -18993352.52789388,
          -18993774.38657866,
          -18995639.57063035,
          -18997393.739238665,
          24769176.086866725,
          24342672.942682378,
          24353411.789094772,
          -11141313.613318415,
          -11141313.613318415,
          -11141313.613318415,
          -11141313.613318415,
          -11141313.613318415,
          -1450085.0520477816,
          -1448219.867996099,
          -1450085.0520477816,
          -1446354.6839444158,
          -1448219.867996099,
          -19111862.804446433,
          -19116033.772800785,
          -19116442.99989153,
          -19114203.879541464,
          -19111369.428242758,
          -16904683.23799712,
          -16904683.23799712,
          -16904683.23799712,
          -16904683.23799712,
          -16902818.053945433,
          -17013968.44140185,
          -16985691.591002606,
          -17023394.058201596,
          -17035401.88244007,
          -16994946.86495332,
          -13259890.52250033,
          -13259890.52250033,
          -13259890.52250033,
          -13259890.52250033,
          -13259890.52250033,
          -19158264.604269266,
          -19159383.71470028,
          -19152109.496898714,
          -19157891.56745893,
          -19145208.315907486,
          -18110383.774706483,
          -18460874.637937613,
          -18337491.343152516,
          -18439521.355414685,
          -18504028.029450882,
          -19039754.821965598,
          -19045536.892525814,
          -19038399.591929194,
          -19037703.119508747,
          -19034532.30662088,
          -18857229.69788758,
          -18858457.982750434,
          -18868879.20445497,
          -18845921.832336217,
          -18841191.52381438,
          -17199326.288516812,
          -17201301.13876396,
          -17199356.197479207,
          -17201141.624297827,
          -17201024.8934716,
          -17347589.436454587,
          -17345094.55221683,
          -17361489.18061092,
          -17348075.478802662,
          -17359991.261786487,
          -14989247.615224188,
          -15027460.440788137,
          -15004202.096424052,
          -15017133.596563634,
          -15027231.997471841,
          -16287833.290912976,
          -16285968.106861293,
          -15055916.994385917,
          -16285968.106861293,
          -16165716.303212354,
          -18445081.996958014,
          -18534099.22517272,
          -18789108.85076601,
          -18849083.37541576,
          -18726309.942120936,
          20002587.315743856,
          20002587.315743856,
          20002587.315743856,
          20002587.315743856,
          20002587.315743856,
          -18605639.85183981,
          -18628409.683151368,
          -18635809.090168733,
          -18593882.641044486,
          -18542267.251416847,
          -18843486.050846465,
          -18847226.38860396,
          -18858780.560070265,
          -18845351.234898143,
          -18866251.265931122,
          21507441.027276706,
          21729471.91400512,
          20796942.18974581,
          22195736.776134774,
          21772012.907299116,
          11223824.073258225,
          12182258.487760695,
          -19104292.547574777,
          -19110192.72620356,
          -19123774.33055105,
          -19101306.505907353,
          -19125493.642589055,
          -18774923.37371696,
          -18748747.848108616,
          -18808575.715355296,
          -18712037.1066449,
          -18797089.538222592,
          -17703329.325875007,
          -17690273.037513223,
          -17721789.6631596,
          -17720110.997513086,
          -17729441.902598567,
          -19013474.4300511,
          -19002834.662141223,
          -19052167.715187676,
          -19025299.298581894,
          -19097795.594937,
          -13989489.313647011,
          -14004931.796297284,
          -13985421.824313663,
          -13982018.607786149,
          -13990432.131720189,
          -14810773.90997837,
          -14781592.945731662,
          -14839049.674477212,
          -14211123.046115573,
          -14906744.224261664,
          -9722280.168456443,
          -9206854.51863969,
          -8730510.458704052,
          -8976760.91579512,
          -9587095.631685646,
          -18820545.599245977,
          -18825604.921668567,
          -18805332.938037105,
          -18813810.004816845,
          -18827588.969677426,
          31204894.470698122,
          34454408.38592361,
          33396238.468722302,
          28304227.485905092,
          42411675.41577127,
          -16224822.891329488,
          -15984582.858574243,
          -18127781.55489954,
          -18126102.889253028,
          -18127285.542897325,
          -18128282.508310653,
          -18128464.085306924,
          -17736630.362582415,
          -17736816.88098758,
          -17736630.362582415,
          -17736630.362582415,
          -17736630.362582415,
          -18609585.646935917,
          -18609772.165341087,
          -18609399.12853075,
          -18607857.380089182,
          -18609536.0457357,
          -19090111.14783031,
          -19079479.598735724,
          -19079193.38378922,
          -19091130.56171999,
          -19095147.14476986,
          -17173057.422568098,
          -17302823.22026069,
          -17406195.396377448,
          -17119658.849196393,
          -17032613.815288875,
          -15981648.80140765,
          -15981648.80140765,
          -15981648.80140765,
          -15983513.985459331,
          -18396121.246762138,
          -18398027.36942786,
          -18396369.252763245,
          -18396418.85396346,
          -18396121.246762138,
          -18322470.53330636,
          -18322470.53330636,
          -18324335.717358053,
          -18322470.53330636,
          -18324335.717358053,
          -5435506.750870651,
          -5444437.43894529,
          -12003051.41926292,
          -12434079.099731393,
          -8594291.736005979,
          -4534530.147397137,
          -3911426.764069543,
          -4218363.364598416,
          -4587369.314303318,
          -4199421.021745256,
          -14706378.925856749,
          -14757313.888823481,
          -14758400.581124004,
          -14784381.499795234,
          -14813492.8898643,
          2630659.609707654,
          4057581.359663573,
          1583891.4529768655,
          1972452.094836325,
          2593753.330413457,
          -18617532.051142294,
          -18617532.051142294,
          -18617522.081488162,
          -18617522.081488162,
          -18617532.051142294,
          -11794872.376899006,
          -12846998.989390772,
          -13195212.648205983,
          -14334475.51585388,
          -14147443.402360503,
          -15048829.00924559,
          -14984837.442871619,
          -14558847.953145951,
          -14537141.868404062,
          -14305850.25505467,
          -15620551.119562928,
          -15620551.119562928,
          -15620551.119562928,
          -15620551.119562928,
          -15621047.131565139,
          -17734149.26525628,
          -17733068.447978985,
          -17716899.557160374,
          -17722412.140454516,
          -17709404.4017088,
          5869954.820577151,
          5094711.901079409,
          5183524.255770772,
          3320329.9913038355,
          4867085.462195954,
          -18279686.82867959,
          -18279686.82867959,
          -18279686.82867959,
          -18279686.82867959,
          -18279686.82867959,
          -18761005.048571013,
          -18784489.656299625,
          -18774815.633022875,
          -18769002.90912699,
          -18747910.331712548,
          -18808532.229966003,
          -18808383.426365335,
          -18808482.628765777,
          -18808383.426365335,
          -18807703.889922302,
          -15135647.534854587,
          -14675692.605062505,
          -15165199.117352394,
          -14319047.434718402,
          -14570590.88405685,
          -18348740.233903706,
          -18348740.233903706,
          -18348740.233903706,
          -18348740.233903706,
          -18348740.233903706,
          -18405003.52848527,
          -18405003.52848527,
          -18405003.52848527,
          -18405003.52848527,
          -18403138.34443359,
          13563319.423504202,
          35931180.03150289,
          25361951.504330244,
          -13573687.748522406,
          -14348538.24968036,
          -14736994.670189405,
          -14503809.747240234,
          -13754567.025709921,
          -16537883.327319527,
          -16532427.195295168,
          -16522015.884657556,
          -16538503.144687818,
          -16531435.17129074,
          -109730.46903332527,
          -2549113.6945514637,
          -4753744.050380464,
          -4741780.465420574,
          -3559278.9299480286,
          -18097969.08252406,
          -18129534.10507204,
          -18131290.579739563,
          -18048371.158681452,
          -18074669.852155708,
          -18637488.31599344,
          -18637488.31599344,
          -18637488.31599344,
          -18637488.31599344,
          -18637488.31599344,
          -15451880.073152205,
          -15451379.119741095,
          -15452947.684873225,
          -15453443.696875442,
          -15452076.995530419,
          -18704486.19042147,
          -18666660.76185845,
          -18818937.819871087,
          -18514771.99163427,
          -18585142.741265453,
          -18561056.961810395,
          -18571875.029310156,
          -18573180.658146337,
          -18564414.293103423,
          -18557699.63051737,
          -15478857.746380381,
          -15340188.100677544,
          -15397750.613340998,
          -15152203.705453025,
          -15480159.175585942,
          -18943176.272642024,
          -18949331.380012583,
          -18946347.08552989,
          -18946347.08552989,
          -18951633.97426208,
          -7099595.219250948,
          2501978.3855542736,
          -10442618.903341733,
          -4246615.718884331,
          1321479.6559119143,
          -19135591.76069969,
          -19130853.70428195,
          -19133047.02819127,
          -19134345.553933036,
          -19136087.772701904,
          -18265898.479906347,
          -18075090.556615245,
          -17045667.81270693,
          -16789639.674917392,
          -18476065.147040676,
          -11762443.97857515,
          -6758316.037625491,
          -12616799.44821072,
          -11604035.475133965,
          -10339116.08266059,
          -18128307.866271004,
          -18062084.585400287,
          -18062049.21020701,
          -18061820.959427632,
          -18078331.083223797,
          -17963555.85905343,
          -17963369.34064826,
          -17965234.52469994,
          -17966281.09131349,
          -17963865.352650475,
          3409103.657404237,
          3406112.7611642648,
          -4466125.535525916,
          -4693433.649763823,
          -4617464.885268522,
          -18976202.558018655,
          -18964474.887419075,
          -18937541.271112457,
          -18858682.31907393,
          -18795826.432403926,
          -14895261.78445435,
          -14896630.956503814,
          -14894760.762918023,
          -14893386.63074853,
          -14793690.089416116,
          -18257349.049619813,
          -18261079.41772318,
          -18259214.233671494,
          -18259214.233671494,
          -18259214.233671494,
          -19166306.791468248,
          -19166311.77629532,
          -19166306.791468248,
          -19166301.80664118,
          -19166306.791468248,
          -6417820.076372677,
          -10136314.272573715,
          -10036923.530045716,
          -4951419.258551867,
          -8435579.883322792,
          -12553002.45275486,
          -11267088.493781786,
          -11424375.29854335,
          -12195887.849937728,
          -12530799.364082022,
          -7368720.675386153,
          56806.46982710794,
          -5125548.4954068065,
          -5127413.679458491,
          -7892127.517381333,
          -17819400.066355687,
          -17818383.953344647,
          -17802504.13955035,
          -17814949.373986643,
          -17802105.35338502,
          -18686377.65197759,
          -18688691.867460757,
          -18677796.89835521,
          -18699100.457109146,
          -18686750.35796155,
          -18062869.736713983,
          -18074208.56289669,
          -18025313.190865297,
          -18086030.855241183,
          -18086468.766776137,
          -17802971.50051421,
          -17803654.990084358,
          -17798693.975336067,
          -17797459.418302573,
          -17805244.896830373,
          -18781075.56742853,
          -18776650.782522064,
          -18779820.478139568,
          -18779160.78217663,
          -18781640.842187695,
          -19109667.645568166,
          -19114877.330839403,
          -19125653.86941261,
          -19090760.079946265,
          -19118992.942810755,
          -17462302.268264666,
          -17478481.32952448,
          -17377930.531307876,
          -16989922.092735592,
          -17282598.137201265,
          -19092580.22876845,
          -19091982.049520463,
          -19092380.83568579,
          -19092679.92530979,
          -19092081.74606179,
          -16537884.269740243,
          -16535572.674886564,
          -16539749.45379192,
          -16539799.054992145,
          -16537889.229860261,
          -10704734.050911393,
          -12857619.27069594,
          -12911207.936059661,
          -9787318.73225408,
          -13872025.9546254,
          -18665604.86093525,
          -18674982.108406596,
          -18663362.348979287,
          -18625639.301324133,
          -18671599.694876917,
          -16510131.511619242,
          -16511019.635166153,
          -16512573.851373253,
          -16514449.00507907,
          -16513916.00634776,
          -18660250.440416854,
          -18581821.512971874,
          -18706406.562662512,
          -18588493.7582765,
          -18696308.1617543,
          -13303365.64276716,
          -14589279.60174024,
          -12990657.217295706,
          -14011999.29624638,
          -13012860.305968547,
          -19138816.823269095,
          -19120763.70347052,
          -19131138.16741033,
          -19109226.80942266,
          -19091739.872980446,
          -18644172.66347931,
          -18646533.85953321,
          -18646533.85953321,
          -18644668.67548153,
          -18646037.847531,
          -15503738.229756957,
          -15338729.716615222,
          -15515192.594773592,
          -15354621.747412892,
          -15546943.475659197,
          19058621.061144043,
          19058621.061144043,
          19058621.061144043,
          19058621.061144043,
          19058621.061144043,
          -18606279.13925109,
          -18608144.323302772,
          -18606279.13925109,
          -18606279.13925109,
          -18606279.13925109,
          54899401.569796056,
          54898905.55779384,
          54907010.02787539,
          54909371.22392931,
          54909371.22392931,
          -17596401.458467912,
          -17596587.976873074,
          -17596401.458467912,
          -17596401.458467912,
          -17596401.458467912,
          5333650.660323344,
          11572272.166589592,
          5335267.838373919,
          5333204.2495213505,
          5335069.433573033,
          -18384753.06781871,
          -18360354.488862347,
          -18398045.946233403,
          -18377669.931059368,
          -18380551.92100446,
          -13611955.182562793,
          -13770495.826955853,
          -14012969.753674645,
          -14012969.753674645,
          -13873080.94979842,
          -10311511.810572026,
          -10316625.384413613,
          -10312508.775985353,
          -10311511.810572026,
          -10309646.626520345,
          -12538037.963248251,
          -14443668.676287556,
          -1725467.1597909578,
          -11192446.731307834,
          -16720893.198942274,
          -18879325.197998784,
          -18879325.197998784,
          -18879325.197998784,
          -18879325.197998784,
          -18879325.197998784,
          -12736179.870098857,
          -12734314.686047176,
          -12732449.50199549,
          -12732449.50199549,
          -12734810.698049389,
          -18490287.887944024,
          -18490287.887944024,
          -18490474.406349193,
          -18490287.887944024,
          -18490287.887944024,
          -17945745.67104498,
          -18293258.76389614,
          -18269739.49106706,
          -18205266.59651616,
          -18094153.94247241,
          -12699494.368892867,
          -12697629.184841188,
          -12699494.368892867,
          -12697629.184841188,
          -12699494.368892867,
          -18261956.941759113,
          -18261956.941759113,
          -18261460.9297569,
          -18261956.941759113,
          -18261460.9297569,
          -19076486.463849053,
          -19078251.951359402,
          -19078251.951359402,
          -19077855.635898523,
          -19078351.647900738,
          -14838525.012308432,
          -14842255.3804118,
          -14840390.196360115,
          -14836659.828256749,
          -14840576.714765284,
          -10567496.38305599,
          -4443231.588522449,
          -10365600.783067578,
          -5315494.408241994,
          -5271039.484598646,
          -5314382.696268797,
          -5349198.09482198,
          -5325510.257365604,
          -19034957.589540258,
          -19030976.850355014,
          -19028976.585291978,
          -19027668.667035483,
          -19035998.81159884,
          -16399328.213087663,
          -16413600.168708809,
          -16396466.063622653,
          -16399328.213087663,
          -16412652.8044957,
          -18812436.605306342,
          -18803617.661595985,
          -18808447.755371265,
          -18823250.441110764,
          -18815971.11117083,
          -17820606.14001225,
          -17867587.751040816,
          -17883270.80029841,
          -17931621.58337645,
          -17831707.684348665,
          -16937131.986067466,
          -17449287.078752074,
          -17281142.856263008,
          -17593622.779137027,
          -17200249.28156163,
          -18303416.271438487,
          -17538812.299493145,
          -18391873.50131424,
          -17548511.256561905,
          -18184265.66622582,
          -17602662.532715026,
          -17527361.995555684,
          -17474284.908416957,
          -17663878.67979758,
          -17839307.53197592,
          -18390569.11660986,
          -18361327.95329013,
          -16668837.720460277,
          -18248586.74600493,
          -17867213.12311965,
          -18395387.360517643,
          -18437912.197236568,
          -18469166.005498815,
          -18471601.86402383,
          -18456308.943306178,
          -18100986.560903843,
          -18103038.263360694,
          -18102851.74495552,
          -18102665.22655036,
          -18103038.263360694,
          -9765631.267382165,
          -10624091.938469494,
          -10636911.386037968,
          -4418838.412548763,
          -10601876.493766876,
          -10406584.35559152,
          -10406584.35559152,
          -10406584.35559152,
          -10406584.35559152,
          -10406584.35559152,
          -18887139.956492126,
          -18920792.517814044,
          -18873645.928646352,
          -18915522.174077734,
          -18882364.526195336,
          -17252998.74286808,
          -16727683.731692754,
          -17373175.86326949,
          -16664182.159107905,
          -16501427.051042927,
          -14647661.271002458,
          -14644856.893167656,
          -14640869.031514362,
          -14651300.10778755,
          -14650838.685647603,
          -18764319.764461927,
          -18764506.28286709,
          -18764506.28286709,
          -18764506.28286709,
          -18764319.764461927,
          -16005787.285309091,
          -16005787.285309091,
          -16005241.672106653,
          -16002056.91720572,
          -16005787.285309091,
          66582722.602927476,
          64554098.4433211,
          65391488.762781344,
          63304329.57357558,
          63583004.44651075,
          -16710855.282488503,
          -16727042.023361549,
          -16710855.282488503,
          -16710855.282488503,
          -16708990.098436821,
          -7814075.121833294,
          -7809492.149856189,
          -7817924.353893835,
          -7817428.341891619,
          -7814452.269878333,
          29758593.601120573,
          29096453.26277309,
          29441512.31233446,
          29419130.10371426,
          29849987.619653046,
          -17095072.371265855,
          -16847472.216570783,
          -16805536.12798719,
          -16660815.875342142,
          -17027076.667054504,
          -16963607.404418994,
          -16908595.910357233,
          -16860245.342897333,
          -16388530.06807877,
          -16360722.19928286,
          -14332734.078466522,
          -14334599.262518205,
          -14331608.36627823,
          -14332734.078466522,
          -14334599.262518205,
          -18395148.141719036,
          -18393282.95766735,
          -18395148.141719036,
          -18393282.95766735,
          -18392786.94566514,
          17380843.503699563,
          17380843.503699563,
          17380843.503699563,
          17380843.503699563,
          17380843.503699563,
          -11734358.305545365,
          -10912455.208139064,
          -11955800.98267991,
          -8178812.544997313,
          -10710008.691925094,
          -16457299.977238353,
          -16442981.158621322,
          -16436320.232019475,
          -16457299.977238353,
          -16412893.799892679,
          -17474017.282125995,
          -17473521.270123772,
          -17473521.270123772,
          -17474513.294128202,
          -17473025.258121558,
          18945043.3149026,
          19706781.19965778,
          -18181447.060690716,
          -18179921.703608327,
          -18181646.453773383,
          -18186985.164708994,
          -18181307.485532846,
          -19202546.958345897,
          -19203152.63654358,
          -19203152.63654358,
          -19202646.654887225,
          -19202656.62454136,
          -17161817.870505307,
          -17117560.44223473,
          -17246131.152576484,
          -17170040.98275409,
          -17151038.48181028,
          -18786142.115049455,
          -18731962.159153413,
          -18685333.202236004,
          -18776137.232667692,
          -18846490.591400526,
          2244379.4909246033,
          2244379.4909246033,
          2244379.4909246033,
          2244192.9725194364,
          2244379.4909246033,
          -15727314.996901486,
          -15722652.036772272,
          -15716869.966212055,
          -15727314.996901486,
          -15721719.444746433,
          -5523968.214202382,
          -5871078.228495186,
          -6260208.385702453,
          -5664917.7192181125,
          -5941163.01158559,
          -19125100.485474575,
          -19124913.967069402,
          -19124913.967069402,
          -19124913.967069402,
          -19124913.967069402,
          -10223431.325655278,
          -10131710.507629454,
          -10261316.011361595,
          -10141680.161762698,
          -10289359.789709637,
          812914.961119733,
          798018.2515500736,
          811975.7673366118,
          821077.2028314946,
          843878.6605629849,
          -16369671.663010646,
          -16369671.663010646,
          -16369671.663010646,
          -16367806.478958959,
          -16367806.478958959,
          -19167890.422264397,
          -19164021.52864713,
          -19165509.56465377,
          -19164219.933448013,
          -19165559.165853992,
          -14837659.811068607,
          -14899862.009618327,
          -14596143.673196567,
          -14827611.497251945,
          -14849115.053152509,
          -18305233.113599844,
          -18324850.26478021,
          -18319121.642051663,
          -18334875.354555167,
          -18336740.538606845,
          -18870408.744563077,
          -18807393.894549076,
          -18838299.6847761,
          -18926906.81866339,
          -18891891.079795122,
          -11653257.535281587,
          -10492947.710382631,
          -13324131.865887927,
          -7583174.139585381,
          -7875023.650198867,
          -18953494.78297417,
          -18954613.89340517,
          -18956665.595862024,
          -18955359.967025846,
          -18954054.33818967,
          -11028801.502916975,
          -11034397.055072024,
          -11034024.018261688,
          -11032969.281218158,
          -11034647.946864676,
          -19151132.166278508,
          -19145536.614123456,
          -19157473.79205423,
          -19152997.350330193,
          -19158406.38408007,
          -11266529.372339359,
          -11278057.794450663,
          -11276006.487849088,
          -11280097.612493614,
          -11275354.300723022,
          -17080807.694176465,
          -17073223.982777856,
          -17085208.25898311,
          -17082922.939846613,
          -17075462.203639872,
          -18094003.534826174,
          -17959074.41392454,
          -18016974.342368573,
          -17831321.108636998,
          -18058384.952529836,
          -18529186.286331277,
          -18177431.31151463,
          -18168881.979560193,
          -18362024.961776894,
          -18203431.106963616,
          -16057797.421423951,
          -16036251.477474242,
          -16151551.559926637,
          -15985762.036865208,
          -16145679.440033365,
          -15062718.780003935,
          -15082489.730951775,
          -15072231.21866752,
          -15095228.93802477,
          -15091666.436486056,
          9581744.800052514,
          9581248.788050301,
          9581248.788050301,
          9581744.800052514,
          9581248.788050301,
          -17402935.285152588,
          -17406511.53168855,
          -17409697.89489844,
          -17434690.02294846,
          -17408986.631579604,
          -17530426.99698919,
          -17529930.984986983,
          -17531796.169038665,
          -17531796.169038665,
          -17529930.984986983,
          -17535274.86893084,
          -17582601.675830107,
          -17614035.136583447,
          -17377226.800685324,
          -17544247.55765076,
          -18937185.956015047,
          -18945350.674011182,
          -18939169.48844857,
          -18942858.26047787,
          -18947473.351612803,
          6434610.635173245,
          23283223.520663496,
          28182066.630009674,
          10929363.856781587,
          2556347.9308581846,
          -3496990.841044093,
          -3401866.4544082573,
          -3379484.245788061,
          -3394405.7182015246,
          -3340315.3807027177,
          20053204.86584422,
          20037286.428017434,
          -13501755.888847463,
          -13403397.146110477,
          -13367276.118721118,
          -13437962.483045202,
          -13325309.477558248,
          -18560653.163750045,
          -18554112.569164313,
          -18544172.504030056,
          -18581500.899418306,
          -18604724.034709636,
          -15435648.012423536,
          -15459884.89155849,
          -15442541.37115518,
          -15420528.912122214,
          -15456932.309830569,
          -17273019.646955453,
          -17271154.462903768,
          -17273515.658957664,
          -17271154.462903768,
          -17271154.462903768,
          -1006267.6198566381,
          -1008132.8039083212,
          -1008132.8039083212,
          -1008132.8039083212,
          -1006267.6198566381,
          -19145268.361177575,
          -19141129.319179144,
          -19143412.320028007,
          -19148403.53698071,
          -19150664.08553457,
          -11955363.4438468,
          -12125048.354738368,
          -12517318.788399402,
          -12028993.152544763,
          -12972227.549992874,
          31587760.54488095,
          31429219.90048789,
          31487040.606090054,
          31393781.403505918,
          31587760.54488095,
          6007740.00248366,
          5942293.869474932,
          6063594.074086981,
          5929713.073728817,
          5905421.862774211,
          -17796545.044386216,
          -17618557.15103921,
          -17727078.334818754,
          -17464087.383531444,
          -17345211.61622594,
          -13082984.357146768,
          -13083976.3811512,
          -13084849.541198455,
          -13084353.529196238,
          -13082984.357146768,
          -19371727.647773657,
          -19375645.51747237,
          -19369666.56702591,
          -19370874.89572327,
          -19380697.884500246
         ],
         "xaxis": "x",
         "y": [
          755212.8794154729,
          753886.4804715894,
          755114.6764544144,
          753191.397989205,
          754641.4627515367,
          970626.8165882997,
          970626.8165882997,
          971249.1589741423,
          970626.8165882997,
          970626.8165882997,
          1119732.7554113509,
          1120654.8145210173,
          1120654.8145210173,
          1120032.47213517,
          1120654.8145210173,
          -745626.6217797211,
          -686917.0005670856,
          -665249.2821492059,
          -770674.9331970733,
          -685510.8663706218,
          628054.4205357993,
          628976.4796454656,
          632086.1637839052,
          628872.4179493631,
          637309.5470602519,
          581061.4113711573,
          573568.4932756423,
          579562.8277520523,
          588554.3294666748,
          594548.663943085,
          -1012603.7777590869,
          -1012603.7777590869,
          -1013226.12014493,
          -1013226.12014493,
          -1013226.12014493,
          970256.020433855,
          977237.8106177083,
          960925.3338083116,
          963281.4800146315,
          980211.9723205803,
          621351.0090652786,
          622677.4080068216,
          620024.6101237327,
          622035.5856897058,
          620127.7014472435,
          638434.6045665422,
          658792.4328481464,
          652221.5738622923,
          645904.613723855,
          642907.4464856539,
          7854.320419497097,
          235378.7518062438,
          406575.7052257709,
          296536.2813111195,
          -221433.69194440945,
          564205.4939501325,
          564528.1196121547,
          564528.1196121547,
          564827.8363359728,
          564528.1196121547,
          -781953.1199932736,
          -781953.1199932736,
          -781953.1199932736,
          -781953.1199932736,
          -781953.1199932736,
          460551.803045792,
          459285.5887732185,
          454834.68052014516,
          452636.64570792986,
          467267.95994976483,
          -2929274.40155475,
          -2654565.0496097417,
          -2925618.805467325,
          -2606972.670798126,
          -2686021.6957947905,
          881892.1395823281,
          933532.2919739957,
          926085.3482887617,
          946456.046256177,
          918896.3499028736,
          926097.0760779921,
          925741.4946499892,
          925347.6606760209,
          925480.3005701739,
          925913.9265123901,
          -1248778.6741215975,
          -1248778.6741215975,
          -1248778.6741215975,
          -1248778.6741215975,
          -1248778.6741215975,
          428980.63735307753,
          431933.1519599869,
          430647.6101033716,
          424678.8148664246,
          431269.95248921256,
          218219.1128419582,
          207449.72062724063,
          219047.55082923023,
          214083.30789775477,
          209781.98373107027,
          500061.34863664117,
          500061.34863664117,
          500061.34863664117,
          511618.60245967755,
          500061.34863664117,
          935795.2383935916,
          1068885.8645051674,
          862161.4623468078,
          960053.0210154481,
          792848.7755597138,
          867029.6595949518,
          866594.019924861,
          858814.7401018182,
          866656.2541634411,
          866656.2541634411,
          1351053.7048428655,
          1180042.18180567,
          1311107.4280355622,
          1223853.8211270275,
          1252498.6519719174,
          -34953696.7444766,
          -10474794.439302977,
          -10474172.096917132,
          -10474172.096917132,
          -10474172.096917132,
          -10474172.096917132,
          773699.3626894763,
          793636.2038975629,
          790279.3494587744,
          779749.8720962808,
          795625.80230988,
          1319194.7679206408,
          1350936.5597084663,
          1325622.7684674452,
          1359027.593251883,
          1309150.9073413445,
          -2332477.4904046995,
          -2339109.4851124184,
          -1957778.6893473435,
          -2100700.0871262476,
          -2005597.1731218302,
          920737.156628855,
          937540.4010466251,
          916380.7599279525,
          942705.8428491236,
          916380.7599279525,
          -1610896.4091657538,
          -1293290.1826130997,
          -1225710.1565414448,
          -1239504.7055335012,
          -1388857.2263513277,
          458520.80327736266,
          460020.69919798843,
          471213.37603125355,
          483450.471383678,
          436934.7256204208,
          -17223714.897194594,
          902451.6830388096,
          887864.3444108181,
          895899.7228925563,
          905592.9912442341,
          895120.2740671706,
          979809.6237631845,
          979747.3895245972,
          980431.9661490255,
          979747.3895245972,
          980431.9661490255,
          -2698561.4098028843,
          -2720963.872035322,
          -2846763.7709775735,
          -2689986.8175148102,
          -2720029.482048126,
          174075.15421318647,
          171585.7846698145,
          172871.32652642988,
          170693.12817597765,
          131444.70078292146,
          917833.2899254377,
          907317.4926052124,
          905176.423431299,
          915747.8229954042,
          906402.2773355469,
          990591.063797117,
          990591.063797117,
          990591.063797117,
          990591.063797117,
          990591.063797117,
          1468612.6724462337,
          1479311.8689103057,
          1469016.1590067209,
          1481187.6582959092,
          1473468.5989835784,
          883847.0401397585,
          890992.5231078594,
          894572.1372733659,
          880412.7025485234,
          894323.2003190301,
          813101.7477727379,
          811063.674050757,
          813761.1245651427,
          810464.2406031147,
          810164.5238792918,
          403816.78237063857,
          424656.6513720896,
          415569.50062277395,
          422028.07472872717,
          419794.8638438811,
          -1534496.4390658825,
          -1022506.4476299903,
          -1070920.0089963384,
          -1003936.862448378,
          -1354106.183015932,
          994184.4688856497,
          992577.7987474597,
          996424.3275415536,
          1010976.7632332151,
          1008799.5787781493,
          878397.6517696386,
          843421.2573475385,
          893606.188319687,
          913080.0083344657,
          830840.4550415925,
          855340.3882930471,
          855340.3882930471,
          855340.3882930471,
          855402.6225316328,
          855402.6225316328,
          -791465.1652121842,
          -791454.8293128624,
          -791471.7972068933,
          -791465.1652121842,
          -788353.4532829672,
          -12585799.37136309,
          -12633751.284503344,
          -12513020.926557265,
          -12562232.918691989,
          -12521591.296978578,
          693327.6007020986,
          693327.6007020986,
          693327.6007020986,
          693327.6007020986,
          693327.6007020986,
          995395.4765478056,
          995395.4765478056,
          995395.4765478056,
          995333.2423092225,
          995395.4765478056,
          504599.3342081788,
          504599.3342081788,
          504599.3342081788,
          504622.24314638326,
          504599.3342081788,
          1103107.932642589,
          1103240.5725367474,
          1102808.2159187712,
          1103174.2525896705,
          1103796.5949755106,
          614029.2233537976,
          573244.9535525102,
          707973.654269762,
          1001047.1238133538,
          627198.4140974208,
          -1537740.7236359033,
          -1544959.8953116876,
          -1529401.3356656036,
          -1581864.7987921939,
          -1558900.3647545755,
          347668.9510606311,
          666402.6167135972,
          660098.1360327658,
          669320.6943849924,
          672345.9490883937,
          -1145988.4896764518,
          -1078573.5224289864,
          -975895.9541657422,
          -852958.7754990477,
          -949380.1146423825,
          -1035882.7439208844,
          -1014481.3378688181,
          -939174.8106172354,
          -1283371.6380844852,
          -940210.5048369077,
          996896.6350314153,
          1008308.3975080041,
          990142.3091113433,
          984551.9812712277,
          985540.6549918823,
          -623785.8015480759,
          -614256.4288811487,
          -620116.1384601076,
          -645982.8117310434,
          -617044.0992899558,
          -1674060.7829037728,
          -1674060.7829037728,
          -1674060.7829037728,
          -1674060.7829037728,
          -1674060.7829037728,
          -968360.8376818398,
          -967738.4952959969,
          -967738.4952959969,
          -967738.4952959969,
          -967738.4952959969,
          619758.5618780237,
          619136.9350923894,
          621740.4631789498,
          630054.2634979787,
          637422.8256711042,
          111728.64468656141,
          106018.70908850478,
          120609.09744548687,
          81884.66850182707,
          125292.35082581863,
          903529.1953825278,
          902928.2301503405,
          904151.5377683697,
          903488.3382975985,
          904151.5377683697,
          989843.9435051974,
          994612.1258508033,
          993316.4241264517,
          989193.0954757873,
          990462.8831656483,
          753978.3027094731,
          774282.3575206951,
          753364.2376814934,
          774050.7457662954,
          771213.2112853996,
          781294.9159364983,
          782055.8522678709,
          779029.4625795846,
          780200.995599644,
          778138.6708391709,
          964397.8873676555,
          965023.5457508519,
          963062.5143527478,
          965023.5457508519,
          969046.2623561125,
          245244.95010881664,
          245244.95010881664,
          122553.04801601867,
          245244.95010881664,
          245244.95010881664,
          865424.0896091203,
          864441.4892756918,
          865502.6084289268,
          865271.765576131,
          865152.1778261006,
          408104.373026512,
          419380.2246793784,
          417750.680007085,
          416828.62089741824,
          420892.51667697454,
          -623260.0468207495,
          -469130.229017546,
          -548115.3750369971,
          -564607.437664739,
          -584320.1816225721,
          144711.9595249194,
          142987.6409009157,
          142696.8982504535,
          141793.88185352256,
          144155.93708615156,
          187645.27070331317,
          179120.3348035794,
          188244.75558993832,
          185473.32883444557,
          192656.7886433613,
          -2105867.4418295436,
          -2090941.3635232,
          -2103794.3190705846,
          -2112917.275884468,
          -2115663.7579819313,
          335684.2383963242,
          338037.8303023404,
          344887.6822551117,
          337901.0311714827,
          347093.75143684284,
          844999.28663265,
          844995.9706352958,
          844999.28663265,
          844995.9706352958,
          844995.9706352958,
          -1963507.813545381,
          -1963507.813545381,
          -1963507.813545381,
          -1963507.813545381,
          -1963507.813545381,
          860504.0055682915,
          869055.6369489938,
          920106.2848883385,
          856098.619705505,
          906630.9869551132,
          483758.4651358907,
          483758.4651358907,
          483758.4651358907,
          483758.4651358907,
          483758.4651358907,
          965197.6332224387,
          964830.8597856407,
          963081.6691105696,
          964506.4246032995,
          966691.2549484574,
          1732813.2649635533,
          1044319.5375863028,
          1362303.9662341657,
          1789762.7464005155,
          1228324.835933918,
          449104.0348232958,
          374342.3246603615,
          231001.32395649175,
          344014.9790391509,
          414134.29290667747,
          744335.3110724678,
          730641.1996811663,
          745966.2889365298,
          722080.484579161,
          725155.0592790835,
          852560.816244867,
          904713.678485299,
          826790.2074494436,
          756443.1968257069,
          880812.2527409018,
          964721.464576314,
          892810.1888185946,
          960513.9711850968,
          958685.284275607,
          951685.7211124443,
          -1289206.2704613646,
          -1286965.8378723275,
          -1288832.8650298577,
          -1287090.306349497,
          -1290637.6579488046,
          81186.83514686533,
          81809.17753271133,
          81809.17753271133,
          81809.17753271133,
          81809.17753271133,
          -10472462.290531728,
          -10471155.371521456,
          -10472400.056293143,
          -10471777.7139073,
          -10471777.7139073,
          990725.5478572915,
          992290.337918568,
          992293.6539159245,
          989951.4428200363,
          989850.6971212832,
          223687.7434503076,
          1022594.2389100832,
          791677.4159250472,
          1861084.104750024,
          846821.2183057081,
          -7792708.8027502345,
          -7642269.699917021,
          -807418.664328993,
          -794788.6894984844,
          -813294.4364720432,
          -804154.3464717412,
          -803460.2349083471,
          982299.8934393347,
          982599.6101631605,
          982599.6101631605,
          983221.9525490017,
          982599.6101631605,
          443025.0700082706,
          441275.28852211783,
          440877.3688396548,
          442229.2306433439,
          441474.24836334673,
          -26613.546380701526,
          73595.89365293017,
          18550.337578864383,
          -99540.02530346022,
          57066.832607928714,
          92851.49508197549,
          92229.15269613302,
          92851.49508197549,
          165140.23739610903,
          41785.13583253965,
          -3071326.500905241,
          -3072015.1632381617,
          -3071193.8610110874,
          -3071658.100640626,
          -3070729.621381545,
          -907039.3681204717,
          -906239.443047053,
          -906496.5514183776,
          -906525.1513778275,
          -908420.7784948045,
          977118.7977125187,
          977116.2063090681,
          976894.6453815461,
          976594.9286577255,
          977217.2710435688,
          -1037751.6279749054,
          -1037751.6279749054,
          -1037751.6279749054,
          -1037689.3937363197,
          -1037689.3937363197,
          907572.9151474573,
          824706.0306210269,
          912661.2086461948,
          858122.7047617284,
          823360.5300681044,
          -9340173.989661777,
          -9343130.299815055,
          -9347428.32675534,
          -9339510.790191004,
          -9339510.790191004,
          -868000.7055134769,
          -868000.7055134769,
          -868000.7055134769,
          -868000.7055134769,
          -868623.0478993196,
          964970.4724689671,
          964617.8751345595,
          965270.1891927876,
          963695.8160249003,
          964318.1584107411,
          534341.3616187195,
          491324.0039097988,
          433507.6119866748,
          487043.9749823841,
          477970.46229409834,
          600008.686345799,
          599946.4521072159,
          600319.8575387219,
          599573.0466757069,
          599448.5781985373,
          365729.96738266404,
          362104.0176675144,
          358127.75937892514,
          360188.5548931042,
          365081.88142869115,
          862556.2055845772,
          863882.6045261216,
          863219.4050553496,
          863882.6045261216,
          863219.4050553496,
          -217201.1732430863,
          -215402.87290016102,
          -216601.7397954449,
          -215080.2472381379,
          -215080.2472381379,
          871331.0916451009,
          871331.0916451009,
          871331.0916451009,
          871331.0916451009,
          871331.0916451009,
          1024031.6488876482,
          1023701.9604914442,
          1023125.4359820043,
          1023701.9604914442,
          1023701.9604914442,
          855567.6961087626,
          855840.8848537516,
          855834.2528590427,
          855474.8481828519,
          855594.2240875907,
          678698.7700841965,
          678698.7700841965,
          678076.4276983527,
          678076.4276983527,
          678076.4276983527,
          962336.2444970491,
          962329.612502341,
          962336.2444970491,
          962329.612502341,
          962336.2444970491,
          815767.9469855179,
          816390.2893713614,
          815767.9469855179,
          815767.9469855179,
          815767.9469855179,
          2142263.557508305,
          2148652.305827233,
          2179958.491933722,
          2128995.049382054,
          2179886.2914877855,
          963328.8980331866,
          963029.1813093658,
          963029.1813093658,
          963328.8980331866,
          963029.1813093658,
          774400.2109881194,
          779310.0838415726,
          780181.3631817509,
          768799.1295155289,
          779130.013120527,
          821502.8431987641,
          803901.266318904,
          820817.4535007543,
          801364.0258275232,
          801232.0285181314,
          418359.305917959,
          418359.305917959,
          418359.305917959,
          417736.96353211725,
          418359.305917959,
          -4097989.631822167,
          -4101101.3437513844,
          -4098611.97420801,
          -4110312.011061864,
          -4102843.9024317446,
          980434.1767782288,
          981003.4632064105,
          980573.4486670879,
          980500.4967253057,
          980639.7686141687,
          507366.0054480061,
          405405.2776404692,
          120628.83124054821,
          601050.4778985829,
          301191.569122011,
          -4052876.9292970602,
          -4052254.586911218,
          -4052254.586911218,
          -4052876.9292970602,
          -4052254.586911218,
          208513.99856514554,
          214049.43514470782,
          211385.00628535764,
          212029.48891428704,
          220048.76242292058,
          143589.85939092006,
          142905.28276649123,
          142967.517005074,
          142905.28276649123,
          143589.85939092006,
          -1063132.2700721114,
          -1063132.2700721114,
          -1063754.6124579527,
          -1063132.2700721114,
          -1063754.6124579527,
          -704320.923848465,
          -704320.923848465,
          -704320.923848465,
          -704228.0759225576,
          -704320.923848465,
          399333.7143009464,
          440807.0035482044,
          460123.7884510855,
          459079.23138422996,
          417593.7090152649,
          678436.2666472091,
          688909.5769655735,
          682158.9160729513,
          674482.148283985,
          677289.1185313625,
          811941.6631350802,
          816624.9165154103,
          808966.2395899687,
          819900.0567843416,
          819080.8527852094,
          804001.6070919903,
          832772.7034798285,
          594881.4037478727,
          751821.9714219517,
          840656.1182972209,
          -11698744.236800967,
          -10468550.075604063,
          -12328161.391648414,
          -12328079.677478557,
          -10665438.60425345,
          738520.5091580593,
          882877.5345427928,
          717877.8752245251,
          1004559.9735844287,
          716206.8407059372,
          837915.3467266869,
          838487.6156164666,
          835831.6451810215,
          839955.9424841084,
          837293.0043408459,
          188268.44793606474,
          117615.97819679824,
          96946.98484580196,
          74246.69619336449,
          1935.322688776665,
          -874878.7048293885,
          -874816.4705908058,
          -875438.8129766501,
          -875438.8129766501,
          -875501.0472152347,
          579027.1008673538,
          578704.475205332,
          578105.0417576932,
          579027.1008673538,
          579326.8175911776,
          211974.92956539383,
          210991.23465539387,
          203720.05389295606,
          201222.49117120166,
          209974.06616159083,
          -779570.0425212359,
          -247528.57811096963,
          -6964083.590290924,
          -550234.7426790474,
          -531432.2228765436,
          30740.659805685475,
          -427869.5992018309,
          -195468.6834375441,
          -857848.5188403057,
          -825927.1322980111,
          -593899.5457222564,
          -978869.6364526821,
          -767268.1481915239,
          -565696.3661618016,
          -565655.509076873,
          562879.9081157455,
          564641.8884746358,
          563872.577088538,
          564628.624485217,
          564862.021261962,
          1008125.1608480968,
          1007866.0205032243,
          1005533.7573993972,
          1008384.3011929654,
          1008384.3011929654,
          800383.7548255123,
          800084.038101686,
          801582.6217207898,
          802204.9641066332,
          800683.4715493295,
          -4885411.87956028,
          -4885411.87956028,
          -4886034.221946122,
          -4886034.221946122,
          -4885411.87956028,
          881479.8225806871,
          881417.5883421018,
          881479.8225806871,
          881479.8225806871,
          881479.8225806871,
          313898.6243590657,
          1041227.261201428,
          248365.10744928906,
          670025.5857655574,
          310795.8356921781,
          87421.59285628323,
          101714.10379236542,
          114119.68037257848,
          68996.100391698,
          55892.5809715535,
          324650.0686768771,
          324650.0686768771,
          324650.0686768771,
          310018.82323496987,
          325272.41106272314,
          27718.08222723682,
          18746.371522634836,
          25064.349849760023,
          9887.498890181978,
          23371.754165702892,
          3214206.941344754,
          2939267.0241002105,
          3364514.028873236,
          3612451.981339573,
          3434706.3661778634,
          320553.91799830366,
          321153.35144594574,
          320853.63472212263,
          320553.91799830366,
          320231.292336279,
          1269498.1323605855,
          1216740.5341032234,
          1139298.1473661112,
          1158707.7938931747,
          1227691.6413373703,
          -1362287.5202530094,
          -1367891.1781387504,
          -1364812.6037546322,
          -1368761.447099269,
          -1362868.5242168782,
          958195.7610545076,
          958818.1034403512,
          958195.7610545076,
          958818.1034403512,
          958818.1034403512,
          409051.4139306746,
          782213.5105431516,
          590449.6553395165,
          409051.4139306746,
          791956.7819520982,
          319067.20375554846,
          315577.6098931719,
          315206.5005370292,
          319703.3217667322,
          319060.5717608419,
          -3307896.766992741,
          -2795303.2711235597,
          -5021359.353509998,
          -2620769.011572046,
          -3697893.751205037,
          -292138.76358498365,
          -293060.8226946474,
          -219622.46147016672,
          -240327.49069492,
          -306065.95247119287,
          -75145.02679513682,
          -71111.43847517461,
          -77722.53065778455,
          -70598.93623599352,
          -70027.51957444676,
          831241.9349348625,
          830619.5925490225,
          831241.9349348625,
          831241.9349348625,
          830942.2182110443,
          -12031.734303800558,
          118215.25236119982,
          211368.4293326796,
          21443.284597595844,
          225475.99941135364,
          643482.9751575112,
          672887.651912255,
          1025595.4406952554,
          817647.3460396483,
          714123.2292667233,
          141169.21964039182,
          98061.25404021946,
          211468.3635422098,
          69543.67679703067,
          158412.40588046086,
          533574.8450148236,
          527926.462656851,
          519191.1746442784,
          540963.0622872123,
          540268.8551184749,
          -795910.2172720113,
          -797940.6727692554,
          -787288.6241519761,
          -798563.0151550989,
          -795910.2172720113,
          -1534966.8197496177,
          -1529620.3668985143,
          -1528334.8250418995,
          -1532977.2213373021,
          -1538905.1594893204,
          1098766.3962204452,
          1098766.3962204452,
          1096774.9005857476,
          1100757.8918551458,
          1098953.0989361992,
          -7740855.702609788,
          -7741540.27923422,
          -7741499.422149289,
          -7740316.971616189,
          -7740877.079763446,
          916844.4555255126,
          916694.1541254887,
          916694.1541254887,
          916694.1541254887,
          917316.4965113329,
          428499.98647355236,
          496532.37813379354,
          473368.4813011059,
          520427.7200113571,
          453135.81091252586,
          977574.5234181468,
          981943.1835186821,
          976693.8518037475,
          975857.4732141186,
          979123.2498967113,
          123278.5928348084,
          255507.3033173056,
          -162560.37906787166,
          202199.329856663,
          -1291989.077792384,
          1011356.0109206436,
          1011332.6712429721,
          1011362.6429153553,
          1011418.2451592309,
          1011362.6429153553,
          -2048773.808464416,
          -2084524.3456475148,
          -2253640.2106943433,
          -2140958.5349017084,
          -2216563.2745697023,
          742157.4379034225,
          607262.6655484218,
          95455.13052392413,
          691082.9072370024,
          766098.9387982881,
          952017.1654317578,
          1330603.5139637121,
          958605.8491358772,
          1565188.7715740341,
          1086342.1285442833,
          -2431203.8798631313,
          -2447437.807924714,
          -2471720.8347689975,
          -2439867.264516916,
          -2426680.828742831,
          985066.078558504,
          984879.3758427524,
          984568.2046498348,
          983634.6910710649,
          983634.6910710649,
          855125.5629095343,
          855128.5600767704,
          855128.5600767704,
          855125.5629095343,
          855125.5629095343,
          78890.46827697287,
          102315.05623563411,
          104182.0833931626,
          79155.74806528102,
          102738.43878024415,
          940553.1671774167,
          940772.0230027718,
          940566.7279947805,
          940533.5680212446,
          940692.4390662779,
          -1354860.4631525793,
          -237555.41573083433,
          -251052.7148760438,
          180944.74558387182,
          181567.08796971923,
          181567.08796971923,
          181866.8046935381,
          181866.8046935381,
          -286927.83468745695,
          -320534.32352299534,
          -283816.12275824294,
          -281326.75321486895,
          -320534.32352299534,
          147157.34238000005,
          150432.4826489302,
          149106.08370738456,
          149106.08370738456,
          149146.94079231343,
          429912.0660644139,
          426178.01174935396,
          435264.2105826664,
          426800.3541351985,
          426178.01174935396,
          646125.5729567221,
          643534.1695080241,
          647939.5553708095,
          647121.557957248,
          643534.1695080241,
          845828.7155148019,
          845206.3731289615,
          845828.7155148019,
          844906.656405141,
          844906.656405141,
          2847450.577113988,
          2835003.729397123,
          2852129.599476915,
          2834381.38701128,
          2829725.2735865554,
          1316993.927564324,
          1316371.5851784796,
          1316993.927564324,
          1316003.2003306106,
          1316993.927564324,
          1490617.0127129196,
          1491239.3550987607,
          1491239.3550987607,
          1490617.0127129196,
          1490617.0127129196,
          244849.33956161022,
          244849.33956161022,
          244817.07699540965,
          245801.37034365762,
          245771.3986712745,
          976702.2497361057,
          976604.8780648767,
          980899.765121101,
          975927.6580290634,
          976384.4465484722,
          986678.0789851057,
          986777.5589057243,
          985558.336996184,
          981579.1401715528,
          986618.3910327379,
          -1323180.9113963058,
          -1322620.8032490474,
          -1302020.7625701888,
          -1322620.8032490474,
          -1323906.3451056615,
          -929172.5764696692,
          -610001.4463508357,
          -777876.4221723462,
          -196057.1620444344,
          -196517.8268794513,
          -187054.6635857403,
          -197362.27281470035,
          -208055.17851690936,
          828990.2125317669,
          831458.2049214853,
          831795.8115915211,
          830649.1598198855,
          827340.4092756,
          -3628639.8588976758,
          -3651892.697459621,
          -3642500.7278368077,
          -3692307.008091776,
          -3690961.7782827914,
          -359272.054184539,
          -345045.63166599185,
          -354351.02761317865,
          -338896.2185950676,
          -363766.1987490157,
          -666940.900410489,
          -833916.1210456804,
          -952031.5645223171,
          -928795.6057073944,
          -798201.5498694401,
          625004.9197877437,
          624123.1563510533,
          627234.868280266,
          624123.1563510533,
          625886.4025184578,
          502320.2394305305,
          508979.30295905494,
          509166.00567480683,
          509663.87958348484,
          502942.5818163749,
          171134.45322292976,
          174321.89639112836,
          170143.73972526594,
          172460.8521644721,
          175220.8270795645,
          -604527.9068864828,
          -591725.2105028328,
          -594880.7123961492,
          -580205.7769283683,
          -589922.2018165059,
          -363550.39045811736,
          -84162.40221454835,
          -1238751.823743468,
          -1235017.7694284061,
          -1229665.6249101562,
          557166.442406529,
          129630.72575869827,
          788694.1950472851,
          575465.4733387401,
          597800.9673874119,
          -7724859.728416649,
          -5011476.89781228,
          -6984302.260935515,
          -6859803.812094476,
          -5459533.443947069,
          815575.4528307946,
          755668.6854730622,
          818507.1493822639,
          807594.0894650876,
          763229.1031670988,
          -12597701.417986764,
          -17981554.721712895,
          -12006168.347143179,
          -13239678.505693948,
          -17261320.096454635,
          684671.7552038872,
          686528.7137220483,
          670081.3668469038,
          688451.9921872894,
          669418.1673761351,
          682996.917951547,
          688305.9580381587,
          693855.8004262209,
          676766.4313589373,
          685539.1681055074,
          -4543586.117461354,
          -4542963.77507551,
          -4542341.432689668,
          -4542963.77507551,
          -4542963.77507551,
          1455526.6935305523,
          1453758.36486001,
          1464847.883641376,
          1456575.702063926,
          1454477.6849971805,
          -1481635.0166592349,
          -1481635.0166592349,
          -1481635.0166592349,
          -1481012.6742733913,
          -1481635.0166592349,
          1124720.2468752556,
          902395.968601331,
          934926.419511557,
          1124172.8954361975,
          963253.3732667746,
          -309224.9202536359,
          -263223.0509933458,
          -1638635.1648417597,
          -360858.80390761595,
          -2621735.3026346224,
          -9855241.723888889,
          -14883633.29130829,
          -15688836.394606464,
          -5524631.651124196,
          722408.0627915667,
          722046.1118291601,
          722345.8285529831,
          722730.6884535896,
          723528.2790860827,
          944797.4951879372,
          945077.3159276318,
          945117.1078958827,
          945044.1559540955,
          945090.579917051,
          -47382.29513742529,
          160689.42423331525,
          520633.3147033729,
          593768.1647592692,
          515318.2328252841,
          -1148065.9639495404,
          -1153527.5468737476,
          -1166584.8183027506,
          -1154210.931630806,
          -1164917.1401974459,
          -151477.50430370253,
          24595.88553247247,
          52031.35785124768,
          -404458.40974768996,
          124024.82105668989,
          920611.373147687,
          922755.8978296871,
          927720.9524272726,
          911398.5616438848,
          926715.3579064723,
          -2770799.5582515923,
          -385490.3646766922,
          -384097.64578807214,
          -384760.84525884443,
          -385705.81330671074,
          -383905.10609625775,
          643636.6251448462,
          644258.9675306894,
          643595.7680599182,
          644599.541339436,
          643936.3418686666,
          -879945.8032800371,
          -879945.8032800371,
          -879945.8032800371,
          -879945.8032800371,
          -879945.8032800371,
          849646.0164340572,
          849355.2912119537,
          849055.5744881305,
          849055.5744881305,
          850271.3559871393,
          -450067.0452487798,
          246707.0346159533,
          799104.0666891251,
          292960.65603285166,
          122389.04499417316,
          918117.8922821503,
          918117.8922821503,
          917465.578223925,
          917465.578223925,
          918117.8922821503,
          386126.8367383552,
          386723.7162620514,
          386458.43647374085,
          386698.46524519013,
          385902.41403497616,
          893584.2865024873,
          893554.3148301068,
          893584.2865024873,
          893580.9705051344,
          893574.338510429,
          1054502.951658291,
          1054802.6683821115,
          1054868.9883291908,
          1054802.6683821115,
          1054802.6683821115,
          1057040.3424601776,
          1056418.0000743354,
          1056418.0000743354,
          1057040.3424601776,
          1057040.3424601776,
          986655.8628277241,
          986655.8628277241,
          986655.8628277241,
          986655.8628277241,
          986655.8628277241,
          736854.101612086,
          736954.8584946719,
          736294.2129478501,
          737810.5976572594,
          738116.7345305019,
          1024297.4414367611,
          1025995.2320819389,
          1025848.2630816852,
          1023924.9846164464,
          1020476.3473684317,
          531720.2393761447,
          532019.9560999651,
          532019.9560999651,
          531720.2393761447,
          532019.9560999651,
          820632.7771811766,
          783010.2537965797,
          839868.1628775143,
          765850.246782526,
          845112.5110129421,
          762293.3003809204,
          981709.3333562129,
          743802.2442435765,
          1074678.0836211687,
          1130148.4752232756,
          492612.83107731864,
          498213.91254990915,
          490123.4615339484,
          497591.5701640667,
          505682.0211800285,
          -2481082.794218542,
          -2713932.1284065484,
          -2285571.590234991,
          46860.19800887463,
          48299.79174147565,
          57852.410406807365,
          54559.94386453677,
          54043.09915836029,
          843117.2165779298,
          821817.7052413339,
          880500.7299547078,
          801030.3912221413,
          802534.216338699,
          -2284860.156542919,
          -2284237.814157074,
          -2284860.156542919,
          -2284860.156542919,
          -2284860.156542919,
          265412.8011927641,
          286641.8162521722,
          211023.81259476338,
          170575.27687238576,
          216992.6078317091,
          2362542.8680708734,
          2363165.210456715,
          2362542.8680708734,
          2362542.8680708734,
          2362542.8680708734,
          777377.2384762216,
          775510.2113186929,
          777077.5217524004,
          775510.2113186929,
          775510.2113186929,
          -3333875.603787062,
          -420652.388504063,
          -540462.2306384535,
          -511127.6359510032,
          -418759.1141858258,
          983377.9371122383,
          987295.489017834,
          987087.4771763403,
          987807.6779697036,
          983374.6667028227,
          -621266.8657429229,
          -621266.8657429229,
          -621930.065213695,
          -621266.8657429229,
          -621930.065213695,
          -348164.2991924321,
          -321501.37350409443,
          -309386.3568551867,
          -324745.0054395181,
          -315593.972701539,
          990728.9908029072,
          990728.9908029072,
          990728.9908029072,
          990728.9908029072,
          990728.9908029072,
          560570.9153474295,
          225171.81317115133,
          578960.670494749,
          496060.7366482643,
          556771.5485570901,
          307905.15692864294,
          319057.2798636496,
          309152.8464335947,
          336468.6721318058,
          305275.90112828487,
          924289.3260414541,
          959465.0770098916,
          953650.3326733554,
          944217.2185619383,
          954582.8323567285,
          606905.3005777427,
          601559.7880541987,
          606345.1924304849,
          592840.3626576823,
          599126.0207547033,
          -34328.83735211062,
          46969.84589787164,
          19882.898555322983,
          92699.74290093919,
          -9043.733116139118,
          723793.2255817279,
          674555.7394709905,
          724798.1628942197,
          720129.6455416407,
          728626.0755148522,
          941087.7793344614,
          941959.0586746426,
          940838.8423801266,
          941274.4820502151,
          940216.4999942781,
          170971.26937999143,
          205597.39607579948,
          178888.805944325,
          199098.35010458983,
          193709.22999177795,
          518881.4359659106,
          583111.6955729584,
          614850.8747559382,
          623267.3873402094,
          555933.6264265708,
          -257264.08793395344,
          276318.80405321665,
          -316927.4127399865,
          -42436.714530737736,
          -1418454.068950534,
          930028.1279766049,
          929995.1591369881,
          930025.1308093651,
          929995.1591369881,
          929995.1591369881,
          -1238633.5115430907,
          -1234837.2229894458,
          -1234339.3490807712,
          -1233530.3039791759,
          -1236766.4843855624,
          816960.9720325479,
          874664.4909833866,
          838569.949946707,
          818981.2716184874,
          812269.525061069,
          303303.014001018,
          301313.4155887013,
          308670.84400577797,
          280091.03252400097,
          293355.02193944,
          398593.5297514992,
          277579.1153452424,
          238012.07101501682,
          398700.1293836755,
          175118.72888793034,
          -35161.08679708379,
          -64042.146787228055,
          -65928.65387602588,
          23500.183354663335,
          136907.29285665366,
          1022753.9269761316,
          1023064.0842736637,
          1193790.6101717409,
          1031963.5803912231,
          1027420.4809745667,
          804628.0176836777,
          865277.5802150253,
          925769.2809061022,
          1068749.1325201234,
          882634.8872653254,
          993256.906867372,
          993256.906867372,
          993256.906867372,
          993256.906867372,
          993256.906867372,
          33444.73394875215,
          189547.23098861077,
          -54749.45610512366,
          243597.6307303036,
          -352999.6811699532,
          -445980.2469721713,
          -420828.2793469511,
          -675967.7477476015,
          -653946.337016817,
          981251.2919821397,
          977392.7691899112,
          980006.6072104531,
          975466.353627372,
          978015.1115757554,
          702275.6092100464,
          702575.3259338676,
          702575.3259338676,
          702275.6092100464,
          702575.3259338676,
          -5052435.092985234,
          -5051149.5511286175,
          -5051812.750599391,
          -5051771.893514464,
          -5050849.834404797,
          193064.58695860102,
          195553.95650197528,
          195989.59617206312,
          193624.69510585797,
          195802.8934563138,
          -5269435.900851026,
          -5255889.006437527,
          -5250325.33005841,
          -5268513.841741363,
          -5287483.830040481,
          596817.6466535731,
          599205.1647483533,
          603225.218657913,
          601457.4890250325,
          600563.4467014631,
          971055.2615875755,
          971055.2615875755,
          971055.2615875755,
          971055.2615875755,
          971055.2615875755,
          853693.3620643987,
          855860.0180871111,
          856153.6002355649,
          853896.8677845566,
          856005.9752532778,
          962790.3256280557,
          971163.3030956425,
          974623.2080240382,
          978569.4517958919,
          953100.0883074477,
          -2413306.5644030063,
          -2410847.166532015,
          210383.94408537797,
          221545.2499456314,
          239011.69383417122,
          244833.30202388612,
          229013.35857574834,
          -1992435.8186734566,
          -1986212.3948150217,
          -1992435.8186734566,
          -1986212.3948150217,
          -1986212.3948150217,
          -1020616.5439749896,
          -733225.8734231548,
          -781819.0493632308,
          -282372.3241546718,
          -1278885.462724287,
          -998763.9409192103,
          -997519.2561475228,
          -998141.5985333672,
          -998141.5985333672,
          -998141.5985333672,
          797657.371758655,
          797028.3973781046,
          797035.0293728161,
          797035.0293728161,
          797781.8402358235,
          1333130.5974742202,
          1341301.258837969,
          1972502.475549792,
          1329122.5992168249,
          1290470.6365900126,
          276555.2277280664,
          275932.8853422229,
          275932.8853422229,
          276555.2277280664,
          276555.2277280664,
          -219063.8914494801,
          -219063.8914494801,
          -219063.8914494801,
          -219063.8914494801,
          -219063.8914494801,
          -22974.779049679935,
          -24301.177991224453,
          -23637.978520451652,
          -24301.177991224453,
          -23637.978520451652,
          -295338.9692147924,
          -295961.31160063524,
          -294716.6268289502,
          -295961.31160063524,
          -295961.31160063524,
          43817.42208473241,
          21056.391038399623,
          42023.7099041995,
          89476.18470535014,
          -2677.3209261732436,
          1676945.430244636,
          1620579.8401953243,
          1616166.981151274,
          1598985.1287596503,
          1661152.883130012,
          726123.8511876129,
          719402.1913161073,
          721108.4018258593,
          713552.7554456858,
          721279.0641750153,
          760321.8775394204,
          763848.8005962641,
          763338.6695621109,
          755368.6013148238,
          757301.9484194318,
          861422.049023863,
          861484.2832624466,
          861422.049023863,
          861422.049023863,
          861484.2832624466,
          661423.6512317192,
          567227.9492284579,
          671453.357463157,
          672075.6998489983,
          660801.3088458761,
          -69020.76776092875,
          -425969.0955076682,
          -664446.7512273965,
          -590008.5058128085,
          -16525.758050632474,
          -2910153.1709943917,
          -2495504.7528915703,
          -2530689.8683128348,
          -2479216.673827639,
          -2461606.5738959867,
          -544299.1102057664,
          -1204494.2873750513,
          -507551.22753029753,
          -414728.7644843829,
          -808909.0670490408,
          1947527.1689824972,
          1949291.1048165145,
          1933975.2827501772,
          1949187.2038333039,
          1939547.3981795784,
          999413.5247810929,
          1012888.8227143228,
          996822.1213323986,
          1022217.8751296375,
          987752.2092619543,
          -6551900.077401193,
          -5192278.928080252,
          -6817179.865709947,
          -6551900.077401193,
          -5225501.135857433,
          538422.8610479777,
          778348.0701537664,
          862921.0012323194,
          651681.7692022205,
          501556.43429778126,
          442083.58588575065,
          444593.1696514133,
          448902.3876102662,
          444628.6100460912,
          449122.656239792,
          -112581.05513588813,
          -112518.82089730151,
          -112581.05513588813,
          -112581.05513588813,
          -112581.05513588813,
          94267.06144473674,
          94267.06144473674,
          94267.06144473674,
          94267.06144473674,
          94267.06144473674,
          991032.9630428175,
          991032.9630428175,
          991032.9630428175,
          991032.9630428175,
          991032.9630428175,
          438274.1869403674,
          451630.7129373424,
          454242.1672231415,
          435113.22807633056,
          444448.7271390329,
          -200646.87992938687,
          -72936.44396942639,
          266970.9139374385,
          -257713.36339930966,
          -271572.71272770746,
          622857.5803869573,
          623193.263117636,
          623163.2914452513,
          623515.8887796589,
          623223.2347900175,
          -372548.58613564825,
          -442620.5409465925,
          -449058.4731893857,
          -459424.0869841764,
          -453204.7187073029,
          985127.9108664597,
          982899.735402901,
          973913.8568795377,
          986264.46999495,
          975283.0101283962,
          664238.5180367836,
          659482.6052305745,
          657799.3437268586,
          660211.9508799482,
          623610.7587517247,
          703156.9206633333,
          703156.9206633333,
          702857.2039395124,
          702557.4872156918,
          703156.9206633333,
          -610333.8798281684,
          -610611.4167419561,
          -610508.3254184427,
          -610739.9709276174,
          -610582.8167825061,
          -1402308.2195596904,
          -1402308.2195596904,
          -1402930.5619455331,
          -1402930.5619455331,
          -1402278.2478873082,
          -4885018.948161902,
          -3735578.846802069,
          -3288248.0247514374,
          -1275365.7130598708,
          -3549691.441326156,
          1035683.7095599109,
          1050972.9899072275,
          1035942.8499047802,
          1042139.7836098127,
          1071983.7646227453,
          989616.8854292138,
          994396.0073272662,
          992376.8603443078,
          994126.6418304637,
          1060392.4800934033,
          842480.9827205875,
          713738.5712209828,
          790047.3674446782,
          766512.7603056409,
          286315.4863818727,
          -5477108.660595922,
          -13491667.951658677,
          -6996976.071739111,
          -8390990.66208441,
          -5161995.227764904,
          76198.7484272573,
          55095.15045620821,
          96428.52840964336,
          63958.69008986696,
          115702.09773183495,
          -145656.16936278276,
          -123344.28233731074,
          -109504.5715245173,
          -75127.37925997088,
          -70642.36184851972,
          515060.08484216366,
          515060.08484216366,
          515682.4272280054,
          515682.4272280054,
          515682.4272280054,
          1336017.4784182885,
          -1380424.6323918663,
          1272511.0374155934,
          -1013493.2041960063,
          1315293.797519767,
          970371.5866278398,
          963405.1463511629,
          979829.293670276,
          980825.0414876271,
          955559.8378447726,
          -324759.8766946837,
          -362034.8423940157,
          -309982.42050636007,
          -315400.6452735804,
          -219918.75637337062,
          951368.128641461,
          946444.462088934,
          981749.7832298091,
          946444.462088934,
          946388.8598450567,
          965468.4327399206,
          968393.441953386,
          967459.9283746184,
          963539.1713438046,
          967086.5229431117,
          741052.5104272867,
          741243.4864591789,
          725873.8796412338,
          737285.3188295522,
          802242.4096423263,
          1110172.9727561588,
          1091603.3875745465,
          1027273.0389096729,
          531515.0220064109,
          531515.0220064109,
          532075.1301536723,
          531515.0220064109,
          532075.1301536723,
          -514287.29259785195,
          -830393.9417240353,
          -306148.3005250375,
          -749670.791423438,
          371999.3655464126,
          -259746.29105538447,
          -58513.7412985032,
          -217616.2323013845,
          -193323.4858122714,
          -55488.39642029488,
          949383.0298211732,
          949445.2640597564,
          948825.9188411515,
          949383.0298211732,
          948825.9188411515,
          -2937958.404289509,
          -2937336.061903666,
          -2937958.404289509,
          -2937336.061903666,
          -2937958.404289509,
          -3607040.531983063,
          -3536634.359474409,
          -4471403.326864137,
          -1609679.0747254821,
          -1737578.3535001848,
          -1461492.574346354,
          -2119853.867072818,
          -1382716.2934403857,
          949264.8569012294,
          947506.6686885433,
          947377.0985161104,
          948310.6120948754,
          945146.8693176068,
          856648.7569304421,
          862187.6041644465,
          857271.0993162855,
          857271.0993162855,
          864925.910662155,
          375356.7225970086,
          1292713.5434360108,
          1012841.9709766501,
          590443.208838919,
          375356.7225970086,
          -35590.86659885615,
          -113185.20467916668,
          -180209.20831205524,
          17465.091062895248,
          -20378.135856031546,
          989872.7977512624,
          989842.8260788827,
          989842.8260788827,
          989872.7977512624,
          989872.7977512624,
          992906.6516427977,
          992906.6516427977,
          992906.6516427977,
          992906.6516427977,
          992906.6516427977,
          470423.2161040857,
          470891.5414421199,
          470696.66730938543,
          466783.79043182754,
          470762.9872564586,
          -1500548.0822025593,
          -1500225.456540537,
          -1499603.1141546927,
          -1501170.4245884016,
          -1500225.456540537,
          -192954.12597363882,
          -88213.90243621504,
          -147647.6002842484,
          -155115.70891436757,
          -349597.70449039683,
          2055595.8850169156,
          2056218.2274027586,
          2055895.6017407358,
          2055895.6017407358,
          2055595.8850169156,
          -157803.55782803788,
          -157544.41748316542,
          -186055.93879117948,
          -176344.29072318284,
          -157513.98005811064,
          1075988.6293109627,
          1107707.813081179,
          1174461.9603614786,
          1120664.8303246687,
          1105116.4096324833,
          726751.9266964844,
          734220.0353266061,
          726751.9266964844,
          730485.9810115458,
          731730.6657832349,
          -48841.42821615475,
          -48779.193977570925,
          -48811.45654377222,
          -50167.82715769901,
          -49504.62768692732,
          676468.337476774,
          566508.7771911075,
          632573.4949230988,
          340700.50000899605,
          686886.4660725225,
          462269.26515615155,
          606092.1565588752,
          605210.6738281611,
          454754.1951549261,
          471640.1450289807,
          -113823.02358214336,
          -203977.29452219055,
          -186774.96536705023,
          -105761.53860936781,
          -206670.94949020803,
          -335530.3773704616,
          -334938.0066569996,
          -336523.2652374349,
          -335601.2061277716,
          -336822.9819612587,
          -11834550.39811347,
          -11836648.415180217,
          -11765233.283798076,
          -880696.5113042127,
          -899704.8732532186,
          -1479933.6785208734,
          -1237107.8110992196,
          -1113977.1322390311,
          -19497.529970443604,
          -20089.05446140286,
          -20045.43924496701,
          -19838.103779192723,
          -19353.968165529695,
          931291.2347134592,
          938930.2128705068,
          800421.5512336015,
          958029.1101160867,
          938995.1328139912,
          -1220549.2010714822,
          -1212018.4761364686,
          -1213081.0924413623,
          -1208537.9930247064,
          -271789.43713213096,
          1536098.71330579,
          1393091.1024372363,
          1458669.7417378288,
          1535533.861902623,
          1405120.8402842025,
          548680.5454988941,
          516921.9279435441,
          460867.1049676186,
          511326.4946153047,
          512021.98386606405,
          358841.6621860997,
          358882.51927102805,
          356229.7213879399,
          358178.46271532844,
          357515.2632445565,
          1245515.921349317,
          1250821.5171154917,
          1253878.374124481,
          1304366.5513392636,
          1245853.660528142,
          513311.077918834,
          525757.9256356974,
          525073.349011267,
          525073.349011267,
          526940.3761687995,
          373603.0217129895,
          367440.77467495465,
          376147.9935002385,
          354707.1746049885,
          369821.4783182948,
          145460.71182829468,
          168187.6633806771,
          200872.09310655273,
          168510.2890426992,
          144861.2783806526,
          430516.941625174,
          436062.95056354516,
          449756.81246269157,
          416927.14142213174,
          428070.17625153373,
          650530.9333016597,
          652506.0332179207,
          648031.4038905541,
          652699.9421569689,
          642235.1978005791,
          951176.6015795424,
          950554.2591936986,
          966175.053078368,
          958967.3358716858,
          966112.8188397831,
          645622.8997528262,
          648131.3220644908,
          645760.4932960497,
          639041.5633074093,
          645011.4780583159,
          666154.4228561799,
          666154.4228561799,
          666776.7652420237,
          666154.4228561799,
          666154.4228561799,
          -346555.8261695465,
          -347178.16855539253,
          -346555.8261695465,
          -346555.8261695465,
          -346555.8261695465,
          616998.3524420788,
          657807.3494969362,
          626086.7127432902,
          639742.4823977558,
          638357.1168833257,
          643345.959241858,
          334356.59708155587,
          318751.33561112045,
          336604.4043964299,
          334436.80042996525,
          330644.1764644257,
          883085.0211954575,
          960105.2685448608,
          846627.1783769651,
          904505.1983987371,
          917150.7738226434,
          -8946417.165799182,
          -8874282.365712844,
          -5029633.3194783935,
          -7838521.938495965,
          -13430374.442271164,
          1935430.0019034524,
          1935430.0019034524,
          1935430.0019034524,
          1935430.0019034524,
          1935430.0019034524,
          -4820412.670203512,
          -4820350.435964927,
          -4820412.670203512,
          -4820350.435964927,
          -4820350.435964927,
          -361456.067204104,
          -361456.067204104,
          -362700.7519757882,
          -362078.40958994464,
          -361456.067204104,
          988301.9731626344,
          988921.3183812419,
          988262.6277206996,
          988951.2900536188,
          988331.9448350174,
          866354.2926957029,
          863378.2475118948,
          864929.5203291564,
          866004.6801881538,
          867236.2265987534,
          -4143713.66611115,
          -4167332.7051008153,
          -4159871.2284654006,
          -4164287.313118673,
          -4148662.4335255125,
          -885005.1063154461,
          -911293.2682201605,
          -947463.1022393759,
          -918721.1022928074,
          -981857.6919102889,
          380477.7506881235,
          380477.7506881235,
          380477.7506881235,
          380415.51644953585,
          380477.7506881235,
          918454.8771177949,
          915965.5075744175,
          916587.8499602631,
          916587.8499602631,
          918454.8771177949,
          502938.15953422873,
          507498.6240457827,
          505011.28229318996,
          504803.15890098154,
          504233.861258582,
          203021.13035370302,
          203343.75601572482,
          203643.4727395455,
          203021.13035370302,
          203643.4727395455,
          4903347.864332373,
          4904654.783342647,
          4903347.864332373,
          4902787.756185118,
          4903721.269763882,
          -327693.9685769099,
          -347059.3931234501,
          -329948.8467775349,
          -328596.984973844,
          -321500.7506365838,
          139731.0556424005,
          140913.50617549947,
          140228.92955107143,
          138922.01054080192,
          139482.11868805875,
          -1186843.7572935808,
          -1207574.984883161,
          -1189953.4414320162,
          -1204206.1603998553,
          -1207574.984883161,
          997223.9355783742,
          1001942.5028462288,
          988054.5435873145,
          1000645.8160193415,
          987235.3673583517,
          967938.1727338741,
          962447.6243228123,
          969291.6698314268,
          965495.9514359394,
          963670.5507338024,
          1072395.136130396,
          1040947.9229483259,
          1051143.956679015,
          1028863.2502293289,
          1068345.5793895135,
          398698.3693095383,
          430468.45562873373,
          521337.3907917493,
          479024.5348775321,
          477952.6174059581,
          633948.4750522717,
          172054.3291194735,
          615980.6657755364,
          594553.9972861958,
          701896.8802520604,
          260333.7201735193,
          229123.48076475353,
          413392.58186414366,
          257763.353312771,
          214483.79114890948,
          6498804.82713539,
          -4362127.755682221,
          -4362127.755682221,
          -4362127.755682221,
          -4362127.755682221,
          -4362750.098068063,
          105817.0627412041,
          71232.05645768829,
          150755.6876979823,
          220908.15009980317,
          95342.45173797481,
          -53010.16223556473,
          66233.10260921976,
          50913.19483439241,
          121013.37889497871,
          -471489.0282926193,
          -1586781.6570907768,
          -1587403.9994766228,
          -1586781.6570907768,
          -1586781.6570907768,
          -1587403.9994766228,
          987909.1995698314,
          987909.1995698314,
          987909.1995698314,
          987909.1995698314,
          987909.1995698314,
          705748.2428125802,
          707292.64430809,
          706047.9595364014,
          710540.2791835741,
          710415.8107064059,
          1018050.0480186456,
          1048911.0346510517,
          1029119.0491001231,
          1064858.0264091778,
          1048719.838970023,
          1028868.4671539668,
          1001780.4600794931,
          1011684.0516346603,
          981405.2076638498,
          989867.2310825215,
          -18217817.83945931,
          -18372279.390617654,
          -18322820.375338905,
          -18368150.43721194,
          -18141092.356613632,
          37326.861712502796,
          37326.861712502796,
          37326.861712502796,
          37949.20409834561,
          37326.861712502796,
          -141061.0940240061,
          -486618.8630824688,
          -418976.17004562326,
          -420683.1172672824,
          -577369.4606147899,
          -81889.40601996737,
          -100264.83575502322,
          -88874.40982102754,
          -95542.99003476932,
          -101228.91653201717,
          -7034.206271824751,
          47348.15033146801,
          -71364.55493669587,
          -115798.91947841381,
          -39530.98033964537,
          658777.8158133219,
          658807.787485704,
          658185.445099859,
          659181.1929172089,
          658807.787485704,
          139541.50194175946,
          153136.68656451942,
          148412.94255691025,
          149449.50393639065,
          147346.40950504944,
          391508.3449088274,
          391150.21719460964,
          391514.9769035329,
          391372.2613211201,
          391766.99270242755,
          1024977.1085743126,
          1027263.8523581512,
          1025649.7253617382,
          1026909.8043562056,
          1025296.719640744,
          862983.4909093943,
          862983.4909093943,
          862983.4909093943,
          862983.4909093943,
          863045.7251479765,
          375204.0672221125,
          381296.5718269539,
          410020.12809845275,
          381989.74297010724,
          383380.5505195461,
          679020.4491278686,
          679020.4491278686,
          679020.4491278686,
          679642.7915137116,
          679020.4491278686,
          996143.7023089795,
          996208.9337148039,
          996143.7023089795,
          995583.5941617179,
          995521.3599231354,
          925647.0356706808,
          925024.6932848375,
          925024.6932848375,
          925647.0356706808,
          925347.3189468628,
          304079.6169735227,
          304079.6169735227,
          304079.6169735227,
          304671.98768698587,
          304079.6169735227,
          974847.9904102853,
          974571.5689897295,
          975109.586532531,
          974572.0238030117,
          974674.4520522743,
          559580.6258283484,
          496101.70247233415,
          559580.6258283484,
          496724.04485817876,
          550245.4900406994,
          578859.1888882074,
          569011.8557831551,
          578600.048543341,
          565383.8909549802,
          559682.803367847,
          984347.3041521885,
          992548.0887931115,
          994407.9124275983,
          975958.4728618661,
          982622.6666980656,
          682687.6530601154,
          682003.0764356891,
          680136.0492781582,
          683557.0351779127,
          682812.1215372843,
          258974.5964612113,
          203129.13062723144,
          294852.6803581735,
          259820.48591665272,
          204512.2192917262,
          317018.03382204805,
          233756.44609730013,
          117241.05312983994,
          310589.782305019,
          254350.07212659452,
          -2488001.353211864,
          -1926537.1811963264,
          -2280761.652478624,
          -3437323.802718451,
          -3645245.784459499,
          573696.0539256869,
          599364.6447693773,
          506628.49321998743,
          524685.1792333882,
          769256.6493078467,
          -641737.0877489742,
          -693659.0585513005,
          -437524.33612385846,
          -99605.32641367152,
          -816968.1945080728,
          -1495501.092811976,
          -1495501.092811976,
          -1496123.4351978179,
          -1495501.092811976,
          -1526671.4679382548,
          835627.9913281852,
          835888.3827516235,
          835028.5578805432,
          835627.9913281852,
          837449.2006093111,
          -469010.77049440745,
          -469073.00473299366,
          -469073.00473299366,
          -468388.4281085649,
          -469010.77049440745,
          174965.49791265014,
          174343.15552680535,
          174965.49791265014,
          174343.15552680535,
          174935.52624026928,
          778695.8215062435,
          780498.8936895279,
          778707.4660280645,
          781720.6695230108,
          781486.184205013,
          852341.6298957133,
          846674.0495759902,
          849370.3132247876,
          852501.272074294,
          850432.7970420631,
          -289405.4577395443,
          -288783.1153537014,
          -288783.1153537014,
          -289405.4577395443,
          -289405.4577395443,
          828255.3570402262,
          827695.2488929618,
          827695.2488929618,
          827695.2488929618,
          828317.5912788111,
          450721.33538213884,
          450824.9915200855,
          453545.965141218,
          455681.3221387598,
          455359.9475553061,
          -4077024.037494947,
          -4090245.8335256903,
          -7631853.092189962,
          -4069189.6746375468,
          -7618448.169045577,
          902810.7041698245,
          898561.7894257493,
          903410.1376174664,
          2366016.034708552,
          2382049.2899950347,
          2373071.386616128,
          2378647.842887159,
          2370145.4812527928,
          -2156525.4060189174,
          -1632223.8832701757,
          -2216348.2028820273,
          -1536167.0386593407,
          -1475328.003424972,
          330821.73865893413,
          332118.2514995913,
          331340.83046498324,
          331729.5409822846,
          331237.17432703415,
          118976.12094525965,
          119598.46333110411,
          119598.46333110411,
          119349.52637676669,
          119971.86876260953,
          -1550781.9134018978,
          -1549537.228630212,
          -1549537.228630212,
          -1550459.2877398767,
          -1549537.228630212,
          1478970.9281978921,
          1453056.8937109136,
          1276841.4591994677,
          1263884.4419559785,
          989195.6763940167,
          586368.7028639463,
          586368.7028639463,
          586368.7028639463,
          586368.7028639463,
          586368.7028639463,
          989615.8710374318,
          1029512.236734519,
          999614.1788370826,
          1038414.8249119787,
          1023092.8975697097,
          933789.3573346959,
          933789.3573346959,
          933789.3573346959,
          933789.3573346959,
          933789.3573346959,
          -1289165.4536263165,
          -1184591.3706547872,
          -1167798.269696398,
          -1111734.132332691,
          -1236666.1009307867,
          411921.81078561925,
          414553.7906132662,
          438416.3602009215,
          434270.11468300543,
          409692.3582993248,
          468586.8962577077,
          584534.8106644299,
          354683.41278368863,
          479695.0867974386,
          346979.5018879307,
          -1587899.150722192,
          -2476043.6030930164,
          -1826894.1100761262,
          -2258036.0003164317,
          -1206124.5848340364,
          -1186228.6007108802,
          -1186228.6007108802,
          -1135203.0985463732,
          -1159700.6218800056,
          1041359.6122208937,
          1320713.0724624856,
          998543.4922036605,
          1020029.1196556439,
          1045546.3218837569,
          945934.5475175149,
          944726.1423941111,
          944676.9057285836,
          945299.2481144307,
          945934.5475175149,
          3978583.9260057723,
          4232617.781647145,
          4240934.402948855,
          -3264425.4500925494,
          -3264425.4500925494,
          -3264425.4500925494,
          -3264425.4500925494,
          -3264425.4500925494,
          -6523931.56569739,
          -6524553.908083235,
          -6523931.56569739,
          -6525176.250469076,
          -6524553.908083235,
          970708.5711591082,
          969903.2729205302,
          969904.6147426311,
          969402.1700711045,
          970090.5973122326,
          1229595.057904711,
          1229595.057904711,
          1229595.057904711,
          1229595.057904711,
          1228972.7155188676,
          -267015.2527548514,
          -276549.3483837338,
          -263837.2208785602,
          -260425.64627070745,
          -272866.21979297115,
          1399488.4485296756,
          1399488.4485296756,
          1399488.4485296756,
          1399488.4485296756,
          1399488.4485296756,
          987591.0335759828,
          987964.4390074889,
          985537.3037026996,
          987466.5650988143,
          983234.636875078,
          757225.3756849524,
          896412.6180652626,
          810256.0947736617,
          799172.0292369861,
          849050.1268321085,
          997374.0281342336,
          999303.2895303464,
          996908.4167917599,
          996689.4515098061,
          995631.4694538692,
          869839.1083538482,
          868980.5345613358,
          869194.6681461126,
          872106.2078260509,
          871353.3740441153,
          477034.63523503573,
          477729.92956266407,
          477054.5312191558,
          477623.8176473399,
          477608.00737171073,
          -74080.43163143955,
          -75770.31331993318,
          -64153.816723519136,
          -73787.34690232686,
          -65180.49894124085,
          -649994.8770056226,
          -623956.6006664358,
          -640046.8849440436,
          -632063.0284326331,
          -624726.977169212,
          49933.58559992605,
          49311.243214082235,
          192874.99427194035,
          49311.243214082235,
          64186.30456776369,
          770430.2560905563,
          778971.7724766161,
          949308.8578663719,
          966698.8111954372,
          924273.7499395845,
          4870055.072013551,
          4870055.072013551,
          4870055.072013551,
          4870055.072013551,
          4870055.072013551,
          758056.8292757944,
          773822.1458127269,
          771338.1611123967,
          764429.7164378004,
          725403.1359241835,
          857146.5284256134,
          858397.845192005,
          862249.7359895275,
          857768.8708114545,
          864745.7375276049,
          -8662692.830591287,
          -8636778.79610431,
          -8745617.740949614,
          -8582359.323681656,
          -8630973.64682107,
          -3890990.462914506,
          -4044178.126758278,
          996669.9426327073,
          993831.7649129519,
          994034.6468077033,
          994865.0102950739,
          993472.4737416607,
          859210.5658861203,
          845480.297752322,
          857085.5402711574,
          851000.2632740529,
          861005.8583221888,
          613239.3729450289,
          608882.9762441244,
          619397.246567523,
          618837.138420265,
          621952.1663468342,
          896419.9144583605,
          970940.2609197996,
          946465.210245861,
          903667.6195572175,
          964838.4057777287,
          -1562258.7635939436,
          -1557530.6832987994,
          -1564334.023605566,
          -1564754.7651320233,
          -1562820.0245219124,
          577559.1930289078,
          492778.19152534934,
          531648.1006619976,
          660414.155822657,
          576424.2042575696,
          942299.4312601781,
          955291.6090654109,
          997906.688186123,
          1161716.9574667779,
          1015451.8805346948,
          862416.7649723466,
          865473.8755553192,
          853060.5881336735,
          858997.560321266,
          866672.7424506001,
          -3532963.2628816157,
          -2204977.4137639888,
          -2039263.9170172573,
          -2020058.2025671483,
          -3939229.0989377005,
          -57023.53063379086,
          -155779.65866420013,
          529303.3624448705,
          528743.2542976136,
          529003.6457210515,
          529666.8451918234,
          529665.3134072804,
          1094741.8201568485,
          1094804.0543954342,
          1094741.8201568485,
          1094741.8201568485,
          1094741.8201568485,
          752125.9869331153,
          752188.2211716991,
          752063.7526945309,
          751535.907113474,
          752096.0152607356,
          982025.2759978625,
          978477.9243985583,
          978349.3702128956,
          982332.3614822915,
          983705.6004396401,
          468461.34539543523,
          462940.23693894973,
          511379.4042277867,
          485758.75216879236,
          480939.64508921525,
          169858.95317976133,
          169858.95317976133,
          169858.95317976133,
          170481.29556560735,
          530111.1523055487,
          530782.7020116384,
          530261.0106674598,
          530290.9823398386,
          530111.1523055487,
          700885.5361474806,
          700885.5361474806,
          701507.8785333236,
          700885.5361474806,
          701507.8785333236,
          583944.9908207161,
          616924.0677934618,
          -144501.9263508431,
          -230678.2255463993,
          247949.03026103138,
          -7510629.186039336,
          -7925128.855271759,
          -7721567.474829721,
          -7475479.614088424,
          -7734168.264774387,
          147305.73210985583,
          181188.5930715916,
          181911.4804947325,
          199194.45870304815,
          218559.88324958718,
          -8764608.842452688,
          -9292256.71722814,
          -8278824.318263387,
          -8272452.8347761985,
          -8510795.642985582,
          1056809.0338725008,
          1056809.0338725008,
          1056802.401877794,
          1056802.401877794,
          1056809.0338725008,
          -1128033.3361789514,
          -1103494.2303574109,
          -1248596.414277581,
          -1230329.5038623626,
          -1059604.5463170707,
          -97620.85172935453,
          -90403.90998363054,
          -125372.45724898337,
          30636.243327726017,
          -213544.03463905977,
          -951926.4694857246,
          -951926.4694857246,
          -951926.4694857246,
          -951926.4694857246,
          -951626.7527619032,
          739253.8364179622,
          741911.7133196321,
          734597.3137729509,
          742448.2076368071,
          734233.6970852871,
          997583.1529570139,
          906261.6898667486,
          916627.30366154,
          698327.0715850859,
          882214.6825373011,
          407080.58095455123,
          407080.58095455123,
          407080.58095455123,
          407080.58095455123,
          407080.58095455123,
          900961.9782715299,
          905563.3105584745,
          904764.759401195,
          899738.3019108516,
          893049.4567626622,
          849970.5733580574,
          849880.6583409089,
          849940.6016856752,
          849880.6583409089,
          849470.0464292763,
          635789.9712817043,
          695025.3369788403,
          637468.5073080943,
          735559.312898926,
          710679.4458350064,
          603109.5795136541,
          603109.5795136541,
          603109.5795136541,
          603109.5795136541,
          603109.5795136541,
          728171.1783211672,
          728171.1783211672,
          728171.1783211672,
          728171.1783211672,
          727548.8359353256,
          -6764480.769664041,
          -545002.4067075416,
          -2476870.6643420258,
          151375.98452883842,
          67237.30423001295,
          24177.339719916927,
          -9412.394859407754,
          124747.51600443256,
          266770.8017401105,
          263473.9177780826,
          257243.63260098099,
          267710.8089965009,
          262874.48433044483,
          -6225984.9546274,
          -4602026.176299055,
          -3136084.4992268626,
          -3144042.8928761263,
          -3930045.9445341537,
          384894.9700232432,
          397216.2041738636,
          401982.6312611295,
          353119.6083124112,
          372394.22307444183,
          636420.708475223,
          636420.708475223,
          636420.708475223,
          636420.708475223,
          636420.708475223,
          -17772.079544268086,
          -18135.562291221133,
          -17680.296735043314,
          -17380.580011222602,
          -17671.32266168056,
          764304.0803766934,
          857198.7637604474,
          840439.3796213045,
          862063.5335297671,
          858527.6603531758,
          760484.4791616614,
          764094.0649995502,
          764529.7046696441,
          761604.6954561785,
          759364.2628671458,
          -797165.5282933422,
          -896355.6113470593,
          -923342.4745542312,
          -1053774.2990921885,
          -865918.6095505456,
          887845.6063857137,
          889899.3362589969,
          888903.5884416502,
          888903.5884416502,
          890998.1753998577,
          248919.3385373118,
          1372941.6264243464,
          -149066.21591192958,
          594371.709938708,
          1247385.8217842581,
          977966.663337324,
          974784.5828395911,
          976243.6216752894,
          977137.6639988587,
          978266.3800611456,
          888437.7722323311,
          937410.5702674319,
          1094752.5823031173,
          1102403.2872568488,
          912289.3794282598,
          1660153.1468977232,
          2202886.5440064115,
          1534652.283499269,
          1572138.2386495664,
          957006.2423537727,
          545834.701440055,
          511064.565670969,
          511481.03253782116,
          514383.4710238231,
          515643.56023390545,
          501450.148965596,
          501387.9147270138,
          502010.2571128551,
          502703.428256009,
          501687.63145083195,
          -6407242.795835569,
          -6405253.197423254,
          -1168497.536314328,
          -1017288.05697834,
          -1067823.856651156,
          956318.6273526634,
          959545.0267480039,
          963232.3497492849,
          972965.421283428,
          977091.2859644454,
          -357187.1231374629,
          -356864.497475441,
          -357490.4746887531,
          -357816.0975180142,
          -424136.0445952023,
          548802.7166741864,
          550047.4014458755,
          549425.0590600298,
          549425.0590600298,
          549425.0590600298,
          993156.2380989621,
          993159.5540963175,
          993156.2380989621,
          993152.9221016095,
          993156.2380989621,
          -1989746.3273130718,
          -2424167.296313448,
          -2412145.089450804,
          -1819376.8991697917,
          -2225668.383546648,
          934135.4347102218,
          1085059.177120538,
          1067541.6953654946,
          974975.5475035444,
          936726.838158921,
          -3641377.8332334664,
          -8581591.548098138,
          -5133576.6424702,
          -5132954.300084355,
          -3293198.1110782297,
          816862.1250022232,
          817051.9648152764,
          811621.2432244708,
          815509.3145873413,
          811355.9634361601,
          844628.0327174342,
          839118.629418847,
          839862.423843225,
          846923.4555043594,
          842895.2191333048,
          477807.8104807093,
          484762.4308504513,
          453442.9270412304,
          493863.6578228057,
          492887.90132938186,
          868008.3998802816,
          868470.0246104194,
          865156.2598881241,
          864355.5729922312,
          868895.6397865908,
          940587.5700398936,
          938923.2818548568,
          940333.8792243466,
          939935.2559816672,
          941433.8396007669,
          969161.1973378296,
          964181.578320137,
          967295.3868547638,
          944083.4053777496,
          968072.8078893751,
          358923.85755982087,
          358590.7913240879,
          368771.19066487363,
          414450.4394132863,
          381095.4249488042,
          965749.7164497655,
          965351.7967673042,
          965617.0765556123,
          965816.0363968472,
          965418.1167143809,
          18853.40918981147,
          17961.32175252938,
          19475.751575654685,
          19505.723248036822,
          18856.406357050077,
          1001898.4584103723,
          -233240.35155030532,
          -245245.05803031946,
          981840.8959071501,
          662570.7258258332,
          786214.3708885254,
          785477.5262328652,
          786476.1026368415,
          790878.8970961814,
          785514.6919573778,
          -339011.0440628518,
          -339114.70020080026,
          -339296.09844220866,
          -338667.12406165706,
          -339444.95065442106,
          849619.7533585492,
          824660.5547509164,
          868576.8413015252,
          820447.3350749835,
          861240.7900381044,
          582234.3860473835,
          431310.6436370719,
          617891.6919433088,
          498687.1333032122,
          615300.2884946116,
          990519.048210936,
          981631.746217659,
          987654.3164392591,
          988439.802227728,
          984608.3182112705,
          838230.7903163808,
          839152.8494260435,
          839152.8494260435,
          838530.5070402041,
          838853.1327022255,
          276751.0670246338,
          179383.56992967683,
          296769.8762562991,
          181050.10610732826,
          305380.6658972788,
          2501751.387413789,
          2501751.387413789,
          2501751.387413789,
          2501751.387413789,
          2501751.387413789,
          832196.9681537084,
          832819.3105395527,
          832196.9681537084,
          832196.9681537084,
          832196.9681537084,
          -112500.55030970924,
          -112200.83358589253,
          -118210.48590777165,
          -119132.54501743664,
          -119132.54501743664,
          693169.1311724943,
          693231.365411079,
          693169.1311724943,
          693169.1311724943,
          693169.1311724943,
          1210270.6683490146,
          1938724.7824845212,
          1209798.184325082,
          1210540.413400453,
          1209918.0710146106,
          1018575.7274016837,
          1002939.570567146,
          1027398.1307266774,
          1014496.5208017871,
          1015794.0513273549,
          -939986.3560849014,
          -887087.2532882221,
          -806182.7431285947,
          -806182.7431285947,
          -852858.4220668408,
          -4117028.7616979918,
          -4113008.707788432,
          -4116365.5622272184,
          -4117028.7616979918,
          -4117651.104083834,
          -956717.1288046789,
          -1808596.3289619947,
          707117.1120329973,
          -117777.79065064277,
          -294545.13250288,
          876883.7669002814,
          876883.7669002814,
          876883.7669002814,
          876883.7669002814,
          876883.7669002814,
          -787841.6720101029,
          -788464.0143959449,
          -789086.3567817884,
          -789086.3567817884,
          -788164.2976721241,
          890679.071402558,
          890679.071402558,
          890741.3056411428,
          890679.071402558,
          890679.071402558,
          372798.65824081306,
          603352.2571432646,
          588325.2222522587,
          544818.2718529418,
          471522.5314599134,
          -837056.4616355562,
          -837678.8040213985,
          -837056.4616355562,
          -837678.8040213985,
          -837056.4616355562,
          573333.8119717191,
          573333.8119717191,
          573034.0952478978,
          573333.8119717191,
          573034.0952478978,
          962771.2261530566,
          963327.2485918226,
          963327.2485918226,
          963093.85181508,
          963393.5685388983,
          161697.58171213706,
          162942.26648382313,
          162319.92409797947,
          161075.23932629207,
          162382.1583365639,
          -1112933.3313416904,
          -539394.3475734327,
          -1191176.8362250726,
          -795844.8292491388,
          -810543.5640241418,
          -806215.512520877,
          -794464.6958975402,
          -802368.4441977507,
          928711.5562186756,
          926622.284361766,
          925269.5935485946,
          923944.5127482085,
          929551.4001039522,
          -340642.6420439473,
          -334143.9780018259,
          -341928.1839005617,
          -340642.6420439473,
          -334777.2058002175,
          858676.9295258378,
          852861.8153291683,
          856011.3784381256,
          865926.5818732498,
          861066.0959296763,
          678408.2627726151,
          672084.8327996357,
          671452.0498400818,
          665451.2455291245,
          677112.5610482671,
          847580.5326420487,
          797530.4767772191,
          770088.415763289,
          758014.6254976701,
          770889.122229246,
          877232.5153974816,
          962104.0522468193,
          867748.3843334031,
          965340.2326532061,
          891475.0309747872,
          139764.64037520744,
          89310.48419314706,
          55014.16815997768,
          180516.97089216585,
          296761.83257453877,
          685030.9155041171,
          688676.5477730432,
          885265.2493305502,
          699581.3658261911,
          747668.9530717374,
          866778.6088036828,
          862080.4300712197,
          858565.2091530731,
          857331.7381515811,
          859311.5204333642,
          525178.4191607315,
          525862.9957851586,
          525800.7615465726,
          525738.5273079895,
          525862.9957851586,
          -259580.51154539437,
          -279419.54039654305,
          -252912.0989151276,
          540703.9773872589,
          -258238.2320307646,
          -128357.88311173816,
          -128357.88311173816,
          -128357.88311173816,
          -128357.88311173816,
          -128357.88311173816,
          869747.2662658553,
          890059.1337184112,
          862069.5938427811,
          888626.0547594834,
          867334.1246866909,
          195170.44485773484,
          249420.16063646934,
          205355.35091423517,
          253714.7275932085,
          272276.65380100516,
          -1300797.3221878624,
          -1302724.686361593,
          -1305377.4842446817,
          -1298892.1349750555,
          -1298745.489536962,
          813839.3295979218,
          813901.563836504,
          813901.563836504,
          813901.563836504,
          813839.3295979218,
          -253382.5030615658,
          -253382.5030615658,
          -253712.19145777047,
          -254627.18783325437,
          -253382.5030615658,
          -3580006.3745784326,
          -2240040.60414094,
          -2800532.1328095975,
          -1443430.4457289758,
          -1594400.519423519,
          -80651.37020648849,
          -73500.39210614408,
          -80651.37020648849,
          -80651.37020648849,
          -81273.71259233175,
          -2745561.2798623806,
          -2748835.2548862044,
          -2743740.070581254,
          -2744039.7873050757,
          -2745838.087647999,
          5849396.983495143,
          6070328.530469516,
          5955195.189088502,
          5962663.297718616,
          5818902.206588819,
          -25731.621891829785,
          -188740.24711090673,
          -216541.62434831966,
          -314079.2237861297,
          -68987.40387341444,
          -104785.37763601144,
          -117074.2001063622,
          -130140.44361131858,
          -338030.0640656181,
          -446807.1259487621,
          -1108445.3488804896,
          -1107823.006494646,
          -1109812.6049069627,
          -1108445.3488804896,
          -1107823.006494646,
          806461.4065262788,
          805839.0641404333,
          806461.4065262788,
          805839.0641404333,
          805539.3474166151,
          4642116.625504933,
          4642116.625504933,
          4642116.625504933,
          4642116.625504933,
          4642116.625504933,
          1335954.212150866,
          1431577.4919590815,
          1309648.8899761322,
          1749167.2141864449,
          1453652.8336867143,
          -212379.1683814544,
          -211487.52578301175,
          -210710.10474840028,
          -212379.1683814544,
          -207196.36148405873,
          284086.42222662835,
          283786.70550280454,
          283786.70550280454,
          284386.1389504466,
          283486.9887789839,
          -4607846.493119523,
          -4810231.824573606,
          760221.7156447582,
          759207.0204544773,
          760354.3555389156,
          759739.0507059348,
          760128.8677188511,
          1010336.7305560419,
          1010709.3992216473,
          1010709.3992216473,
          1010403.0505031187,
          1010409.6824978269,
          721929.9775940164,
          709089.5117383417,
          734267.2794775787,
          704548.8378208379,
          705872.6687702452,
          864876.7886495716,
          889630.091241798,
          895040.1554724965,
          866902.009791771,
          871718.2316352526,
          1599331.847021517,
          1599331.847021517,
          1599331.847021517,
          1599394.0812601012,
          1599331.847021517,
          610103.2069298995,
          608547.3509652882,
          606618.089569176,
          610103.2069298995,
          608236.1797723694,
          -6581403.925037027,
          -6349894.005804997,
          -6137418.459173779,
          -6567429.257492715,
          -6445507.066538916,
          984229.0460174634,
          984166.8117788775,
          984166.8117788775,
          984166.8117788775,
          984166.8117788775,
          -2060769.323660363,
          -2121783.674971378,
          -2035567.7437710338,
          -2115151.680263659,
          -2016294.1020337197,
          2122712.2231633323,
          2133302.0375420265,
          2124017.2449512207,
          2117344.393158573,
          2102794.86188652,
          889158.3009471988,
          889158.3009471988,
          889158.3009471988,
          888535.9585613556,
          888535.9585613556,
          991667.4399402203,
          989329.6494944182,
          990228.7996658782,
          989449.5361839444,
          990258.7713382612,
          1199359.9702583184,
          1193542.5466496549,
          1322741.32958879,
          1178270.5860897338,
          1212924.0910841932,
          974859.1935222715,
          984029.8047081804,
          981418.3504223813,
          988599.8497083336,
          989222.192094173,
          882207.6423749278,
          853481.6452311225,
          868818.8819579293,
          909234.1891492549,
          892000.5959466789,
          966903.2989236421,
          889053.1662092856,
          793162.476064565,
          1384429.017214029,
          1352236.115944248,
          982437.2938538803,
          982810.699285381,
          983495.2759098081,
          983059.6362397185,
          982623.9965696295,
          1325585.3471394794,
          1327452.3742970112,
          1327327.9058198412,
          1327306.5286661857,
          1327866.6368134443,
          983611.1394036816,
          981744.1122461505,
          985727.1035155487,
          984233.4817895244,
          986038.2747084706,
          243735.03653175905,
          247446.11601813734,
          247194.69103033122,
          248209.3645762413,
          246884.52670134677,
          207681.80207411564,
          205017.18428409318,
          210492.26659657242,
          208253.36469047933,
          205763.99514710243,
          759321.9686762654,
          758842.4362924002,
          762904.2773153511,
          746085.7618758328,
          772053.1290949486,
          875809.4962749813,
          756456.788728796,
          740568.1645868347,
          818032.0812601891,
          744096.1233004662,
          916736.348839191,
          885404.0812986554,
          961243.4593658157,
          839933.1838255619,
          948635.5903669595,
          410309.6206760733,
          416906.4499660125,
          413483.566843875,
          421157.04846132174,
          419968.3745043604,
          3811507.9612924657,
          3811807.6780162854,
          3811807.6780162854,
          3811507.9612924657,
          3811807.6780162854,
          664647.4866366724,
          666808.4442154169,
          668784.283698812,
          683835.9889559043,
          668304.030667282,
          709109.6324872872,
          708809.915763469,
          709432.2581493107,
          709432.2581493107,
          708809.915763469,
          474747.30897704524,
          505611.5472300859,
          527140.0671680204,
          368992.4562510742,
          480716.1042139907,
          877026.575070667,
          881833.2975462269,
          877721.4608274408,
          880175.2988692971,
          883863.7530434728,
          -11913176.38017693,
          -17331854.121992882,
          -19996256.134930514,
          -8145739.963630016,
          -2572918.987107355,
          119721.4020677323,
          87981.94038972368,
          80513.83175960425,
          85492.57084635101,
          67444.6416568955,
          -14194382.762270963,
          -14188740.823713444,
          -2399699.2370936973,
          -2432383.66681957,
          -2444570.1231129994,
          -2420582.0704267505,
          -2458572.826794473,
          815343.0665349031,
          811808.3403480245,
          801469.2102405217,
          834274.1619653733,
          845682.2320250176,
          -858015.1202629175,
          -860927.8982950699,
          -862949.6985771313,
          -860697.3371526353,
          -859510.4674338667,
          675239.8014094854,
          674617.4590236429,
          675539.5181333044,
          674617.4590236429,
          674617.4590236429,
          -357960.9715998546,
          -357338.6292140114,
          -357338.6292140114,
          -357338.6292140114,
          -357960.9715998546,
          982557.9772306252,
          980436.9519793061,
          983698.6408620214,
          982864.0872840947,
          984448.3270191912,
          -3107733.712457619,
          -2413895.264875846,
          -2836985.104608126,
          -3109744.2703985395,
          -2447604.355696013,
          1010717.1133557139,
          1063616.216152392,
          1044323.6021912552,
          1075440.7214834131,
          1010717.1133557139,
          1861516.557523202,
          1891578.8029955155,
          1836054.8782366465,
          1898148.782307304,
          1911309.4127295238,
          812446.0562704331,
          757889.9078144282,
          785106.9086425371,
          697356.6322386345,
          657826.4362684798,
          -1216761.3288454404,
          -1216161.8953977982,
          -1216138.9864595963,
          -1216438.7031834186,
          -1216761.3288454402,
          1111967.4135665654,
          1114754.1810736805,
          1110567.6177984332,
          1111639.9463113542,
          1117843.5569360543
         ],
         "yaxis": "y"
        },
        {
         "hovertemplate": "color=0<br>PC1=%{x}<br>PC2=%{y}<extra></extra>",
         "legendgroup": "0",
         "marker": {
          "color": "#EF553B",
          "symbol": "circle"
         },
         "mode": "markers",
         "name": "0",
         "showlegend": true,
         "type": "scattergl",
         "x": [
          187041422.08424866,
          283388217.84510374,
          177892526.85438702,
          84332976.07773797,
          86051743.82014735,
          93600154.82728094,
          87769679.29136962,
          85424639.30854565,
          81701916.66952628,
          81512707.86064637,
          81127037.2994299,
          80878891.93787135,
          82347748.91627131,
          186812461.7914271,
          312110474.474367,
          323895634.6356102,
          317148384.3028255,
          322256846.906583,
          315357084.3765375,
          86864831.54940295,
          86862966.36535127,
          86866696.73345467,
          86866696.73345467,
          86864831.54940295,
          202969843.33248994,
          198002930.4047144,
          207143464.6278261,
          199457500.26194033,
          211888366.33100757,
          82177959.71258475,
          82360134.53364335,
          83120220.77495104,
          82406264.79223599,
          83374048.35899402,
          124725026.77793542,
          120956631.50348745,
          123785521.67754255,
          118102877.96003582,
          172254332.0396466,
          171581950.85922414,
          162112229.61478776,
          177072864.73495838,
          175827302.388068,
          176695905.4229994,
          175595741.5232017,
          180131533.1512362,
          268586684.076351,
          301349129.05288243,
          267788812.42454684,
          281096143.68315893,
          315044241.3499757,
          122854493.82260783,
          86286006.77843916,
          118724719.32945943
         ],
         "xaxis": "x",
         "y": [
          -15611496.973947532,
          -6865048.1211283505,
          -18609750.929994848,
          3482635.6465105517,
          3597265.888626029,
          4612297.844634311,
          3750729.1130149863,
          3120190.7889029067,
          10529645.246416721,
          10716733.151757682,
          10819303.647641694,
          10969532.556939395,
          10148880.462549157,
          -31098852.533353664,
          34330673.71120274,
          36606840.14163468,
          36543276.31928931,
          32512725.556694705,
          36063291.12557345,
          -739574.6133527945,
          -738952.2709669487,
          -740196.9557386531,
          -740196.9557386531,
          -739574.6133527945,
          -25909375.941646058,
          -28987896.175550763,
          -22937882.936977174,
          -28890251.141477436,
          -26621536.63073635,
          7214442.368133262,
          7075895.073176333,
          6587014.811698123,
          7062569.689326501,
          6401421.211401326,
          -27385808.168710437,
          -24583229.70022922,
          -26676601.773889385,
          -24304892.02304291,
          -119473543.35911317,
          -118944122.26651311,
          -112626974.54276492,
          -7253348.968723992,
          -7435148.742827135,
          -7176201.805452994,
          -7227846.795356758,
          -6740889.6467728885,
          30262348.01820819,
          33550182.19093969,
          29977307.062757704,
          28383770.785301827,
          35346012.786915615,
          3848977.599143475,
          -419063.88086170173,
          3366976.557685716
         ],
         "yaxis": "y"
        },
        {
         "hovertemplate": "color=1<br>PC1=%{x}<br>PC2=%{y}<extra></extra>",
         "legendgroup": "1",
         "marker": {
          "color": "#00cc96",
          "symbol": "circle"
         },
         "mode": "markers",
         "name": "1",
         "showlegend": true,
         "type": "scattergl",
         "x": [
          1748428553.1413326,
          1432274608.2141562,
          1506501982.7806876,
          1630713900.3918831,
          1811194157.570978,
          1181868719.5384107,
          1211468509.879596,
          1210779173.767361,
          1304949620.5209558,
          1364871860.8626082,
          1339213554.78645,
          1358752649.5627697,
          1369166456.82269,
          936012200.1023868,
          937758491.5122755,
          932267378.2207994,
          922912135.7332628,
          946283493.9755954
         ],
         "xaxis": "x",
         "y": [
          153957389.16984743,
          -71223499.25456136,
          130592906.43739839,
          111620461.52119403,
          43975749.46678281,
          89298605.28348358,
          79221389.59585747,
          90197771.05570832,
          13740775.820654755,
          19882825.72166769,
          16011305.442420527,
          19783557.762427907,
          21486993.65536828,
          102684918.16754352,
          102863071.92923336,
          101666689.17558742,
          101846492.45112224,
          104206051.1662598
         ],
         "yaxis": "y"
        },
        {
         "hovertemplate": "color=3<br>PC1=%{x}<br>PC2=%{y}<extra></extra>",
         "legendgroup": "3",
         "marker": {
          "color": "#ab63fa",
          "symbol": "circle"
         },
         "mode": "markers",
         "name": "3",
         "showlegend": true,
         "type": "scattergl",
         "x": [
          2414322839.119706,
          2401496950.4891086,
          2227642314.489175,
          2421665266.72744,
          2389729849.7243342
         ],
         "xaxis": "x",
         "y": [
          -123972626.96958947,
          -128904775.42544335,
          -138614870.3791328,
          -118621173.43007347,
          -126399680.76579909
         ],
         "yaxis": "y"
        }
       ],
       "layout": {
        "legend": {
         "title": {
          "text": "color"
         },
         "tracegroupgap": 0
        },
        "margin": {
         "t": 60
        },
        "template": {
         "data": {
          "bar": [
           {
            "error_x": {
             "color": "#2a3f5f"
            },
            "error_y": {
             "color": "#2a3f5f"
            },
            "marker": {
             "line": {
              "color": "#E5ECF6",
              "width": 0.5
             },
             "pattern": {
              "fillmode": "overlay",
              "size": 10,
              "solidity": 0.2
             }
            },
            "type": "bar"
           }
          ],
          "barpolar": [
           {
            "marker": {
             "line": {
              "color": "#E5ECF6",
              "width": 0.5
             },
             "pattern": {
              "fillmode": "overlay",
              "size": 10,
              "solidity": 0.2
             }
            },
            "type": "barpolar"
           }
          ],
          "carpet": [
           {
            "aaxis": {
             "endlinecolor": "#2a3f5f",
             "gridcolor": "white",
             "linecolor": "white",
             "minorgridcolor": "white",
             "startlinecolor": "#2a3f5f"
            },
            "baxis": {
             "endlinecolor": "#2a3f5f",
             "gridcolor": "white",
             "linecolor": "white",
             "minorgridcolor": "white",
             "startlinecolor": "#2a3f5f"
            },
            "type": "carpet"
           }
          ],
          "choropleth": [
           {
            "colorbar": {
             "outlinewidth": 0,
             "ticks": ""
            },
            "type": "choropleth"
           }
          ],
          "contour": [
           {
            "colorbar": {
             "outlinewidth": 0,
             "ticks": ""
            },
            "colorscale": [
             [
              0,
              "#0d0887"
             ],
             [
              0.1111111111111111,
              "#46039f"
             ],
             [
              0.2222222222222222,
              "#7201a8"
             ],
             [
              0.3333333333333333,
              "#9c179e"
             ],
             [
              0.4444444444444444,
              "#bd3786"
             ],
             [
              0.5555555555555556,
              "#d8576b"
             ],
             [
              0.6666666666666666,
              "#ed7953"
             ],
             [
              0.7777777777777778,
              "#fb9f3a"
             ],
             [
              0.8888888888888888,
              "#fdca26"
             ],
             [
              1,
              "#f0f921"
             ]
            ],
            "type": "contour"
           }
          ],
          "contourcarpet": [
           {
            "colorbar": {
             "outlinewidth": 0,
             "ticks": ""
            },
            "type": "contourcarpet"
           }
          ],
          "heatmap": [
           {
            "colorbar": {
             "outlinewidth": 0,
             "ticks": ""
            },
            "colorscale": [
             [
              0,
              "#0d0887"
             ],
             [
              0.1111111111111111,
              "#46039f"
             ],
             [
              0.2222222222222222,
              "#7201a8"
             ],
             [
              0.3333333333333333,
              "#9c179e"
             ],
             [
              0.4444444444444444,
              "#bd3786"
             ],
             [
              0.5555555555555556,
              "#d8576b"
             ],
             [
              0.6666666666666666,
              "#ed7953"
             ],
             [
              0.7777777777777778,
              "#fb9f3a"
             ],
             [
              0.8888888888888888,
              "#fdca26"
             ],
             [
              1,
              "#f0f921"
             ]
            ],
            "type": "heatmap"
           }
          ],
          "heatmapgl": [
           {
            "colorbar": {
             "outlinewidth": 0,
             "ticks": ""
            },
            "colorscale": [
             [
              0,
              "#0d0887"
             ],
             [
              0.1111111111111111,
              "#46039f"
             ],
             [
              0.2222222222222222,
              "#7201a8"
             ],
             [
              0.3333333333333333,
              "#9c179e"
             ],
             [
              0.4444444444444444,
              "#bd3786"
             ],
             [
              0.5555555555555556,
              "#d8576b"
             ],
             [
              0.6666666666666666,
              "#ed7953"
             ],
             [
              0.7777777777777778,
              "#fb9f3a"
             ],
             [
              0.8888888888888888,
              "#fdca26"
             ],
             [
              1,
              "#f0f921"
             ]
            ],
            "type": "heatmapgl"
           }
          ],
          "histogram": [
           {
            "marker": {
             "pattern": {
              "fillmode": "overlay",
              "size": 10,
              "solidity": 0.2
             }
            },
            "type": "histogram"
           }
          ],
          "histogram2d": [
           {
            "colorbar": {
             "outlinewidth": 0,
             "ticks": ""
            },
            "colorscale": [
             [
              0,
              "#0d0887"
             ],
             [
              0.1111111111111111,
              "#46039f"
             ],
             [
              0.2222222222222222,
              "#7201a8"
             ],
             [
              0.3333333333333333,
              "#9c179e"
             ],
             [
              0.4444444444444444,
              "#bd3786"
             ],
             [
              0.5555555555555556,
              "#d8576b"
             ],
             [
              0.6666666666666666,
              "#ed7953"
             ],
             [
              0.7777777777777778,
              "#fb9f3a"
             ],
             [
              0.8888888888888888,
              "#fdca26"
             ],
             [
              1,
              "#f0f921"
             ]
            ],
            "type": "histogram2d"
           }
          ],
          "histogram2dcontour": [
           {
            "colorbar": {
             "outlinewidth": 0,
             "ticks": ""
            },
            "colorscale": [
             [
              0,
              "#0d0887"
             ],
             [
              0.1111111111111111,
              "#46039f"
             ],
             [
              0.2222222222222222,
              "#7201a8"
             ],
             [
              0.3333333333333333,
              "#9c179e"
             ],
             [
              0.4444444444444444,
              "#bd3786"
             ],
             [
              0.5555555555555556,
              "#d8576b"
             ],
             [
              0.6666666666666666,
              "#ed7953"
             ],
             [
              0.7777777777777778,
              "#fb9f3a"
             ],
             [
              0.8888888888888888,
              "#fdca26"
             ],
             [
              1,
              "#f0f921"
             ]
            ],
            "type": "histogram2dcontour"
           }
          ],
          "mesh3d": [
           {
            "colorbar": {
             "outlinewidth": 0,
             "ticks": ""
            },
            "type": "mesh3d"
           }
          ],
          "parcoords": [
           {
            "line": {
             "colorbar": {
              "outlinewidth": 0,
              "ticks": ""
             }
            },
            "type": "parcoords"
           }
          ],
          "pie": [
           {
            "automargin": true,
            "type": "pie"
           }
          ],
          "scatter": [
           {
            "fillpattern": {
             "fillmode": "overlay",
             "size": 10,
             "solidity": 0.2
            },
            "type": "scatter"
           }
          ],
          "scatter3d": [
           {
            "line": {
             "colorbar": {
              "outlinewidth": 0,
              "ticks": ""
             }
            },
            "marker": {
             "colorbar": {
              "outlinewidth": 0,
              "ticks": ""
             }
            },
            "type": "scatter3d"
           }
          ],
          "scattercarpet": [
           {
            "marker": {
             "colorbar": {
              "outlinewidth": 0,
              "ticks": ""
             }
            },
            "type": "scattercarpet"
           }
          ],
          "scattergeo": [
           {
            "marker": {
             "colorbar": {
              "outlinewidth": 0,
              "ticks": ""
             }
            },
            "type": "scattergeo"
           }
          ],
          "scattergl": [
           {
            "marker": {
             "colorbar": {
              "outlinewidth": 0,
              "ticks": ""
             }
            },
            "type": "scattergl"
           }
          ],
          "scattermapbox": [
           {
            "marker": {
             "colorbar": {
              "outlinewidth": 0,
              "ticks": ""
             }
            },
            "type": "scattermapbox"
           }
          ],
          "scatterpolar": [
           {
            "marker": {
             "colorbar": {
              "outlinewidth": 0,
              "ticks": ""
             }
            },
            "type": "scatterpolar"
           }
          ],
          "scatterpolargl": [
           {
            "marker": {
             "colorbar": {
              "outlinewidth": 0,
              "ticks": ""
             }
            },
            "type": "scatterpolargl"
           }
          ],
          "scatterternary": [
           {
            "marker": {
             "colorbar": {
              "outlinewidth": 0,
              "ticks": ""
             }
            },
            "type": "scatterternary"
           }
          ],
          "surface": [
           {
            "colorbar": {
             "outlinewidth": 0,
             "ticks": ""
            },
            "colorscale": [
             [
              0,
              "#0d0887"
             ],
             [
              0.1111111111111111,
              "#46039f"
             ],
             [
              0.2222222222222222,
              "#7201a8"
             ],
             [
              0.3333333333333333,
              "#9c179e"
             ],
             [
              0.4444444444444444,
              "#bd3786"
             ],
             [
              0.5555555555555556,
              "#d8576b"
             ],
             [
              0.6666666666666666,
              "#ed7953"
             ],
             [
              0.7777777777777778,
              "#fb9f3a"
             ],
             [
              0.8888888888888888,
              "#fdca26"
             ],
             [
              1,
              "#f0f921"
             ]
            ],
            "type": "surface"
           }
          ],
          "table": [
           {
            "cells": {
             "fill": {
              "color": "#EBF0F8"
             },
             "line": {
              "color": "white"
             }
            },
            "header": {
             "fill": {
              "color": "#C8D4E3"
             },
             "line": {
              "color": "white"
             }
            },
            "type": "table"
           }
          ]
         },
         "layout": {
          "annotationdefaults": {
           "arrowcolor": "#2a3f5f",
           "arrowhead": 0,
           "arrowwidth": 1
          },
          "autotypenumbers": "strict",
          "coloraxis": {
           "colorbar": {
            "outlinewidth": 0,
            "ticks": ""
           }
          },
          "colorscale": {
           "diverging": [
            [
             0,
             "#8e0152"
            ],
            [
             0.1,
             "#c51b7d"
            ],
            [
             0.2,
             "#de77ae"
            ],
            [
             0.3,
             "#f1b6da"
            ],
            [
             0.4,
             "#fde0ef"
            ],
            [
             0.5,
             "#f7f7f7"
            ],
            [
             0.6,
             "#e6f5d0"
            ],
            [
             0.7,
             "#b8e186"
            ],
            [
             0.8,
             "#7fbc41"
            ],
            [
             0.9,
             "#4d9221"
            ],
            [
             1,
             "#276419"
            ]
           ],
           "sequential": [
            [
             0,
             "#0d0887"
            ],
            [
             0.1111111111111111,
             "#46039f"
            ],
            [
             0.2222222222222222,
             "#7201a8"
            ],
            [
             0.3333333333333333,
             "#9c179e"
            ],
            [
             0.4444444444444444,
             "#bd3786"
            ],
            [
             0.5555555555555556,
             "#d8576b"
            ],
            [
             0.6666666666666666,
             "#ed7953"
            ],
            [
             0.7777777777777778,
             "#fb9f3a"
            ],
            [
             0.8888888888888888,
             "#fdca26"
            ],
            [
             1,
             "#f0f921"
            ]
           ],
           "sequentialminus": [
            [
             0,
             "#0d0887"
            ],
            [
             0.1111111111111111,
             "#46039f"
            ],
            [
             0.2222222222222222,
             "#7201a8"
            ],
            [
             0.3333333333333333,
             "#9c179e"
            ],
            [
             0.4444444444444444,
             "#bd3786"
            ],
            [
             0.5555555555555556,
             "#d8576b"
            ],
            [
             0.6666666666666666,
             "#ed7953"
            ],
            [
             0.7777777777777778,
             "#fb9f3a"
            ],
            [
             0.8888888888888888,
             "#fdca26"
            ],
            [
             1,
             "#f0f921"
            ]
           ]
          },
          "colorway": [
           "#636efa",
           "#EF553B",
           "#00cc96",
           "#ab63fa",
           "#FFA15A",
           "#19d3f3",
           "#FF6692",
           "#B6E880",
           "#FF97FF",
           "#FECB52"
          ],
          "font": {
           "color": "#2a3f5f"
          },
          "geo": {
           "bgcolor": "white",
           "lakecolor": "white",
           "landcolor": "#E5ECF6",
           "showlakes": true,
           "showland": true,
           "subunitcolor": "white"
          },
          "hoverlabel": {
           "align": "left"
          },
          "hovermode": "closest",
          "mapbox": {
           "style": "light"
          },
          "paper_bgcolor": "white",
          "plot_bgcolor": "#E5ECF6",
          "polar": {
           "angularaxis": {
            "gridcolor": "white",
            "linecolor": "white",
            "ticks": ""
           },
           "bgcolor": "#E5ECF6",
           "radialaxis": {
            "gridcolor": "white",
            "linecolor": "white",
            "ticks": ""
           }
          },
          "scene": {
           "xaxis": {
            "backgroundcolor": "#E5ECF6",
            "gridcolor": "white",
            "gridwidth": 2,
            "linecolor": "white",
            "showbackground": true,
            "ticks": "",
            "zerolinecolor": "white"
           },
           "yaxis": {
            "backgroundcolor": "#E5ECF6",
            "gridcolor": "white",
            "gridwidth": 2,
            "linecolor": "white",
            "showbackground": true,
            "ticks": "",
            "zerolinecolor": "white"
           },
           "zaxis": {
            "backgroundcolor": "#E5ECF6",
            "gridcolor": "white",
            "gridwidth": 2,
            "linecolor": "white",
            "showbackground": true,
            "ticks": "",
            "zerolinecolor": "white"
           }
          },
          "shapedefaults": {
           "line": {
            "color": "#2a3f5f"
           }
          },
          "ternary": {
           "aaxis": {
            "gridcolor": "white",
            "linecolor": "white",
            "ticks": ""
           },
           "baxis": {
            "gridcolor": "white",
            "linecolor": "white",
            "ticks": ""
           },
           "bgcolor": "#E5ECF6",
           "caxis": {
            "gridcolor": "white",
            "linecolor": "white",
            "ticks": ""
           }
          },
          "title": {
           "x": 0.05
          },
          "xaxis": {
           "automargin": true,
           "gridcolor": "white",
           "linecolor": "white",
           "ticks": "",
           "title": {
            "standoff": 15
           },
           "zerolinecolor": "white",
           "zerolinewidth": 2
          },
          "yaxis": {
           "automargin": true,
           "gridcolor": "white",
           "linecolor": "white",
           "ticks": "",
           "title": {
            "standoff": 15
           },
           "zerolinecolor": "white",
           "zerolinewidth": 2
          }
         }
        },
        "xaxis": {
         "anchor": "y",
         "domain": [
          0,
          1
         ],
         "title": {
          "text": "PC1"
         }
        },
        "yaxis": {
         "anchor": "x",
         "domain": [
          0,
          1
         ],
         "title": {
          "text": "PC2"
         }
        }
       }
      }
     },
     "metadata": {},
     "output_type": "display_data"
    }
   ],
   "source": [
    "# Create scatter plot of `PC2` vs `PC1`\n",
    "fig = px.scatter(data_frame=pcadf, x='PC1', y='PC2', color=labels.astype(str))\n",
    "\n",
    "fig.show()"
   ]
  },
  {
   "cell_type": "code",
   "execution_count": null,
   "metadata": {},
   "outputs": [],
   "source": []
  }
 ],
 "metadata": {
  "kernelspec": {
   "display_name": "mlflowenv",
   "language": "python",
   "name": "python3"
  },
  "language_info": {
   "codemirror_mode": {
    "name": "ipython",
    "version": 3
   },
   "file_extension": ".py",
   "mimetype": "text/x-python",
   "name": "python",
   "nbconvert_exporter": "python",
   "pygments_lexer": "ipython3",
   "version": "3.9.13"
  }
 },
 "nbformat": 4,
 "nbformat_minor": 2
}
